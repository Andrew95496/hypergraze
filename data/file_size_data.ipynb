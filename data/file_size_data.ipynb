{
 "cells": [
  {
   "cell_type": "code",
   "execution_count": 1,
   "metadata": {},
   "outputs": [],
   "source": [
    "import pandas as pd\n",
    "import plotly\n",
    "from os import listdir\n"
   ]
  },
  {
   "cell_type": "code",
   "execution_count": 58,
   "metadata": {},
   "outputs": [
    {
     "name": "stdout",
     "output_type": "stream",
     "text": [
      "     bytes\n",
      "0        2\n",
      "1     4966\n",
      "2     5964\n",
      "3       51\n",
      "4    18401\n",
      "5     3336\n",
      "6     6619\n",
      "7     5113\n",
      "8     6017\n",
      "9    33686\n",
      "10      14\n",
      "11    5664\n",
      "12    5910\n",
      "13    4451\n",
      "14    9995\n",
      "15    5203\n",
      "16   17746\n",
      "17    3174\n",
      "18   54264\n",
      "19   85642\n",
      "20  334209\n",
      "21    5003\n",
      "22    5722\n",
      "23    5096\n",
      "24    5201\n",
      "25    5734\n",
      "26    1616\n",
      "27    7648\n"
     ]
    }
   ],
   "source": [
    "mypath = '/Users/drewskikatana/hypergraze/test/TEST_RESULTS/'\n",
    "\n",
    "files = [mypath + f for f in listdir(mypath) ]\n",
    "file_sizes = []\n",
    "for file in files:\n",
    "    size = os.path.getsize(file)\n",
    "    file_sizes.append(size)\n",
    "df = pd.DataFrame(file_sizes)\n",
    "df.rename(columns={0: 'bytes'}, inplace=True)\n",
    "\n",
    "print(df)"
   ]
  },
  {
   "cell_type": "code",
   "execution_count": 21,
   "metadata": {},
   "outputs": [
    {
     "data": {
      "application/vnd.plotly.v1+json": {
       "config": {
        "plotlyServerURL": "https://plot.ly"
       },
       "data": [
        {
         "alignmentgroup": "True",
         "bingroup": "x",
         "hovertemplate": "bytes=%{x}<br>count=%{y}<extra></extra>",
         "legendgroup": "",
         "marker": {
          "color": "#636efa",
          "pattern": {
           "shape": ""
          }
         },
         "name": "",
         "nbinsx": 100,
         "offsetgroup": "",
         "orientation": "v",
         "showlegend": false,
         "type": "histogram",
         "x": [
          2,
          4966,
          5964,
          51,
          18401,
          3336,
          6619,
          5113,
          6017,
          33686,
          14,
          5664,
          5910,
          4451,
          9995,
          5203,
          17746,
          3174,
          54264,
          85642,
          334209,
          5003,
          5722,
          5096,
          5201,
          5734,
          1616,
          7648
         ],
         "xaxis": "x",
         "yaxis": "y"
        }
       ],
       "layout": {
        "barmode": "relative",
        "legend": {
         "tracegroupgap": 0
        },
        "margin": {
         "t": 60
        },
        "template": {
         "data": {
          "bar": [
           {
            "error_x": {
             "color": "#2a3f5f"
            },
            "error_y": {
             "color": "#2a3f5f"
            },
            "marker": {
             "line": {
              "color": "#E5ECF6",
              "width": 0.5
             },
             "pattern": {
              "fillmode": "overlay",
              "size": 10,
              "solidity": 0.2
             }
            },
            "type": "bar"
           }
          ],
          "barpolar": [
           {
            "marker": {
             "line": {
              "color": "#E5ECF6",
              "width": 0.5
             },
             "pattern": {
              "fillmode": "overlay",
              "size": 10,
              "solidity": 0.2
             }
            },
            "type": "barpolar"
           }
          ],
          "carpet": [
           {
            "aaxis": {
             "endlinecolor": "#2a3f5f",
             "gridcolor": "white",
             "linecolor": "white",
             "minorgridcolor": "white",
             "startlinecolor": "#2a3f5f"
            },
            "baxis": {
             "endlinecolor": "#2a3f5f",
             "gridcolor": "white",
             "linecolor": "white",
             "minorgridcolor": "white",
             "startlinecolor": "#2a3f5f"
            },
            "type": "carpet"
           }
          ],
          "choropleth": [
           {
            "colorbar": {
             "outlinewidth": 0,
             "ticks": ""
            },
            "type": "choropleth"
           }
          ],
          "contour": [
           {
            "colorbar": {
             "outlinewidth": 0,
             "ticks": ""
            },
            "colorscale": [
             [
              0,
              "#0d0887"
             ],
             [
              0.1111111111111111,
              "#46039f"
             ],
             [
              0.2222222222222222,
              "#7201a8"
             ],
             [
              0.3333333333333333,
              "#9c179e"
             ],
             [
              0.4444444444444444,
              "#bd3786"
             ],
             [
              0.5555555555555556,
              "#d8576b"
             ],
             [
              0.6666666666666666,
              "#ed7953"
             ],
             [
              0.7777777777777778,
              "#fb9f3a"
             ],
             [
              0.8888888888888888,
              "#fdca26"
             ],
             [
              1,
              "#f0f921"
             ]
            ],
            "type": "contour"
           }
          ],
          "contourcarpet": [
           {
            "colorbar": {
             "outlinewidth": 0,
             "ticks": ""
            },
            "type": "contourcarpet"
           }
          ],
          "heatmap": [
           {
            "colorbar": {
             "outlinewidth": 0,
             "ticks": ""
            },
            "colorscale": [
             [
              0,
              "#0d0887"
             ],
             [
              0.1111111111111111,
              "#46039f"
             ],
             [
              0.2222222222222222,
              "#7201a8"
             ],
             [
              0.3333333333333333,
              "#9c179e"
             ],
             [
              0.4444444444444444,
              "#bd3786"
             ],
             [
              0.5555555555555556,
              "#d8576b"
             ],
             [
              0.6666666666666666,
              "#ed7953"
             ],
             [
              0.7777777777777778,
              "#fb9f3a"
             ],
             [
              0.8888888888888888,
              "#fdca26"
             ],
             [
              1,
              "#f0f921"
             ]
            ],
            "type": "heatmap"
           }
          ],
          "heatmapgl": [
           {
            "colorbar": {
             "outlinewidth": 0,
             "ticks": ""
            },
            "colorscale": [
             [
              0,
              "#0d0887"
             ],
             [
              0.1111111111111111,
              "#46039f"
             ],
             [
              0.2222222222222222,
              "#7201a8"
             ],
             [
              0.3333333333333333,
              "#9c179e"
             ],
             [
              0.4444444444444444,
              "#bd3786"
             ],
             [
              0.5555555555555556,
              "#d8576b"
             ],
             [
              0.6666666666666666,
              "#ed7953"
             ],
             [
              0.7777777777777778,
              "#fb9f3a"
             ],
             [
              0.8888888888888888,
              "#fdca26"
             ],
             [
              1,
              "#f0f921"
             ]
            ],
            "type": "heatmapgl"
           }
          ],
          "histogram": [
           {
            "marker": {
             "pattern": {
              "fillmode": "overlay",
              "size": 10,
              "solidity": 0.2
             }
            },
            "type": "histogram"
           }
          ],
          "histogram2d": [
           {
            "colorbar": {
             "outlinewidth": 0,
             "ticks": ""
            },
            "colorscale": [
             [
              0,
              "#0d0887"
             ],
             [
              0.1111111111111111,
              "#46039f"
             ],
             [
              0.2222222222222222,
              "#7201a8"
             ],
             [
              0.3333333333333333,
              "#9c179e"
             ],
             [
              0.4444444444444444,
              "#bd3786"
             ],
             [
              0.5555555555555556,
              "#d8576b"
             ],
             [
              0.6666666666666666,
              "#ed7953"
             ],
             [
              0.7777777777777778,
              "#fb9f3a"
             ],
             [
              0.8888888888888888,
              "#fdca26"
             ],
             [
              1,
              "#f0f921"
             ]
            ],
            "type": "histogram2d"
           }
          ],
          "histogram2dcontour": [
           {
            "colorbar": {
             "outlinewidth": 0,
             "ticks": ""
            },
            "colorscale": [
             [
              0,
              "#0d0887"
             ],
             [
              0.1111111111111111,
              "#46039f"
             ],
             [
              0.2222222222222222,
              "#7201a8"
             ],
             [
              0.3333333333333333,
              "#9c179e"
             ],
             [
              0.4444444444444444,
              "#bd3786"
             ],
             [
              0.5555555555555556,
              "#d8576b"
             ],
             [
              0.6666666666666666,
              "#ed7953"
             ],
             [
              0.7777777777777778,
              "#fb9f3a"
             ],
             [
              0.8888888888888888,
              "#fdca26"
             ],
             [
              1,
              "#f0f921"
             ]
            ],
            "type": "histogram2dcontour"
           }
          ],
          "mesh3d": [
           {
            "colorbar": {
             "outlinewidth": 0,
             "ticks": ""
            },
            "type": "mesh3d"
           }
          ],
          "parcoords": [
           {
            "line": {
             "colorbar": {
              "outlinewidth": 0,
              "ticks": ""
             }
            },
            "type": "parcoords"
           }
          ],
          "pie": [
           {
            "automargin": true,
            "type": "pie"
           }
          ],
          "scatter": [
           {
            "marker": {
             "colorbar": {
              "outlinewidth": 0,
              "ticks": ""
             }
            },
            "type": "scatter"
           }
          ],
          "scatter3d": [
           {
            "line": {
             "colorbar": {
              "outlinewidth": 0,
              "ticks": ""
             }
            },
            "marker": {
             "colorbar": {
              "outlinewidth": 0,
              "ticks": ""
             }
            },
            "type": "scatter3d"
           }
          ],
          "scattercarpet": [
           {
            "marker": {
             "colorbar": {
              "outlinewidth": 0,
              "ticks": ""
             }
            },
            "type": "scattercarpet"
           }
          ],
          "scattergeo": [
           {
            "marker": {
             "colorbar": {
              "outlinewidth": 0,
              "ticks": ""
             }
            },
            "type": "scattergeo"
           }
          ],
          "scattergl": [
           {
            "marker": {
             "colorbar": {
              "outlinewidth": 0,
              "ticks": ""
             }
            },
            "type": "scattergl"
           }
          ],
          "scattermapbox": [
           {
            "marker": {
             "colorbar": {
              "outlinewidth": 0,
              "ticks": ""
             }
            },
            "type": "scattermapbox"
           }
          ],
          "scatterpolar": [
           {
            "marker": {
             "colorbar": {
              "outlinewidth": 0,
              "ticks": ""
             }
            },
            "type": "scatterpolar"
           }
          ],
          "scatterpolargl": [
           {
            "marker": {
             "colorbar": {
              "outlinewidth": 0,
              "ticks": ""
             }
            },
            "type": "scatterpolargl"
           }
          ],
          "scatterternary": [
           {
            "marker": {
             "colorbar": {
              "outlinewidth": 0,
              "ticks": ""
             }
            },
            "type": "scatterternary"
           }
          ],
          "surface": [
           {
            "colorbar": {
             "outlinewidth": 0,
             "ticks": ""
            },
            "colorscale": [
             [
              0,
              "#0d0887"
             ],
             [
              0.1111111111111111,
              "#46039f"
             ],
             [
              0.2222222222222222,
              "#7201a8"
             ],
             [
              0.3333333333333333,
              "#9c179e"
             ],
             [
              0.4444444444444444,
              "#bd3786"
             ],
             [
              0.5555555555555556,
              "#d8576b"
             ],
             [
              0.6666666666666666,
              "#ed7953"
             ],
             [
              0.7777777777777778,
              "#fb9f3a"
             ],
             [
              0.8888888888888888,
              "#fdca26"
             ],
             [
              1,
              "#f0f921"
             ]
            ],
            "type": "surface"
           }
          ],
          "table": [
           {
            "cells": {
             "fill": {
              "color": "#EBF0F8"
             },
             "line": {
              "color": "white"
             }
            },
            "header": {
             "fill": {
              "color": "#C8D4E3"
             },
             "line": {
              "color": "white"
             }
            },
            "type": "table"
           }
          ]
         },
         "layout": {
          "annotationdefaults": {
           "arrowcolor": "#2a3f5f",
           "arrowhead": 0,
           "arrowwidth": 1
          },
          "autotypenumbers": "strict",
          "coloraxis": {
           "colorbar": {
            "outlinewidth": 0,
            "ticks": ""
           }
          },
          "colorscale": {
           "diverging": [
            [
             0,
             "#8e0152"
            ],
            [
             0.1,
             "#c51b7d"
            ],
            [
             0.2,
             "#de77ae"
            ],
            [
             0.3,
             "#f1b6da"
            ],
            [
             0.4,
             "#fde0ef"
            ],
            [
             0.5,
             "#f7f7f7"
            ],
            [
             0.6,
             "#e6f5d0"
            ],
            [
             0.7,
             "#b8e186"
            ],
            [
             0.8,
             "#7fbc41"
            ],
            [
             0.9,
             "#4d9221"
            ],
            [
             1,
             "#276419"
            ]
           ],
           "sequential": [
            [
             0,
             "#0d0887"
            ],
            [
             0.1111111111111111,
             "#46039f"
            ],
            [
             0.2222222222222222,
             "#7201a8"
            ],
            [
             0.3333333333333333,
             "#9c179e"
            ],
            [
             0.4444444444444444,
             "#bd3786"
            ],
            [
             0.5555555555555556,
             "#d8576b"
            ],
            [
             0.6666666666666666,
             "#ed7953"
            ],
            [
             0.7777777777777778,
             "#fb9f3a"
            ],
            [
             0.8888888888888888,
             "#fdca26"
            ],
            [
             1,
             "#f0f921"
            ]
           ],
           "sequentialminus": [
            [
             0,
             "#0d0887"
            ],
            [
             0.1111111111111111,
             "#46039f"
            ],
            [
             0.2222222222222222,
             "#7201a8"
            ],
            [
             0.3333333333333333,
             "#9c179e"
            ],
            [
             0.4444444444444444,
             "#bd3786"
            ],
            [
             0.5555555555555556,
             "#d8576b"
            ],
            [
             0.6666666666666666,
             "#ed7953"
            ],
            [
             0.7777777777777778,
             "#fb9f3a"
            ],
            [
             0.8888888888888888,
             "#fdca26"
            ],
            [
             1,
             "#f0f921"
            ]
           ]
          },
          "colorway": [
           "#636efa",
           "#EF553B",
           "#00cc96",
           "#ab63fa",
           "#FFA15A",
           "#19d3f3",
           "#FF6692",
           "#B6E880",
           "#FF97FF",
           "#FECB52"
          ],
          "font": {
           "color": "#2a3f5f"
          },
          "geo": {
           "bgcolor": "white",
           "lakecolor": "white",
           "landcolor": "#E5ECF6",
           "showlakes": true,
           "showland": true,
           "subunitcolor": "white"
          },
          "hoverlabel": {
           "align": "left"
          },
          "hovermode": "closest",
          "mapbox": {
           "style": "light"
          },
          "paper_bgcolor": "white",
          "plot_bgcolor": "#E5ECF6",
          "polar": {
           "angularaxis": {
            "gridcolor": "white",
            "linecolor": "white",
            "ticks": ""
           },
           "bgcolor": "#E5ECF6",
           "radialaxis": {
            "gridcolor": "white",
            "linecolor": "white",
            "ticks": ""
           }
          },
          "scene": {
           "xaxis": {
            "backgroundcolor": "#E5ECF6",
            "gridcolor": "white",
            "gridwidth": 2,
            "linecolor": "white",
            "showbackground": true,
            "ticks": "",
            "zerolinecolor": "white"
           },
           "yaxis": {
            "backgroundcolor": "#E5ECF6",
            "gridcolor": "white",
            "gridwidth": 2,
            "linecolor": "white",
            "showbackground": true,
            "ticks": "",
            "zerolinecolor": "white"
           },
           "zaxis": {
            "backgroundcolor": "#E5ECF6",
            "gridcolor": "white",
            "gridwidth": 2,
            "linecolor": "white",
            "showbackground": true,
            "ticks": "",
            "zerolinecolor": "white"
           }
          },
          "shapedefaults": {
           "line": {
            "color": "#2a3f5f"
           }
          },
          "ternary": {
           "aaxis": {
            "gridcolor": "white",
            "linecolor": "white",
            "ticks": ""
           },
           "baxis": {
            "gridcolor": "white",
            "linecolor": "white",
            "ticks": ""
           },
           "bgcolor": "#E5ECF6",
           "caxis": {
            "gridcolor": "white",
            "linecolor": "white",
            "ticks": ""
           }
          },
          "title": {
           "x": 0.05
          },
          "xaxis": {
           "automargin": true,
           "gridcolor": "white",
           "linecolor": "white",
           "ticks": "",
           "title": {
            "standoff": 15
           },
           "zerolinecolor": "white",
           "zerolinewidth": 2
          },
          "yaxis": {
           "automargin": true,
           "gridcolor": "white",
           "linecolor": "white",
           "ticks": "",
           "title": {
            "standoff": 15
           },
           "zerolinecolor": "white",
           "zerolinewidth": 2
          }
         }
        },
        "xaxis": {
         "anchor": "y",
         "domain": [
          0,
          1
         ],
         "title": {
          "text": "bytes"
         }
        },
        "yaxis": {
         "anchor": "x",
         "domain": [
          0,
          1
         ],
         "title": {
          "text": "count"
         }
        }
       }
      }
     },
     "metadata": {},
     "output_type": "display_data"
    }
   ],
   "source": [
    "import plotly.express as px\n",
    "fig = px.histogram(df, x=\"bytes\", nbins=100)\n",
    "fig.show()"
   ]
  },
  {
   "cell_type": "code",
   "execution_count": 56,
   "metadata": {},
   "outputs": [
    {
     "data": {
      "text/html": [
       "<div>\n",
       "<style scoped>\n",
       "    .dataframe tbody tr th:only-of-type {\n",
       "        vertical-align: middle;\n",
       "    }\n",
       "\n",
       "    .dataframe tbody tr th {\n",
       "        vertical-align: top;\n",
       "    }\n",
       "\n",
       "    .dataframe thead th {\n",
       "        text-align: right;\n",
       "    }\n",
       "</style>\n",
       "<table border=\"1\" class=\"dataframe\">\n",
       "  <thead>\n",
       "    <tr style=\"text-align: right;\">\n",
       "      <th></th>\n",
       "      <th>user_query_id</th>\n",
       "      <th>url</th>\n",
       "      <th>html_tag</th>\n",
       "      <th>file_type</th>\n",
       "      <th>files</th>\n",
       "      <th>date</th>\n",
       "    </tr>\n",
       "  </thead>\n",
       "  <tbody>\n",
       "    <tr>\n",
       "      <th>0</th>\n",
       "      <td>1</td>\n",
       "      <td>https://en.wikipedia.org/wiki/Ultimate_Fightin...</td>\n",
       "      <td>ufc_tables</td>\n",
       "      <td>xlsx</td>\n",
       "      <td>NaN</td>\n",
       "      <td>2021-11-28 21:41:57.867256</td>\n",
       "    </tr>\n",
       "    <tr>\n",
       "      <th>1</th>\n",
       "      <td>2</td>\n",
       "      <td>https://en.wikipedia.org/wiki/Ultimate_Fightin...</td>\n",
       "      <td>ufc_tables</td>\n",
       "      <td>xlsx</td>\n",
       "      <td>NaN</td>\n",
       "      <td>2021-11-28 21:42:49.346032</td>\n",
       "    </tr>\n",
       "    <tr>\n",
       "      <th>2</th>\n",
       "      <td>3</td>\n",
       "      <td>https://www.w3schools.com/sql/sql_create_table...</td>\n",
       "      <td>totoptop</td>\n",
       "      <td>csv</td>\n",
       "      <td>1.0</td>\n",
       "      <td>2021-11-28 21:47:15.003944</td>\n",
       "    </tr>\n",
       "    <tr>\n",
       "      <th>3</th>\n",
       "      <td>4</td>\n",
       "      <td>http://tmall.com/sit/amet/consectetuer/adipisc...</td>\n",
       "      <td>h2</td>\n",
       "      <td>docx</td>\n",
       "      <td>43.0</td>\n",
       "      <td>1953-06-24 22:59:10</td>\n",
       "    </tr>\n",
       "    <tr>\n",
       "      <th>4</th>\n",
       "      <td>5</td>\n",
       "      <td>http://vimeo.com/condimentum/id/luctus.json</td>\n",
       "      <td>h1</td>\n",
       "      <td>docx</td>\n",
       "      <td>59.0</td>\n",
       "      <td>1996-10-31 21:08:58</td>\n",
       "    </tr>\n",
       "    <tr>\n",
       "      <th>...</th>\n",
       "      <td>...</td>\n",
       "      <td>...</td>\n",
       "      <td>...</td>\n",
       "      <td>...</td>\n",
       "      <td>...</td>\n",
       "      <td>...</td>\n",
       "    </tr>\n",
       "    <tr>\n",
       "      <th>998</th>\n",
       "      <td>999</td>\n",
       "      <td>https://joomla.org/nam/dui/proin/leo/odio/port...</td>\n",
       "      <td>div</td>\n",
       "      <td>txt</td>\n",
       "      <td>22.0</td>\n",
       "      <td>2015-05-22 22:14:48</td>\n",
       "    </tr>\n",
       "    <tr>\n",
       "      <th>999</th>\n",
       "      <td>1000</td>\n",
       "      <td>https://paginegialle.it/vestibulum/aliquet/ult...</td>\n",
       "      <td>ol</td>\n",
       "      <td>doc</td>\n",
       "      <td>1.0</td>\n",
       "      <td>1985-04-18 13:30:24</td>\n",
       "    </tr>\n",
       "    <tr>\n",
       "      <th>1000</th>\n",
       "      <td>1001</td>\n",
       "      <td>https://nasa.gov/massa/donec.aspx</td>\n",
       "      <td>p</td>\n",
       "      <td>xlsx</td>\n",
       "      <td>43.0</td>\n",
       "      <td>1981-05-14 09:27:55</td>\n",
       "    </tr>\n",
       "    <tr>\n",
       "      <th>1001</th>\n",
       "      <td>1002</td>\n",
       "      <td>http://youtube.com/magna/at/nunc.xml</td>\n",
       "      <td>ol</td>\n",
       "      <td>html</td>\n",
       "      <td>25.0</td>\n",
       "      <td>1982-12-26 06:44:07</td>\n",
       "    </tr>\n",
       "    <tr>\n",
       "      <th>1002</th>\n",
       "      <td>1003</td>\n",
       "      <td>http://squidoo.com/massa/tempor/convallis/null...</td>\n",
       "      <td>h2</td>\n",
       "      <td>txt</td>\n",
       "      <td>72.0</td>\n",
       "      <td>1939-05-30 18:21:01</td>\n",
       "    </tr>\n",
       "  </tbody>\n",
       "</table>\n",
       "<p>1003 rows × 6 columns</p>\n",
       "</div>"
      ],
      "text/plain": [
       "      user_query_id                                                url  \\\n",
       "0                 1  https://en.wikipedia.org/wiki/Ultimate_Fightin...   \n",
       "1                 2  https://en.wikipedia.org/wiki/Ultimate_Fightin...   \n",
       "2                 3  https://www.w3schools.com/sql/sql_create_table...   \n",
       "3                 4  http://tmall.com/sit/amet/consectetuer/adipisc...   \n",
       "4                 5        http://vimeo.com/condimentum/id/luctus.json   \n",
       "...             ...                                                ...   \n",
       "998             999  https://joomla.org/nam/dui/proin/leo/odio/port...   \n",
       "999            1000  https://paginegialle.it/vestibulum/aliquet/ult...   \n",
       "1000           1001                  https://nasa.gov/massa/donec.aspx   \n",
       "1001           1002               http://youtube.com/magna/at/nunc.xml   \n",
       "1002           1003  http://squidoo.com/massa/tempor/convallis/null...   \n",
       "\n",
       "        html_tag file_type  files                        date  \n",
       "0     ufc_tables      xlsx    NaN  2021-11-28 21:41:57.867256  \n",
       "1     ufc_tables      xlsx    NaN  2021-11-28 21:42:49.346032  \n",
       "2       totoptop       csv    1.0  2021-11-28 21:47:15.003944  \n",
       "3             h2      docx   43.0         1953-06-24 22:59:10  \n",
       "4             h1      docx   59.0         1996-10-31 21:08:58  \n",
       "...          ...       ...    ...                         ...  \n",
       "998          div       txt   22.0         2015-05-22 22:14:48  \n",
       "999           ol       doc    1.0         1985-04-18 13:30:24  \n",
       "1000           p      xlsx   43.0         1981-05-14 09:27:55  \n",
       "1001          ol      html   25.0         1982-12-26 06:44:07  \n",
       "1002          h2       txt   72.0         1939-05-30 18:21:01  \n",
       "\n",
       "[1003 rows x 6 columns]"
      ]
     },
     "execution_count": 56,
     "metadata": {},
     "output_type": "execute_result"
    }
   ],
   "source": [
    "x = pd.read_csv('/Users/drewskikatana/hypergraze/data/user_data.csv')\n",
    "y = pd.read_csv('/Users/drewskikatana/hypergraze/data/web_data.csv')\n",
    "user_data = pd.DataFrame(x)\n",
    "web_data = pd.DataFrame(y)\n",
    "user_data"
   ]
  },
  {
   "cell_type": "code",
   "execution_count": 40,
   "metadata": {},
   "outputs": [
    {
     "data": {
      "application/vnd.plotly.v1+json": {
       "config": {
        "plotlyServerURL": "https://plot.ly"
       },
       "data": [
        {
         "alignmentgroup": "True",
         "bingroup": "x",
         "hovertemplate": "file_type=xlsx<br>html_tag=%{x}<br>count=%{y}<extra></extra>",
         "legendgroup": "xlsx",
         "marker": {
          "color": "#636efa",
          "pattern": {
           "shape": ""
          }
         },
         "name": "xlsx",
         "offsetgroup": "xlsx",
         "orientation": "v",
         "showlegend": true,
         "type": "histogram",
         "x": [
          "ufc_tables",
          "ufc_tables",
          "section",
          "ul",
          "h1",
          "main",
          "p",
          "h2",
          "ul",
          "ol",
          "section",
          "a",
          "main",
          "ul",
          "li",
          "h1",
          "h1",
          "div",
          "h3",
          "div",
          "a",
          "h3",
          "li",
          "section",
          "main",
          "img",
          "p",
          "h2",
          "h2",
          "div",
          "p",
          "section",
          "div",
          "main",
          "div",
          "main",
          "h3",
          "p",
          "ol",
          "img",
          "div",
          "section",
          "p",
          "ul",
          "ol",
          "h3",
          "img",
          "h2",
          "section",
          "a",
          "img",
          "h2",
          "img",
          "h2",
          "h3",
          "p",
          "img",
          "ul",
          "main",
          "a",
          "h2",
          "h2",
          "div",
          "ul",
          "main",
          "img",
          "ul",
          "h2",
          "img",
          "p",
          "div",
          "div",
          "div",
          "div",
          "ul",
          "ul",
          "li",
          "ol",
          "section",
          "section",
          "li",
          "h1",
          "li",
          "h2",
          "h3",
          "a",
          "h3",
          "h3",
          "section",
          "h3",
          "h1",
          "section",
          "h1",
          "a",
          "section",
          "h1",
          "main",
          "h1",
          "h2",
          "li",
          "ul",
          "a",
          "img",
          "ul",
          "a",
          "h3",
          "a",
          "a",
          "h2",
          "h1",
          "ol",
          "ul",
          "ul",
          "div",
          "p",
          "a",
          "main",
          "ol",
          "h1",
          "h2",
          "h2",
          "h2",
          "h2",
          "h3",
          "p"
         ],
         "xaxis": "x",
         "yaxis": "y"
        },
        {
         "alignmentgroup": "True",
         "bingroup": "x",
         "hovertemplate": "file_type=csv<br>html_tag=%{x}<br>count=%{y}<extra></extra>",
         "legendgroup": "csv",
         "marker": {
          "color": "#EF553B",
          "pattern": {
           "shape": ""
          }
         },
         "name": "csv",
         "offsetgroup": "csv",
         "orientation": "v",
         "showlegend": true,
         "type": "histogram",
         "x": [
          "totoptop",
          "a",
          "section",
          "h1",
          "img",
          "p",
          "section",
          "ul",
          "div",
          "h3",
          "div",
          "section",
          "img",
          "ol",
          "div",
          "h3",
          "main",
          "li",
          "img",
          "ul",
          "a",
          "ul",
          "h2",
          "h1",
          "p",
          "ul",
          "h2",
          "h2",
          "section",
          "ol",
          "h2",
          "h1",
          "li",
          "h3",
          "ul",
          "main",
          "ul",
          "h2",
          "div",
          "h1",
          "h1",
          "div",
          "main",
          "h1",
          "li",
          "ol",
          "ol",
          "ul",
          "div",
          "div",
          "a",
          "li",
          "img",
          "a",
          "ol",
          "div",
          "h2",
          "li",
          "section",
          "li",
          "h3",
          "a",
          "main",
          "img",
          "p",
          "h3",
          "main",
          "section",
          "main",
          "section",
          "section",
          "main",
          "section",
          "h3",
          "ul",
          "ol",
          "h1",
          "h1",
          "section",
          "p",
          "img",
          "h3",
          "h1",
          "h2",
          "section",
          "main",
          "section",
          "ol",
          "p",
          "ol",
          "li",
          "section",
          "section",
          "main",
          "h1",
          "h2",
          "li",
          "ol",
          "section",
          "main",
          "div",
          "h1",
          "h2",
          "div",
          "p",
          "div",
          "p",
          "a",
          "section",
          "p",
          "section",
          "section",
          "section",
          "section",
          "h2",
          "a",
          "h2",
          "li",
          "p",
          "li",
          "p",
          "ol",
          "h2",
          "div",
          "h1",
          "h2",
          "img",
          "h3",
          "img",
          "div",
          "ol",
          "p",
          "h3",
          "h2",
          "a",
          "ul",
          "h3"
         ],
         "xaxis": "x",
         "yaxis": "y"
        },
        {
         "alignmentgroup": "True",
         "bingroup": "x",
         "hovertemplate": "file_type=docx<br>html_tag=%{x}<br>count=%{y}<extra></extra>",
         "legendgroup": "docx",
         "marker": {
          "color": "#00cc96",
          "pattern": {
           "shape": ""
          }
         },
         "name": "docx",
         "offsetgroup": "docx",
         "orientation": "v",
         "showlegend": true,
         "type": "histogram",
         "x": [
          "h2",
          "h1",
          "li",
          "li",
          "a",
          "ol",
          "section",
          "ul",
          "ol",
          "h2",
          "a",
          "div",
          "h2",
          "main",
          "h3",
          "li",
          "div",
          "li",
          "a",
          "div",
          "div",
          "a",
          "section",
          "ul",
          "h3",
          "p",
          "h2",
          "section",
          "a",
          "section",
          "ol",
          "ol",
          "a",
          "section",
          "main",
          "section",
          "section",
          "section",
          "ul",
          "ol",
          "li",
          "h3",
          "li",
          "div",
          "p",
          "h3",
          "a",
          "p",
          "main",
          "a",
          "h1",
          "ol",
          "img",
          "h1",
          "p",
          "a",
          "img",
          "p",
          "h2",
          "img",
          "img",
          "h3",
          "a",
          "ul",
          "p",
          "li",
          "p",
          "p",
          "h3",
          "h3",
          "h1",
          "div",
          "h3",
          "a",
          "div",
          "li",
          "h2",
          "main",
          "section",
          "h3",
          "section",
          "ul",
          "section",
          "ul",
          "a",
          "h1",
          "li",
          "h2",
          "img",
          "main",
          "ol",
          "li",
          "p",
          "h1",
          "p",
          "a",
          "h3",
          "div",
          "p",
          "img",
          "h2",
          "h1",
          "section",
          "section",
          "li",
          "h3",
          "div",
          "img",
          "a",
          "ol",
          "main",
          "img",
          "section",
          "main",
          "ul",
          "section",
          "h1",
          "h3"
         ],
         "xaxis": "x",
         "yaxis": "y"
        },
        {
         "alignmentgroup": "True",
         "bingroup": "x",
         "hovertemplate": "file_type=doc<br>html_tag=%{x}<br>count=%{y}<extra></extra>",
         "legendgroup": "doc",
         "marker": {
          "color": "#ab63fa",
          "pattern": {
           "shape": ""
          }
         },
         "name": "doc",
         "offsetgroup": "doc",
         "orientation": "v",
         "showlegend": true,
         "type": "histogram",
         "x": [
          "ul",
          "h1",
          "ul",
          "h3",
          "ul",
          "a",
          "li",
          "ul",
          "p",
          "ul",
          "li",
          "section",
          "section",
          "a",
          "h3",
          "h2",
          "li",
          "ul",
          "p",
          "img",
          "li",
          "p",
          "li",
          "ul",
          "ol",
          "li",
          "img",
          "h1",
          "section",
          "ol",
          "h1",
          "p",
          "ol",
          "main",
          "ol",
          "h2",
          "a",
          "main",
          "ul",
          "h2",
          "p",
          "h2",
          "ul",
          "p",
          "img",
          "li",
          "ul",
          "ol",
          "a",
          "h3",
          "li",
          "div",
          "ul",
          "h2",
          "img",
          "li",
          "h1",
          "li",
          "h3",
          "ol",
          "p",
          "li",
          "ol",
          "h3",
          "section",
          "h3",
          "ul",
          "h2",
          "p",
          "section",
          "h2",
          "ul",
          "p",
          "h2",
          "h2",
          "p",
          "section",
          "a",
          "ul",
          "p",
          "div",
          "h2",
          "ol",
          "ul",
          "ul",
          "main",
          "main",
          "p",
          "div",
          "div",
          "a",
          "p",
          "ul",
          "p",
          "li",
          "p",
          "h1",
          "section",
          "h2",
          "h2",
          "section",
          "img",
          "p",
          "div",
          "main",
          "h1",
          "img",
          "a",
          "img",
          "h1",
          "main",
          "h2",
          "div",
          "div",
          "img",
          "h2",
          "ul",
          "h3",
          "ol",
          "h1",
          "li",
          "h2",
          "section",
          "h1",
          "h1",
          "ul",
          "h1",
          "img",
          "h2",
          "h2",
          "ol",
          "h2",
          "img",
          "img",
          "img",
          "p",
          "ol",
          "h2",
          "ol",
          "h3",
          "li",
          "ol"
         ],
         "xaxis": "x",
         "yaxis": "y"
        },
        {
         "alignmentgroup": "True",
         "bingroup": "x",
         "hovertemplate": "file_type=xls<br>html_tag=%{x}<br>count=%{y}<extra></extra>",
         "legendgroup": "xls",
         "marker": {
          "color": "#FFA15A",
          "pattern": {
           "shape": ""
          }
         },
         "name": "xls",
         "offsetgroup": "xls",
         "orientation": "v",
         "showlegend": true,
         "type": "histogram",
         "x": [
          "section",
          "p",
          "h3",
          "p",
          "p",
          "ol",
          "div",
          "ul",
          "ol",
          "h3",
          "li",
          "li",
          "section",
          "section",
          "h2",
          "img",
          "ol",
          "a",
          "img",
          "ol",
          "main",
          "div",
          "img",
          "section",
          "a",
          "li",
          "main",
          "ul",
          "section",
          "ul",
          "section",
          "main",
          "h2",
          "div",
          "ol",
          "h2",
          "h2",
          "h2",
          "ul",
          "h2",
          "p",
          "div",
          "h3",
          "section",
          "h1",
          "p",
          "ol",
          "h1",
          "p",
          "h1",
          "li",
          "h2",
          "h2",
          "ol",
          "h3",
          "main",
          "ol",
          "h3",
          "h1",
          "ul",
          "p",
          "main",
          "ol",
          "ol",
          "ol",
          "main",
          "a",
          "a",
          "ol",
          "main",
          "ol",
          "div",
          "img",
          "ol",
          "img",
          "h3",
          "p",
          "h2",
          "p",
          "h1",
          "main",
          "ul",
          "img",
          "h1",
          "div",
          "h2",
          "h3",
          "h1",
          "p",
          "li",
          "h2",
          "h2",
          "h3",
          "h3",
          "img",
          "h3",
          "h2",
          "main",
          "h2",
          "h1",
          "h1",
          "main",
          "p",
          "li",
          "h2",
          "div",
          "section",
          "p",
          "main",
          "li"
         ],
         "xaxis": "x",
         "yaxis": "y"
        },
        {
         "alignmentgroup": "True",
         "bingroup": "x",
         "hovertemplate": "file_type=txt<br>html_tag=%{x}<br>count=%{y}<extra></extra>",
         "legendgroup": "txt",
         "marker": {
          "color": "#19d3f3",
          "pattern": {
           "shape": ""
          }
         },
         "name": "txt",
         "offsetgroup": "txt",
         "orientation": "v",
         "showlegend": true,
         "type": "histogram",
         "x": [
          "h3",
          "h2",
          "li",
          "li",
          "section",
          "section",
          "h1",
          "a",
          "section",
          "h2",
          "a",
          "p",
          "div",
          "main",
          "img",
          "div",
          "li",
          "a",
          "a",
          "li",
          "a",
          "ul",
          "section",
          "h1",
          "h2",
          "h2",
          "p",
          "div",
          "section",
          "p",
          "li",
          "div",
          "p",
          "h2",
          "img",
          "p",
          "p",
          "h1",
          "ul",
          "h2",
          "h2",
          "h2",
          "ul",
          "a",
          "p",
          "a",
          "ol",
          "div",
          "h3",
          "a",
          "li",
          "div",
          "main",
          "ol",
          "ul",
          "a",
          "p",
          "h3",
          "div",
          "h3",
          "h2",
          "h2",
          "img",
          "h3",
          "h1",
          "section",
          "img",
          "div",
          "p",
          "section",
          "h2",
          "p",
          "p",
          "section",
          "ul",
          "main",
          "ul",
          "h1",
          "h2",
          "li",
          "img",
          "img",
          "h2",
          "div",
          "ol",
          "li",
          "section",
          "main",
          "h3",
          "a",
          "main",
          "main",
          "ul",
          "section",
          "ol",
          "h1",
          "li",
          "p",
          "li",
          "img",
          "div",
          "li",
          "h2",
          "h3",
          "div",
          "main",
          "h2",
          "main",
          "h3",
          "h1",
          "div",
          "h2"
         ],
         "xaxis": "x",
         "yaxis": "y"
        },
        {
         "alignmentgroup": "True",
         "bingroup": "x",
         "hovertemplate": "file_type=html<br>html_tag=%{x}<br>count=%{y}<extra></extra>",
         "legendgroup": "html",
         "marker": {
          "color": "#FF6692",
          "pattern": {
           "shape": ""
          }
         },
         "name": "html",
         "offsetgroup": "html",
         "orientation": "v",
         "showlegend": true,
         "type": "histogram",
         "x": [
          "ol",
          "main",
          "div",
          "section",
          "h2",
          "h2",
          "h1",
          "h3",
          "h3",
          "p",
          "h1",
          "h2",
          "section",
          "p",
          "p",
          "div",
          "h3",
          "h1",
          "section",
          "div",
          "li",
          "main",
          "h1",
          "div",
          "ul",
          "section",
          "p",
          "img",
          "ul",
          "li",
          "ul",
          "section",
          "p",
          "ul",
          "ul",
          "ul",
          "h3",
          "h1",
          "ol",
          "div",
          "div",
          "main",
          "img",
          "p",
          "a",
          "h3",
          "section",
          "img",
          "div",
          "h2",
          "h1",
          "main",
          "ul",
          "h1",
          "h3",
          "main",
          "a",
          "ul",
          "ol",
          "h1",
          "a",
          "div",
          "ol",
          "p",
          "a",
          "a",
          "a",
          "a",
          "section",
          "h1",
          "p",
          "li",
          "ol",
          "h3",
          "div",
          "a",
          "h1",
          "section",
          "ul",
          "section",
          "img",
          "li",
          "div",
          "h1",
          "div",
          "a",
          "h3",
          "main",
          "h3",
          "h1",
          "h2",
          "h2",
          "p",
          "a",
          "main",
          "ul",
          "h1",
          "h2",
          "main",
          "h1",
          "ul",
          "li",
          "img",
          "h3",
          "h3",
          "a",
          "h3",
          "div",
          "h2",
          "ol",
          "h1",
          "a",
          "a",
          "section",
          "section",
          "img",
          "main",
          "p",
          "a",
          "img",
          "section",
          "ol",
          "ol"
         ],
         "xaxis": "x",
         "yaxis": "y"
        },
        {
         "alignmentgroup": "True",
         "bingroup": "x",
         "hovertemplate": "file_type=pdf<br>html_tag=%{x}<br>count=%{y}<extra></extra>",
         "legendgroup": "pdf",
         "marker": {
          "color": "#B6E880",
          "pattern": {
           "shape": ""
          }
         },
         "name": "pdf",
         "offsetgroup": "pdf",
         "orientation": "v",
         "showlegend": true,
         "type": "histogram",
         "x": [
          "section",
          "a",
          "h2",
          "h2",
          "h3",
          "ul",
          "h1",
          "section",
          "ol",
          "a",
          "h1",
          "ul",
          "h2",
          "h3",
          "ol",
          "ol",
          "h2",
          "p",
          "a",
          "li",
          "img",
          "h3",
          "main",
          "h3",
          "p",
          "li",
          "section",
          "a",
          "a",
          "img",
          "ul",
          "ul",
          "section",
          "h3",
          "section",
          "img",
          "a",
          "li",
          "h2",
          "h1",
          "img",
          "h3",
          "img",
          "main",
          "main",
          "h2",
          "p",
          "ol",
          "ol",
          "h2",
          "img",
          "div",
          "p",
          "h2",
          "p",
          "h1",
          "h1",
          "ol",
          "p",
          "h2",
          "p",
          "img",
          "p",
          "h2",
          "div",
          "h2",
          "ul",
          "li",
          "main",
          "div",
          "li",
          "li",
          "h2",
          "ul",
          "h2",
          "h2",
          "ul",
          "h2",
          "ul",
          "h3",
          "p",
          "ul",
          "h1",
          "li",
          "h2",
          "main",
          "img",
          "main",
          "div",
          "li",
          "li",
          "p",
          "section",
          "main",
          "section",
          "h3",
          "div",
          "p",
          "ul",
          "main",
          "section",
          "a",
          "h3",
          "main",
          "h3",
          "ol",
          "img",
          "p",
          "h2",
          "h3",
          "h3",
          "ol",
          "ol",
          "li",
          "a",
          "h2",
          "div",
          "div",
          "ol",
          "h2",
          "main",
          "img",
          "h3",
          "main",
          "section",
          "a",
          "p",
          "section",
          "ol",
          "h3",
          "h2",
          "h3",
          "section",
          "h2",
          "li",
          "main"
         ],
         "xaxis": "x",
         "yaxis": "y"
        }
       ],
       "layout": {
        "barmode": "relative",
        "legend": {
         "title": {
          "text": "file_type"
         },
         "tracegroupgap": 0
        },
        "margin": {
         "t": 60
        },
        "template": {
         "data": {
          "bar": [
           {
            "error_x": {
             "color": "#2a3f5f"
            },
            "error_y": {
             "color": "#2a3f5f"
            },
            "marker": {
             "line": {
              "color": "#E5ECF6",
              "width": 0.5
             },
             "pattern": {
              "fillmode": "overlay",
              "size": 10,
              "solidity": 0.2
             }
            },
            "type": "bar"
           }
          ],
          "barpolar": [
           {
            "marker": {
             "line": {
              "color": "#E5ECF6",
              "width": 0.5
             },
             "pattern": {
              "fillmode": "overlay",
              "size": 10,
              "solidity": 0.2
             }
            },
            "type": "barpolar"
           }
          ],
          "carpet": [
           {
            "aaxis": {
             "endlinecolor": "#2a3f5f",
             "gridcolor": "white",
             "linecolor": "white",
             "minorgridcolor": "white",
             "startlinecolor": "#2a3f5f"
            },
            "baxis": {
             "endlinecolor": "#2a3f5f",
             "gridcolor": "white",
             "linecolor": "white",
             "minorgridcolor": "white",
             "startlinecolor": "#2a3f5f"
            },
            "type": "carpet"
           }
          ],
          "choropleth": [
           {
            "colorbar": {
             "outlinewidth": 0,
             "ticks": ""
            },
            "type": "choropleth"
           }
          ],
          "contour": [
           {
            "colorbar": {
             "outlinewidth": 0,
             "ticks": ""
            },
            "colorscale": [
             [
              0,
              "#0d0887"
             ],
             [
              0.1111111111111111,
              "#46039f"
             ],
             [
              0.2222222222222222,
              "#7201a8"
             ],
             [
              0.3333333333333333,
              "#9c179e"
             ],
             [
              0.4444444444444444,
              "#bd3786"
             ],
             [
              0.5555555555555556,
              "#d8576b"
             ],
             [
              0.6666666666666666,
              "#ed7953"
             ],
             [
              0.7777777777777778,
              "#fb9f3a"
             ],
             [
              0.8888888888888888,
              "#fdca26"
             ],
             [
              1,
              "#f0f921"
             ]
            ],
            "type": "contour"
           }
          ],
          "contourcarpet": [
           {
            "colorbar": {
             "outlinewidth": 0,
             "ticks": ""
            },
            "type": "contourcarpet"
           }
          ],
          "heatmap": [
           {
            "colorbar": {
             "outlinewidth": 0,
             "ticks": ""
            },
            "colorscale": [
             [
              0,
              "#0d0887"
             ],
             [
              0.1111111111111111,
              "#46039f"
             ],
             [
              0.2222222222222222,
              "#7201a8"
             ],
             [
              0.3333333333333333,
              "#9c179e"
             ],
             [
              0.4444444444444444,
              "#bd3786"
             ],
             [
              0.5555555555555556,
              "#d8576b"
             ],
             [
              0.6666666666666666,
              "#ed7953"
             ],
             [
              0.7777777777777778,
              "#fb9f3a"
             ],
             [
              0.8888888888888888,
              "#fdca26"
             ],
             [
              1,
              "#f0f921"
             ]
            ],
            "type": "heatmap"
           }
          ],
          "heatmapgl": [
           {
            "colorbar": {
             "outlinewidth": 0,
             "ticks": ""
            },
            "colorscale": [
             [
              0,
              "#0d0887"
             ],
             [
              0.1111111111111111,
              "#46039f"
             ],
             [
              0.2222222222222222,
              "#7201a8"
             ],
             [
              0.3333333333333333,
              "#9c179e"
             ],
             [
              0.4444444444444444,
              "#bd3786"
             ],
             [
              0.5555555555555556,
              "#d8576b"
             ],
             [
              0.6666666666666666,
              "#ed7953"
             ],
             [
              0.7777777777777778,
              "#fb9f3a"
             ],
             [
              0.8888888888888888,
              "#fdca26"
             ],
             [
              1,
              "#f0f921"
             ]
            ],
            "type": "heatmapgl"
           }
          ],
          "histogram": [
           {
            "marker": {
             "pattern": {
              "fillmode": "overlay",
              "size": 10,
              "solidity": 0.2
             }
            },
            "type": "histogram"
           }
          ],
          "histogram2d": [
           {
            "colorbar": {
             "outlinewidth": 0,
             "ticks": ""
            },
            "colorscale": [
             [
              0,
              "#0d0887"
             ],
             [
              0.1111111111111111,
              "#46039f"
             ],
             [
              0.2222222222222222,
              "#7201a8"
             ],
             [
              0.3333333333333333,
              "#9c179e"
             ],
             [
              0.4444444444444444,
              "#bd3786"
             ],
             [
              0.5555555555555556,
              "#d8576b"
             ],
             [
              0.6666666666666666,
              "#ed7953"
             ],
             [
              0.7777777777777778,
              "#fb9f3a"
             ],
             [
              0.8888888888888888,
              "#fdca26"
             ],
             [
              1,
              "#f0f921"
             ]
            ],
            "type": "histogram2d"
           }
          ],
          "histogram2dcontour": [
           {
            "colorbar": {
             "outlinewidth": 0,
             "ticks": ""
            },
            "colorscale": [
             [
              0,
              "#0d0887"
             ],
             [
              0.1111111111111111,
              "#46039f"
             ],
             [
              0.2222222222222222,
              "#7201a8"
             ],
             [
              0.3333333333333333,
              "#9c179e"
             ],
             [
              0.4444444444444444,
              "#bd3786"
             ],
             [
              0.5555555555555556,
              "#d8576b"
             ],
             [
              0.6666666666666666,
              "#ed7953"
             ],
             [
              0.7777777777777778,
              "#fb9f3a"
             ],
             [
              0.8888888888888888,
              "#fdca26"
             ],
             [
              1,
              "#f0f921"
             ]
            ],
            "type": "histogram2dcontour"
           }
          ],
          "mesh3d": [
           {
            "colorbar": {
             "outlinewidth": 0,
             "ticks": ""
            },
            "type": "mesh3d"
           }
          ],
          "parcoords": [
           {
            "line": {
             "colorbar": {
              "outlinewidth": 0,
              "ticks": ""
             }
            },
            "type": "parcoords"
           }
          ],
          "pie": [
           {
            "automargin": true,
            "type": "pie"
           }
          ],
          "scatter": [
           {
            "marker": {
             "colorbar": {
              "outlinewidth": 0,
              "ticks": ""
             }
            },
            "type": "scatter"
           }
          ],
          "scatter3d": [
           {
            "line": {
             "colorbar": {
              "outlinewidth": 0,
              "ticks": ""
             }
            },
            "marker": {
             "colorbar": {
              "outlinewidth": 0,
              "ticks": ""
             }
            },
            "type": "scatter3d"
           }
          ],
          "scattercarpet": [
           {
            "marker": {
             "colorbar": {
              "outlinewidth": 0,
              "ticks": ""
             }
            },
            "type": "scattercarpet"
           }
          ],
          "scattergeo": [
           {
            "marker": {
             "colorbar": {
              "outlinewidth": 0,
              "ticks": ""
             }
            },
            "type": "scattergeo"
           }
          ],
          "scattergl": [
           {
            "marker": {
             "colorbar": {
              "outlinewidth": 0,
              "ticks": ""
             }
            },
            "type": "scattergl"
           }
          ],
          "scattermapbox": [
           {
            "marker": {
             "colorbar": {
              "outlinewidth": 0,
              "ticks": ""
             }
            },
            "type": "scattermapbox"
           }
          ],
          "scatterpolar": [
           {
            "marker": {
             "colorbar": {
              "outlinewidth": 0,
              "ticks": ""
             }
            },
            "type": "scatterpolar"
           }
          ],
          "scatterpolargl": [
           {
            "marker": {
             "colorbar": {
              "outlinewidth": 0,
              "ticks": ""
             }
            },
            "type": "scatterpolargl"
           }
          ],
          "scatterternary": [
           {
            "marker": {
             "colorbar": {
              "outlinewidth": 0,
              "ticks": ""
             }
            },
            "type": "scatterternary"
           }
          ],
          "surface": [
           {
            "colorbar": {
             "outlinewidth": 0,
             "ticks": ""
            },
            "colorscale": [
             [
              0,
              "#0d0887"
             ],
             [
              0.1111111111111111,
              "#46039f"
             ],
             [
              0.2222222222222222,
              "#7201a8"
             ],
             [
              0.3333333333333333,
              "#9c179e"
             ],
             [
              0.4444444444444444,
              "#bd3786"
             ],
             [
              0.5555555555555556,
              "#d8576b"
             ],
             [
              0.6666666666666666,
              "#ed7953"
             ],
             [
              0.7777777777777778,
              "#fb9f3a"
             ],
             [
              0.8888888888888888,
              "#fdca26"
             ],
             [
              1,
              "#f0f921"
             ]
            ],
            "type": "surface"
           }
          ],
          "table": [
           {
            "cells": {
             "fill": {
              "color": "#EBF0F8"
             },
             "line": {
              "color": "white"
             }
            },
            "header": {
             "fill": {
              "color": "#C8D4E3"
             },
             "line": {
              "color": "white"
             }
            },
            "type": "table"
           }
          ]
         },
         "layout": {
          "annotationdefaults": {
           "arrowcolor": "#2a3f5f",
           "arrowhead": 0,
           "arrowwidth": 1
          },
          "autotypenumbers": "strict",
          "coloraxis": {
           "colorbar": {
            "outlinewidth": 0,
            "ticks": ""
           }
          },
          "colorscale": {
           "diverging": [
            [
             0,
             "#8e0152"
            ],
            [
             0.1,
             "#c51b7d"
            ],
            [
             0.2,
             "#de77ae"
            ],
            [
             0.3,
             "#f1b6da"
            ],
            [
             0.4,
             "#fde0ef"
            ],
            [
             0.5,
             "#f7f7f7"
            ],
            [
             0.6,
             "#e6f5d0"
            ],
            [
             0.7,
             "#b8e186"
            ],
            [
             0.8,
             "#7fbc41"
            ],
            [
             0.9,
             "#4d9221"
            ],
            [
             1,
             "#276419"
            ]
           ],
           "sequential": [
            [
             0,
             "#0d0887"
            ],
            [
             0.1111111111111111,
             "#46039f"
            ],
            [
             0.2222222222222222,
             "#7201a8"
            ],
            [
             0.3333333333333333,
             "#9c179e"
            ],
            [
             0.4444444444444444,
             "#bd3786"
            ],
            [
             0.5555555555555556,
             "#d8576b"
            ],
            [
             0.6666666666666666,
             "#ed7953"
            ],
            [
             0.7777777777777778,
             "#fb9f3a"
            ],
            [
             0.8888888888888888,
             "#fdca26"
            ],
            [
             1,
             "#f0f921"
            ]
           ],
           "sequentialminus": [
            [
             0,
             "#0d0887"
            ],
            [
             0.1111111111111111,
             "#46039f"
            ],
            [
             0.2222222222222222,
             "#7201a8"
            ],
            [
             0.3333333333333333,
             "#9c179e"
            ],
            [
             0.4444444444444444,
             "#bd3786"
            ],
            [
             0.5555555555555556,
             "#d8576b"
            ],
            [
             0.6666666666666666,
             "#ed7953"
            ],
            [
             0.7777777777777778,
             "#fb9f3a"
            ],
            [
             0.8888888888888888,
             "#fdca26"
            ],
            [
             1,
             "#f0f921"
            ]
           ]
          },
          "colorway": [
           "#636efa",
           "#EF553B",
           "#00cc96",
           "#ab63fa",
           "#FFA15A",
           "#19d3f3",
           "#FF6692",
           "#B6E880",
           "#FF97FF",
           "#FECB52"
          ],
          "font": {
           "color": "#2a3f5f"
          },
          "geo": {
           "bgcolor": "white",
           "lakecolor": "white",
           "landcolor": "#E5ECF6",
           "showlakes": true,
           "showland": true,
           "subunitcolor": "white"
          },
          "hoverlabel": {
           "align": "left"
          },
          "hovermode": "closest",
          "mapbox": {
           "style": "light"
          },
          "paper_bgcolor": "white",
          "plot_bgcolor": "#E5ECF6",
          "polar": {
           "angularaxis": {
            "gridcolor": "white",
            "linecolor": "white",
            "ticks": ""
           },
           "bgcolor": "#E5ECF6",
           "radialaxis": {
            "gridcolor": "white",
            "linecolor": "white",
            "ticks": ""
           }
          },
          "scene": {
           "xaxis": {
            "backgroundcolor": "#E5ECF6",
            "gridcolor": "white",
            "gridwidth": 2,
            "linecolor": "white",
            "showbackground": true,
            "ticks": "",
            "zerolinecolor": "white"
           },
           "yaxis": {
            "backgroundcolor": "#E5ECF6",
            "gridcolor": "white",
            "gridwidth": 2,
            "linecolor": "white",
            "showbackground": true,
            "ticks": "",
            "zerolinecolor": "white"
           },
           "zaxis": {
            "backgroundcolor": "#E5ECF6",
            "gridcolor": "white",
            "gridwidth": 2,
            "linecolor": "white",
            "showbackground": true,
            "ticks": "",
            "zerolinecolor": "white"
           }
          },
          "shapedefaults": {
           "line": {
            "color": "#2a3f5f"
           }
          },
          "ternary": {
           "aaxis": {
            "gridcolor": "white",
            "linecolor": "white",
            "ticks": ""
           },
           "baxis": {
            "gridcolor": "white",
            "linecolor": "white",
            "ticks": ""
           },
           "bgcolor": "#E5ECF6",
           "caxis": {
            "gridcolor": "white",
            "linecolor": "white",
            "ticks": ""
           }
          },
          "title": {
           "x": 0.05
          },
          "xaxis": {
           "automargin": true,
           "gridcolor": "white",
           "linecolor": "white",
           "ticks": "",
           "title": {
            "standoff": 15
           },
           "zerolinecolor": "white",
           "zerolinewidth": 2
          },
          "yaxis": {
           "automargin": true,
           "gridcolor": "white",
           "linecolor": "white",
           "ticks": "",
           "title": {
            "standoff": 15
           },
           "zerolinecolor": "white",
           "zerolinewidth": 2
          }
         }
        },
        "xaxis": {
         "anchor": "y",
         "domain": [
          0,
          1
         ],
         "title": {
          "text": "html_tag"
         }
        },
        "yaxis": {
         "anchor": "x",
         "domain": [
          0,
          1
         ],
         "title": {
          "text": "count"
         }
        }
       }
      }
     },
     "metadata": {},
     "output_type": "display_data"
    }
   ],
   "source": [
    "fig = px.histogram(user_data, x=\"html_tag\",color=\"file_type\")\n",
    "fig.show()"
   ]
  },
  {
   "cell_type": "code",
   "execution_count": 55,
   "metadata": {},
   "outputs": [
    {
     "data": {
      "application/vnd.plotly.v1+json": {
       "config": {
        "plotlyServerURL": "https://plot.ly"
       },
       "data": [
        {
         "hovertemplate": "file_type=xlsx<br>html_tag=%{x}<br>date=%{y}<br>files=%{z}<extra></extra>",
         "legendgroup": "xlsx",
         "marker": {
          "color": "#636efa",
          "symbol": "circle"
         },
         "mode": "markers",
         "name": "xlsx",
         "scene": "scene",
         "showlegend": true,
         "type": "scatter3d",
         "x": [
          "ufc_tables",
          "ufc_tables",
          "section",
          "ul",
          "h1",
          "main",
          "p",
          "h2",
          "ul",
          "ol",
          "section",
          "a",
          "main",
          "ul",
          "li",
          "h1",
          "h1",
          "div",
          "h3",
          "div",
          "a",
          "h3",
          "li",
          "section",
          "main",
          "img",
          "p",
          "h2",
          "h2",
          "div",
          "p",
          "section",
          "div",
          "main",
          "div",
          "main",
          "h3",
          "p",
          "ol",
          "img",
          "div",
          "section",
          "p",
          "ul",
          "ol",
          "h3",
          "img",
          "h2",
          "section",
          "a",
          "img",
          "h2",
          "img",
          "h2",
          "h3",
          "p",
          "img",
          "ul",
          "main",
          "a",
          "h2",
          "h2",
          "div",
          "ul",
          "main",
          "img",
          "ul",
          "h2",
          "img",
          "p",
          "div",
          "div",
          "div",
          "div",
          "ul",
          "ul",
          "li",
          "ol",
          "section",
          "section",
          "li",
          "h1",
          "li",
          "h2",
          "h3",
          "a",
          "h3",
          "h3",
          "section",
          "h3",
          "h1",
          "section",
          "h1",
          "a",
          "section",
          "h1",
          "main",
          "h1",
          "h2",
          "li",
          "ul",
          "a",
          "img",
          "ul",
          "a",
          "h3",
          "a",
          "a",
          "h2",
          "h1",
          "ol",
          "ul",
          "ul",
          "div",
          "p",
          "a",
          "main",
          "ol",
          "h1",
          "h2",
          "h2",
          "h2",
          "h2",
          "h3",
          "p"
         ],
         "y": [
          "2021-11-28 21:41:57.867256",
          "2021-11-28 21:42:49.346032",
          "1973-10-12 04:45:56",
          "1976-11-02 16:45:42",
          "1959-01-18 20:05:53",
          "1963-09-09 02:12:39",
          "1940-11-25 21:42:08",
          "1985-08-23 00:59:55",
          "1978-05-29 19:54:06",
          "1936-07-29 20:15:27",
          "1951-11-25 02:48:09",
          "2007-03-24 05:36:10",
          "1993-11-30 08:45:09",
          "1993-10-07 04:16:40",
          "2004-06-15 13:22:46",
          "1978-08-28 16:13:44",
          "1993-04-27 15:44:52",
          "2006-01-02 05:29:27",
          "2018-08-09 16:19:23",
          "1978-04-17 15:22:26",
          "1961-05-31 00:29:09",
          "2020-02-02 02:52:45",
          "1950-10-07 08:19:22",
          "1938-09-18 14:29:33",
          "1979-04-07 12:54:37",
          "2012-11-19 11:57:49",
          "1943-10-14 00:53:35",
          "1970-04-02 18:12:12",
          "2013-11-18 00:38:57",
          "2013-08-01 12:52:40",
          "1960-04-24 04:40:41",
          "1993-05-15 05:04:04",
          "1957-08-06 22:08:11",
          "1958-11-07 23:07:07",
          "2020-02-10 12:15:31",
          "1953-10-27 00:45:07",
          "1978-01-19 12:46:46",
          "1971-04-13 13:33:33",
          "2010-10-11 22:36:38",
          "2007-09-19 00:18:35",
          "1992-01-17 21:51:03",
          "1939-07-26 06:25:54",
          "1974-09-08 06:20:23",
          "2017-09-19 12:36:56",
          "2006-03-09 09:39:34",
          "2000-04-12 09:58:08",
          "1999-06-19 04:23:32",
          "1943-03-21 12:33:14",
          "1938-07-26 20:46:47",
          "1984-08-17 15:55:24",
          "1944-08-20 21:24:46",
          "1954-03-20 15:41:08",
          "2006-06-26 11:51:29",
          "1946-12-19 19:35:07",
          "1967-11-14 06:52:12",
          "1968-04-29 01:59:50",
          "2021-11-04 14:39:40",
          "1940-08-12 20:03:59",
          "1958-02-23 03:57:10",
          "1939-01-31 11:25:55",
          "1974-11-03 02:52:47",
          "1949-03-08 18:25:33",
          "1993-01-03 23:52:46",
          "2018-12-09 14:43:20",
          "1995-02-17 04:13:20",
          "1973-06-05 23:08:50",
          "2018-12-05 16:03:49",
          "1963-02-22 09:59:39",
          "2008-09-28 06:37:47",
          "2003-09-09 16:34:46",
          "1981-10-31 11:39:22",
          "1942-05-20 06:05:11",
          "1936-06-04 07:07:14",
          "2004-03-11 09:29:51",
          "1962-08-15 15:28:02",
          "1942-01-22 03:05:39",
          "1967-12-21 07:10:41",
          "1968-02-14 07:37:18",
          "1992-04-22 03:38:34",
          "1975-01-16 00:44:56",
          "2014-12-21 23:47:37",
          "2014-01-23 05:57:28",
          "1946-09-20 20:37:02",
          "1977-05-27 19:31:46",
          "1966-05-08 13:50:26",
          "1971-09-14 23:38:20",
          "1960-12-04 23:41:59",
          "1958-03-02 22:27:04",
          "1950-10-16 00:18:50",
          "1947-03-25 20:23:12",
          "2020-04-02 16:06:44",
          "1985-12-24 23:27:04",
          "1950-12-10 03:55:31",
          "1961-02-02 00:22:28",
          "1999-11-17 19:30:36",
          "1936-09-19 22:37:20",
          "1969-05-09 22:03:31",
          "1978-11-20 13:12:38",
          "2008-12-15 12:03:17",
          "1937-12-02 20:54:23",
          "1970-07-22 18:18:30",
          "1959-04-14 07:09:40",
          "1980-04-05 09:10:41",
          "2012-12-18 04:27:36",
          "1966-02-15 16:32:14",
          "2002-11-22 12:03:40",
          "1964-01-02 21:54:23",
          "2012-09-13 06:22:21",
          "1955-04-30 05:19:35",
          "1945-09-25 12:10:36",
          "1979-02-11 22:25:06",
          "1966-12-27 09:52:09",
          "2012-03-22 23:16:05",
          "1980-07-15 21:46:26",
          "1949-05-26 17:28:32",
          "1940-08-20 18:42:43",
          "1936-10-03 22:03:10",
          "2001-01-25 08:33:31",
          "1950-10-18 05:11:29",
          "1995-09-30 03:08:38",
          "1991-12-19 09:37:09",
          "1984-07-22 03:29:28",
          "1995-01-24 00:45:18",
          "1996-01-24 03:49:32",
          "1981-05-14 09:27:55"
         ],
         "z": [
          null,
          null,
          22,
          57,
          57,
          53,
          66,
          14,
          50,
          28,
          11,
          74,
          70,
          75,
          17,
          44,
          18,
          69,
          44,
          73,
          49,
          9,
          72,
          19,
          38,
          36,
          58,
          41,
          28,
          8,
          28,
          5,
          61,
          18,
          60,
          69,
          8,
          68,
          41,
          53,
          55,
          29,
          57,
          39,
          74,
          29,
          57,
          11,
          67,
          21,
          66,
          39,
          27,
          49,
          30,
          43,
          64,
          63,
          40,
          61,
          29,
          21,
          4,
          75,
          5,
          52,
          75,
          52,
          64,
          25,
          61,
          68,
          55,
          65,
          55,
          47,
          38,
          45,
          55,
          1,
          35,
          66,
          56,
          19,
          1,
          6,
          52,
          63,
          60,
          69,
          9,
          58,
          32,
          61,
          25,
          18,
          29,
          25,
          29,
          30,
          66,
          63,
          51,
          70,
          61,
          11,
          57,
          57,
          30,
          9,
          60,
          1,
          67,
          41,
          30,
          66,
          15,
          46,
          18,
          13,
          49,
          44,
          32,
          28,
          43
         ]
        },
        {
         "hovertemplate": "file_type=csv<br>html_tag=%{x}<br>date=%{y}<br>files=%{z}<extra></extra>",
         "legendgroup": "csv",
         "marker": {
          "color": "#EF553B",
          "symbol": "circle"
         },
         "mode": "markers",
         "name": "csv",
         "scene": "scene",
         "showlegend": true,
         "type": "scatter3d",
         "x": [
          "totoptop",
          "a",
          "section",
          "h1",
          "img",
          "p",
          "section",
          "ul",
          "div",
          "h3",
          "div",
          "section",
          "img",
          "ol",
          "div",
          "h3",
          "main",
          "li",
          "img",
          "ul",
          "a",
          "ul",
          "h2",
          "h1",
          "p",
          "ul",
          "h2",
          "h2",
          "section",
          "ol",
          "h2",
          "h1",
          "li",
          "h3",
          "ul",
          "main",
          "ul",
          "h2",
          "div",
          "h1",
          "h1",
          "div",
          "main",
          "h1",
          "li",
          "ol",
          "ol",
          "ul",
          "div",
          "div",
          "a",
          "li",
          "img",
          "a",
          "ol",
          "div",
          "h2",
          "li",
          "section",
          "li",
          "h3",
          "a",
          "main",
          "img",
          "p",
          "h3",
          "main",
          "section",
          "main",
          "section",
          "section",
          "main",
          "section",
          "h3",
          "ul",
          "ol",
          "h1",
          "h1",
          "section",
          "p",
          "img",
          "h3",
          "h1",
          "h2",
          "section",
          "main",
          "section",
          "ol",
          "p",
          "ol",
          "li",
          "section",
          "section",
          "main",
          "h1",
          "h2",
          "li",
          "ol",
          "section",
          "main",
          "div",
          "h1",
          "h2",
          "div",
          "p",
          "div",
          "p",
          "a",
          "section",
          "p",
          "section",
          "section",
          "section",
          "section",
          "h2",
          "a",
          "h2",
          "li",
          "p",
          "li",
          "p",
          "ol",
          "h2",
          "div",
          "h1",
          "h2",
          "img",
          "h3",
          "img",
          "div",
          "ol",
          "p",
          "h3",
          "h2",
          "a",
          "ul",
          "h3"
         ],
         "y": [
          "2021-11-28 21:47:15.003944",
          "1991-10-07 00:55:33",
          "1965-11-03 03:19:07",
          "1948-10-26 16:43:45",
          "1973-12-14 22:54:15",
          "1936-09-04 04:23:54",
          "1973-06-16 10:39:37",
          "2021-03-12 21:52:07",
          "2016-03-11 16:03:59",
          "1997-01-26 10:13:51",
          "1984-05-14 00:22:50",
          "1978-07-07 13:21:51",
          "2018-01-12 01:18:31",
          "1966-10-17 11:00:32",
          "2009-08-22 05:13:57",
          "1966-11-25 02:11:26",
          "1990-03-17 13:21:34",
          "1950-10-20 17:42:46",
          "1992-10-25 17:06:03",
          "1955-10-10 13:53:00",
          "2001-02-18 09:35:37",
          "1979-01-23 23:53:35",
          "2018-05-08 15:05:15",
          "1949-07-31 15:26:04",
          "1981-05-14 19:02:27",
          "1957-12-23 02:13:20",
          "1994-02-10 07:01:55",
          "1945-10-23 22:08:07",
          "1945-06-06 09:55:28",
          "1950-07-01 10:48:55",
          "1971-10-03 06:01:49",
          "1972-08-16 17:56:43",
          "1936-08-15 00:49:31",
          "1943-07-01 15:49:14",
          "1995-12-23 23:46:32",
          "1937-10-14 18:56:52",
          "1943-07-18 10:06:09",
          "1976-07-03 09:26:47",
          "1957-06-27 10:40:32",
          "1961-01-13 02:15:27",
          "1989-04-25 12:54:40",
          "1996-07-12 04:25:27",
          "2011-09-19 15:59:58",
          "1988-11-05 21:43:08",
          "1949-03-14 18:00:44",
          "1949-02-12 02:56:29",
          "1989-03-20 21:23:44",
          "1949-09-24 00:20:02",
          "1963-11-29 03:16:56",
          "1952-10-15 19:52:07",
          "1990-06-01 20:49:46",
          "1952-07-28 10:23:43",
          "1941-10-25 12:40:44",
          "1969-06-28 14:28:31",
          "2020-07-20 20:03:55",
          "1936-02-16 08:29:29",
          "1962-06-03 11:39:02",
          "1988-01-02 15:09:14",
          "2003-06-21 02:41:46",
          "1940-06-22 21:44:41",
          "1955-05-19 07:27:41",
          "2021-03-05 07:53:56",
          "2010-10-11 15:25:50",
          "1996-06-21 14:29:00",
          "1966-04-23 19:40:08",
          "1971-11-30 03:24:15",
          "1949-03-22 00:30:35",
          "1991-12-13 04:04:27",
          "1976-08-24 16:39:08",
          "1974-07-16 13:23:31",
          "1958-01-23 16:13:46",
          "2014-06-14 15:41:51",
          "1955-10-22 17:47:07",
          "2013-10-04 13:49:57",
          "1998-03-27 06:35:10",
          "1950-11-18 02:52:04",
          "1960-04-12 18:25:52",
          "1965-02-17 08:48:50",
          "1986-11-29 20:57:14",
          "1992-06-20 10:33:42",
          "1970-09-07 16:27:01",
          "1993-02-28 11:40:15",
          "1975-11-27 21:46:22",
          "1964-12-05 16:00:57",
          "2004-12-08 19:45:42",
          "1968-02-07 18:12:00",
          "1956-06-08 08:58:19",
          "1975-09-16 06:38:29",
          "2003-08-25 16:16:52",
          "1967-01-21 22:25:08",
          "1972-02-14 20:04:18",
          "1984-12-07 01:26:24",
          "1961-11-05 18:47:33",
          "2003-10-15 23:41:13",
          "1938-05-06 00:33:00",
          "1982-06-27 18:02:35",
          "1986-07-30 07:36:23",
          "2004-05-26 19:45:07",
          "1956-11-20 18:37:17",
          "1952-11-09 11:31:27",
          "2015-06-21 13:18:56",
          "1992-06-18 21:15:38",
          "2015-01-31 13:49:38",
          "1936-01-30 02:42:54",
          "1959-04-21 03:27:44",
          "2005-09-06 15:04:19",
          "1982-07-05 06:52:21",
          "2016-12-16 18:01:42",
          "2003-08-29 23:29:18",
          "2008-12-16 00:43:02",
          "2017-01-03 14:36:44",
          "1973-03-21 00:22:08",
          "1992-06-25 22:42:10",
          "1977-09-21 01:40:33",
          "1968-09-17 11:03:21",
          "1940-12-16 20:15:17",
          "1992-03-27 08:50:06",
          "1983-09-26 08:53:37",
          "1974-06-22 02:56:22",
          "1954-03-30 16:17:36",
          "1936-09-07 05:34:39",
          "1974-07-20 00:40:04",
          "1950-01-07 12:42:50",
          "1975-05-09 05:40:11",
          "1999-05-17 19:32:30",
          "1984-11-13 10:00:57",
          "1975-09-09 01:21:19",
          "1984-05-07 10:45:35",
          "1992-01-18 14:10:43",
          "1962-09-09 19:59:58",
          "1943-11-13 10:26:19",
          "2012-10-05 22:24:05",
          "2004-01-27 15:20:02",
          "1944-02-11 00:46:46",
          "1985-01-11 21:48:18",
          "1980-03-10 06:47:27",
          "1976-11-06 08:11:09"
         ],
         "z": [
          1,
          10,
          18,
          18,
          6,
          43,
          54,
          18,
          50,
          64,
          70,
          14,
          70,
          74,
          29,
          21,
          37,
          45,
          36,
          22,
          8,
          62,
          69,
          10,
          15,
          41,
          4,
          14,
          38,
          52,
          75,
          40,
          13,
          50,
          52,
          53,
          26,
          14,
          74,
          67,
          35,
          10,
          38,
          13,
          16,
          70,
          8,
          31,
          41,
          41,
          3,
          18,
          54,
          53,
          14,
          42,
          70,
          35,
          21,
          18,
          5,
          36,
          37,
          61,
          14,
          19,
          21,
          8,
          70,
          41,
          6,
          44,
          44,
          48,
          61,
          47,
          72,
          38,
          68,
          74,
          17,
          42,
          71,
          44,
          28,
          34,
          42,
          62,
          46,
          54,
          73,
          2,
          75,
          3,
          36,
          36,
          22,
          51,
          27,
          5,
          48,
          7,
          75,
          7,
          13,
          40,
          17,
          35,
          18,
          12,
          22,
          2,
          29,
          39,
          63,
          54,
          25,
          21,
          74,
          11,
          72,
          34,
          12,
          46,
          30,
          61,
          8,
          42,
          64,
          47,
          10,
          32,
          14,
          42,
          45,
          4,
          62
         ]
        },
        {
         "hovertemplate": "file_type=docx<br>html_tag=%{x}<br>date=%{y}<br>files=%{z}<extra></extra>",
         "legendgroup": "docx",
         "marker": {
          "color": "#00cc96",
          "symbol": "circle"
         },
         "mode": "markers",
         "name": "docx",
         "scene": "scene",
         "showlegend": true,
         "type": "scatter3d",
         "x": [
          "h2",
          "h1",
          "li",
          "li",
          "a",
          "ol",
          "section",
          "ul",
          "ol",
          "h2",
          "a",
          "div",
          "h2",
          "main",
          "h3",
          "li",
          "div",
          "li",
          "a",
          "div",
          "div",
          "a",
          "section",
          "ul",
          "h3",
          "p",
          "h2",
          "section",
          "a",
          "section",
          "ol",
          "ol",
          "a",
          "section",
          "main",
          "section",
          "section",
          "section",
          "ul",
          "ol",
          "li",
          "h3",
          "li",
          "div",
          "p",
          "h3",
          "a",
          "p",
          "main",
          "a",
          "h1",
          "ol",
          "img",
          "h1",
          "p",
          "a",
          "img",
          "p",
          "h2",
          "img",
          "img",
          "h3",
          "a",
          "ul",
          "p",
          "li",
          "p",
          "p",
          "h3",
          "h3",
          "h1",
          "div",
          "h3",
          "a",
          "div",
          "li",
          "h2",
          "main",
          "section",
          "h3",
          "section",
          "ul",
          "section",
          "ul",
          "a",
          "h1",
          "li",
          "h2",
          "img",
          "main",
          "ol",
          "li",
          "p",
          "h1",
          "p",
          "a",
          "h3",
          "div",
          "p",
          "img",
          "h2",
          "h1",
          "section",
          "section",
          "li",
          "h3",
          "div",
          "img",
          "a",
          "ol",
          "main",
          "img",
          "section",
          "main",
          "ul",
          "section",
          "h1",
          "h3"
         ],
         "y": [
          "1953-06-24 22:59:10",
          "1996-10-31 21:08:58",
          "1938-05-14 08:15:40",
          "1981-07-22 04:22:28",
          "1981-09-18 16:53:15",
          "1973-07-16 01:35:33",
          "1991-02-21 18:11:55",
          "2012-11-25 19:56:04",
          "1945-05-30 19:55:54",
          "2010-05-05 10:16:23",
          "1999-01-19 16:01:20",
          "1998-06-15 09:40:46",
          "1964-09-13 19:09:19",
          "1959-07-02 14:09:43",
          "1993-11-27 01:05:44",
          "1937-04-30 09:11:22",
          "1948-03-11 12:08:47",
          "1945-09-24 10:48:28",
          "1941-02-04 05:46:30",
          "1938-06-01 00:45:11",
          "1973-03-22 21:27:02",
          "1964-11-15 04:11:21",
          "2018-10-25 17:42:10",
          "1996-11-19 04:59:11",
          "2002-03-13 18:55:03",
          "1939-09-22 00:31:08",
          "1952-04-13 22:08:07",
          "2006-08-06 07:28:52",
          "1960-08-25 15:38:17",
          "1991-10-20 09:14:37",
          "2009-01-21 04:58:02",
          "1964-10-07 14:03:47",
          "1981-03-22 01:59:34",
          "1995-05-13 10:33:14",
          "2005-07-12 00:35:26",
          "1984-06-27 11:18:56",
          "1941-08-23 07:05:53",
          "2008-04-05 20:03:14",
          "1941-10-06 06:47:07",
          "1993-09-07 02:00:17",
          "1968-12-09 17:50:50",
          "1970-04-14 10:58:24",
          "1977-07-29 01:53:06",
          "1960-04-22 22:03:51",
          "1986-03-31 11:41:36",
          "1999-10-08 20:59:57",
          "1978-06-06 15:46:37",
          "1936-03-07 06:32:22",
          "1945-12-27 15:07:28",
          "1953-09-19 04:08:32",
          "1995-11-07 19:15:14",
          "1956-09-25 10:33:23",
          "1984-04-13 11:54:03",
          "1939-07-26 13:39:27",
          "1940-04-28 08:55:32",
          "1979-06-05 20:46:39",
          "1955-09-21 20:24:23",
          "1997-08-21 02:46:44",
          "1955-05-09 21:54:41",
          "2007-10-20 05:35:22",
          "2018-11-23 00:51:03",
          "2017-08-30 15:41:31",
          "1966-12-23 06:36:01",
          "1993-02-23 03:03:00",
          "2008-04-10 23:09:54",
          "1967-09-02 07:14:07",
          "2013-08-11 21:08:54",
          "1975-09-17 20:58:44",
          "2006-01-18 05:36:32",
          "1944-06-12 17:44:07",
          "1943-07-18 03:21:48",
          "1980-06-22 02:33:17",
          "1951-09-24 11:24:27",
          "1971-06-09 21:09:39",
          "1983-03-29 01:15:48",
          "2001-04-01 16:21:17",
          "1946-05-24 00:18:48",
          "1995-09-02 19:51:18",
          "1947-03-11 08:37:31",
          "1989-03-04 08:54:13",
          "1941-10-08 02:08:56",
          "2017-08-30 03:55:59",
          "1978-02-27 05:16:45",
          "1964-03-13 09:39:28",
          "1939-02-15 22:52:08",
          "1958-07-28 15:34:00",
          "1978-12-22 02:21:03",
          "1937-12-30 21:19:04",
          "1978-01-19 23:11:24",
          "1962-10-14 20:54:05",
          "1965-04-12 04:58:32",
          "1980-05-21 00:05:14",
          "2021-06-26 22:52:44",
          "1947-04-03 17:11:25",
          "2001-11-20 14:17:05",
          "1995-07-11 09:31:07",
          "1972-05-25 08:18:45",
          "1980-09-18 00:33:18",
          "1977-03-29 15:07:43",
          "1965-02-22 22:11:33",
          "2017-04-02 00:48:05",
          "2003-04-05 21:39:45",
          "1982-11-27 01:50:21",
          "1998-08-03 09:53:16",
          "2008-05-27 01:01:01",
          "2017-12-27 21:02:49",
          "1942-02-02 01:05:40",
          "1939-03-15 02:45:03",
          "1936-05-23 23:42:56",
          "1982-02-04 14:38:05",
          "1955-11-15 21:07:40",
          "1963-08-07 05:51:08",
          "2014-02-16 00:32:01",
          "1987-12-29 21:41:00",
          "1986-07-25 00:03:51",
          "1939-08-31 02:28:11",
          "1954-01-26 14:36:18",
          "1995-10-03 20:05:46"
         ],
         "z": [
          43,
          59,
          11,
          51,
          41,
          55,
          40,
          54,
          36,
          19,
          20,
          39,
          29,
          19,
          71,
          41,
          72,
          44,
          3,
          15,
          72,
          5,
          46,
          51,
          17,
          41,
          9,
          56,
          19,
          67,
          59,
          60,
          36,
          48,
          7,
          13,
          2,
          30,
          44,
          73,
          71,
          63,
          73,
          20,
          15,
          26,
          74,
          15,
          37,
          25,
          50,
          48,
          31,
          75,
          25,
          21,
          48,
          37,
          44,
          74,
          41,
          42,
          32,
          71,
          4,
          13,
          2,
          51,
          48,
          10,
          1,
          61,
          41,
          3,
          38,
          22,
          38,
          60,
          20,
          38,
          37,
          68,
          28,
          9,
          55,
          1,
          2,
          33,
          12,
          45,
          63,
          26,
          74,
          21,
          54,
          52,
          42,
          4,
          60,
          44,
          39,
          73,
          73,
          47,
          73,
          6,
          10,
          47,
          40,
          48,
          67,
          59,
          46,
          37,
          37,
          7,
          32,
          65
         ]
        },
        {
         "hovertemplate": "file_type=doc<br>html_tag=%{x}<br>date=%{y}<br>files=%{z}<extra></extra>",
         "legendgroup": "doc",
         "marker": {
          "color": "#ab63fa",
          "symbol": "circle"
         },
         "mode": "markers",
         "name": "doc",
         "scene": "scene",
         "showlegend": true,
         "type": "scatter3d",
         "x": [
          "ul",
          "h1",
          "ul",
          "h3",
          "ul",
          "a",
          "li",
          "ul",
          "p",
          "ul",
          "li",
          "section",
          "section",
          "a",
          "h3",
          "h2",
          "li",
          "ul",
          "p",
          "img",
          "li",
          "p",
          "li",
          "ul",
          "ol",
          "li",
          "img",
          "h1",
          "section",
          "ol",
          "h1",
          "p",
          "ol",
          "main",
          "ol",
          "h2",
          "a",
          "main",
          "ul",
          "h2",
          "p",
          "h2",
          "ul",
          "p",
          "img",
          "li",
          "ul",
          "ol",
          "a",
          "h3",
          "li",
          "div",
          "ul",
          "h2",
          "img",
          "li",
          "h1",
          "li",
          "h3",
          "ol",
          "p",
          "li",
          "ol",
          "h3",
          "section",
          "h3",
          "ul",
          "h2",
          "p",
          "section",
          "h2",
          "ul",
          "p",
          "h2",
          "h2",
          "p",
          "section",
          "a",
          "ul",
          "p",
          "div",
          "h2",
          "ol",
          "ul",
          "ul",
          "main",
          "main",
          "p",
          "div",
          "div",
          "a",
          "p",
          "ul",
          "p",
          "li",
          "p",
          "h1",
          "section",
          "h2",
          "h2",
          "section",
          "img",
          "p",
          "div",
          "main",
          "h1",
          "img",
          "a",
          "img",
          "h1",
          "main",
          "h2",
          "div",
          "div",
          "img",
          "h2",
          "ul",
          "h3",
          "ol",
          "h1",
          "li",
          "h2",
          "section",
          "h1",
          "h1",
          "ul",
          "h1",
          "img",
          "h2",
          "h2",
          "ol",
          "h2",
          "img",
          "img",
          "img",
          "p",
          "ol",
          "h2",
          "ol",
          "h3",
          "li",
          "ol"
         ],
         "y": [
          "2000-04-23 00:21:03",
          "1937-06-05 14:54:35",
          "1965-08-20 03:50:26",
          "2018-09-26 23:32:49",
          "2017-04-12 10:22:32",
          "1940-02-29 23:38:27",
          "1949-04-12 19:06:16",
          "1970-04-25 21:46:50",
          "2010-08-23 08:38:37",
          "1984-05-25 22:42:42",
          "2010-09-02 07:30:26",
          "2004-05-25 13:25:23",
          "2010-06-04 20:52:59",
          "2001-01-31 00:20:05",
          "1939-07-04 08:41:09",
          "1973-10-12 14:53:41",
          "1951-11-16 09:51:11",
          "1986-03-17 15:15:25",
          "2016-07-01 16:45:53",
          "2019-08-16 15:21:23",
          "1971-04-23 09:26:09",
          "1949-01-19 07:25:33",
          "1989-08-17 03:37:54",
          "1975-11-12 01:36:30",
          "1973-05-20 05:05:29",
          "1990-05-01 23:02:32",
          "2016-05-10 02:44:30",
          "2001-10-25 22:06:37",
          "1980-04-02 09:43:21",
          "1995-04-27 12:12:59",
          "2010-05-10 21:22:59",
          "1983-02-01 09:45:53",
          "1950-03-24 00:20:13",
          "1944-08-29 12:07:56",
          "1974-11-05 16:02:54",
          "2004-07-05 13:30:05",
          "1966-08-01 10:21:46",
          "1951-12-06 17:33:50",
          "1990-11-25 03:06:33",
          "1979-06-30 00:13:01",
          "1936-06-30 06:07:44",
          "2012-05-28 07:25:51",
          "2012-11-27 18:09:28",
          "2018-05-09 12:59:55",
          "1950-12-28 21:20:17",
          "2002-05-08 15:42:52",
          "1957-01-14 02:02:35",
          "1961-03-16 20:49:26",
          "1961-01-07 15:04:04",
          "1992-09-21 23:40:56",
          "2005-07-30 17:54:15",
          "1936-06-07 01:10:33",
          "1993-10-07 14:46:41",
          "1936-03-01 01:17:34",
          "2000-02-04 23:01:38",
          "1985-05-02 04:33:35",
          "2012-09-19 18:06:41",
          "1977-12-26 13:03:31",
          "1959-12-27 06:45:01",
          "1975-03-10 04:49:23",
          "2011-07-08 06:07:56",
          "1994-11-22 11:43:50",
          "1998-01-17 07:15:03",
          "1980-09-21 19:39:38",
          "1976-07-09 06:06:45",
          "1959-06-09 18:10:35",
          "1980-08-29 06:08:17",
          "1963-05-29 13:54:37",
          "1974-02-27 22:35:39",
          "1959-12-18 19:40:35",
          "1981-06-14 01:09:36",
          "1946-12-17 23:50:51",
          "1994-11-21 11:15:40",
          "1993-12-24 13:58:04",
          "1970-05-30 10:18:18",
          "1988-01-25 20:51:10",
          "2011-08-30 07:38:12",
          "1946-09-29 21:51:10",
          "2006-01-13 05:34:57",
          "1988-08-26 20:22:36",
          "2017-03-24 00:34:59",
          "1950-06-07 05:57:03",
          "1977-04-08 10:40:34",
          "2009-01-14 16:14:23",
          "1972-01-11 10:59:26",
          "2002-09-22 05:22:48",
          "1977-11-07 02:15:19",
          "1958-03-23 03:07:14",
          "1950-04-15 08:16:46",
          "1989-12-23 15:04:09",
          "1937-09-02 12:12:51",
          "1962-09-22 03:16:20",
          "1949-08-31 09:34:07",
          "1940-09-10 12:01:45",
          "1990-06-04 02:07:40",
          "2016-07-28 05:54:56",
          "2018-08-18 14:18:38",
          "1995-11-18 02:41:27",
          "2017-06-24 07:06:38",
          "1943-01-29 12:03:55",
          "1990-08-28 02:07:47",
          "1986-12-17 05:54:02",
          "2008-06-22 11:46:05",
          "2002-04-29 16:07:44",
          "2010-06-16 00:52:09",
          "1982-06-05 07:06:57",
          "2011-12-16 10:21:56",
          "1945-11-13 12:53:15",
          "1965-03-24 17:36:59",
          "1955-01-11 01:42:42",
          "1975-10-18 02:53:21",
          "2016-09-07 07:45:03",
          "2000-02-22 01:17:50",
          "1937-02-20 16:45:28",
          "2001-12-31 05:19:06",
          "1963-08-29 04:13:36",
          "2021-08-07 17:34:26",
          "1977-10-19 14:04:33",
          "1996-01-31 03:38:28",
          "2004-10-19 09:32:13",
          "1939-09-21 05:23:32",
          "1976-06-10 00:01:29",
          "1968-03-07 21:24:31",
          "1941-06-13 12:36:38",
          "2014-10-03 10:34:08",
          "1965-09-29 08:38:20",
          "1973-11-22 14:14:33",
          "1984-07-09 02:56:35",
          "2004-04-03 00:49:50",
          "1998-06-03 06:00:34",
          "2001-10-24 02:51:38",
          "2000-08-08 18:25:40",
          "2001-10-03 08:44:25",
          "1940-04-05 22:29:53",
          "1959-12-31 01:02:04",
          "1961-05-30 12:07:03",
          "1965-03-08 10:07:35",
          "1999-07-16 08:28:20",
          "2010-12-05 12:43:28",
          "2019-06-26 17:48:51",
          "2015-01-28 02:59:28",
          "1985-04-18 13:30:24"
         ],
         "z": [
          21,
          7,
          54,
          54,
          31,
          24,
          71,
          55,
          71,
          35,
          12,
          44,
          49,
          72,
          2,
          9,
          66,
          73,
          58,
          10,
          29,
          11,
          54,
          41,
          38,
          28,
          3,
          51,
          48,
          52,
          23,
          16,
          5,
          27,
          32,
          17,
          15,
          50,
          72,
          70,
          26,
          25,
          60,
          44,
          50,
          47,
          1,
          67,
          45,
          69,
          10,
          39,
          72,
          64,
          74,
          17,
          3,
          55,
          66,
          52,
          65,
          49,
          27,
          49,
          46,
          17,
          13,
          20,
          73,
          50,
          15,
          63,
          58,
          24,
          66,
          14,
          69,
          62,
          42,
          67,
          66,
          18,
          4,
          45,
          56,
          47,
          55,
          62,
          34,
          51,
          19,
          8,
          65,
          71,
          75,
          30,
          67,
          43,
          48,
          60,
          23,
          59,
          58,
          75,
          19,
          60,
          26,
          55,
          35,
          4,
          61,
          49,
          37,
          31,
          26,
          58,
          21,
          39,
          49,
          2,
          18,
          9,
          18,
          72,
          20,
          10,
          43,
          61,
          61,
          53,
          37,
          1,
          15,
          51,
          22,
          41,
          6,
          48,
          12,
          69,
          4,
          1
         ]
        },
        {
         "hovertemplate": "file_type=xls<br>html_tag=%{x}<br>date=%{y}<br>files=%{z}<extra></extra>",
         "legendgroup": "xls",
         "marker": {
          "color": "#FFA15A",
          "symbol": "circle"
         },
         "mode": "markers",
         "name": "xls",
         "scene": "scene",
         "showlegend": true,
         "type": "scatter3d",
         "x": [
          "section",
          "p",
          "h3",
          "p",
          "p",
          "ol",
          "div",
          "ul",
          "ol",
          "h3",
          "li",
          "li",
          "section",
          "section",
          "h2",
          "img",
          "ol",
          "a",
          "img",
          "ol",
          "main",
          "div",
          "img",
          "section",
          "a",
          "li",
          "main",
          "ul",
          "section",
          "ul",
          "section",
          "main",
          "h2",
          "div",
          "ol",
          "h2",
          "h2",
          "h2",
          "ul",
          "h2",
          "p",
          "div",
          "h3",
          "section",
          "h1",
          "p",
          "ol",
          "h1",
          "p",
          "h1",
          "li",
          "h2",
          "h2",
          "ol",
          "h3",
          "main",
          "ol",
          "h3",
          "h1",
          "ul",
          "p",
          "main",
          "ol",
          "ol",
          "ol",
          "main",
          "a",
          "a",
          "ol",
          "main",
          "ol",
          "div",
          "img",
          "ol",
          "img",
          "h3",
          "p",
          "h2",
          "p",
          "h1",
          "main",
          "ul",
          "img",
          "h1",
          "div",
          "h2",
          "h3",
          "h1",
          "p",
          "li",
          "h2",
          "h2",
          "h3",
          "h3",
          "img",
          "h3",
          "h2",
          "main",
          "h2",
          "h1",
          "h1",
          "main",
          "p",
          "li",
          "h2",
          "div",
          "section",
          "p",
          "main",
          "li"
         ],
         "y": [
          "1945-09-27 08:22:41",
          "2009-06-09 00:57:38",
          "1943-08-07 12:50:35",
          "2000-10-06 07:49:26",
          "1989-10-25 17:15:36",
          "2016-11-14 01:58:04",
          "2021-08-29 15:23:52",
          "1978-05-13 06:09:54",
          "1981-10-18 01:23:49",
          "1953-04-27 23:08:19",
          "1944-05-30 17:04:46",
          "1995-02-16 05:43:24",
          "1952-08-11 19:31:21",
          "1948-04-04 05:59:35",
          "1963-06-01 09:29:14",
          "1978-09-16 16:02:58",
          "2001-09-05 17:55:58",
          "1969-02-01 01:54:30",
          "1981-06-06 00:47:21",
          "1968-10-15 20:34:58",
          "1977-05-14 21:02:38",
          "2021-03-19 08:34:48",
          "2015-08-25 23:35:33",
          "1956-07-18 07:02:49",
          "1955-01-10 21:58:04",
          "1969-08-24 08:51:24",
          "2012-12-03 22:35:48",
          "2017-10-01 14:38:35",
          "1973-04-10 16:08:28",
          "1955-07-27 05:04:56",
          "1944-03-26 11:40:43",
          "1978-05-09 21:13:05",
          "1998-02-05 13:17:51",
          "1947-07-16 12:11:18",
          "1985-05-05 19:29:28",
          "2004-12-25 13:16:45",
          "1938-03-18 20:00:14",
          "1959-10-22 01:44:37",
          "2000-05-16 15:15:31",
          "1968-05-10 02:14:38",
          "1938-02-13 11:50:04",
          "1999-09-16 05:35:41",
          "1952-05-29 03:37:48",
          "1986-12-07 21:37:28",
          "1967-10-24 15:48:08",
          "2001-07-26 16:53:46",
          "1936-09-18 12:20:57",
          "1979-06-14 11:29:58",
          "1987-04-28 17:04:28",
          "1973-10-15 21:19:03",
          "1963-07-30 19:20:24",
          "1986-03-01 08:54:30",
          "1959-09-09 09:08:01",
          "1985-07-12 02:25:41",
          "1980-04-10 10:24:11",
          "1960-10-13 16:53:24",
          "1977-10-22 21:07:21",
          "2001-07-06 00:19:51",
          "1973-06-22 17:09:39",
          "2000-02-19 04:56:35",
          "1960-05-26 21:33:40",
          "1941-07-25 21:59:45",
          "1974-01-02 16:12:28",
          "1974-07-07 16:52:50",
          "1960-11-25 17:47:52",
          "2015-01-20 17:30:28",
          "1963-09-28 21:41:43",
          "1946-09-05 10:50:49",
          "2015-10-13 12:47:57",
          "1965-06-27 21:37:18",
          "1938-02-02 18:59:00",
          "1993-06-19 22:20:39",
          "1955-05-24 18:15:04",
          "2012-06-09 14:32:23",
          "1993-12-23 15:46:20",
          "1936-05-28 19:23:43",
          "2018-06-30 22:32:47",
          "1971-06-02 13:43:22",
          "1961-11-12 06:53:48",
          "1974-06-01 06:09:33",
          "1980-01-24 12:51:26",
          "1965-09-19 11:16:03",
          "1968-12-23 07:36:50",
          "1992-08-04 05:51:51",
          "1954-05-13 03:26:04",
          "2006-08-07 04:22:11",
          "2003-10-21 08:53:31",
          "1984-06-05 16:09:39",
          "2004-02-21 23:57:43",
          "1995-07-23 16:47:00",
          "1947-07-26 07:10:42",
          "2004-08-13 08:16:47",
          "1970-05-22 23:11:05",
          "1943-03-14 10:07:29",
          "1979-07-22 13:47:25",
          "1972-10-12 19:54:37",
          "1989-02-25 03:54:18",
          "2006-10-18 11:04:24",
          "1986-11-10 19:12:58",
          "1949-03-20 02:36:06",
          "1997-10-26 06:15:18",
          "1986-03-01 13:16:47",
          "1986-03-19 22:23:12",
          "1967-07-14 20:05:27",
          "2006-09-16 09:08:59",
          "1963-02-17 19:54:31",
          "2010-10-06 14:26:33",
          "1947-05-20 08:29:02",
          "1945-12-28 21:34:19",
          "1966-10-19 16:10:20"
         ],
         "z": [
          30,
          46,
          24,
          25,
          29,
          73,
          8,
          33,
          57,
          32,
          43,
          66,
          11,
          66,
          39,
          38,
          8,
          49,
          52,
          3,
          34,
          48,
          70,
          45,
          13,
          67,
          25,
          67,
          1,
          58,
          59,
          51,
          67,
          25,
          70,
          23,
          11,
          30,
          62,
          25,
          47,
          51,
          46,
          43,
          9,
          21,
          73,
          31,
          8,
          62,
          70,
          30,
          75,
          46,
          58,
          21,
          43,
          14,
          53,
          70,
          41,
          47,
          32,
          19,
          13,
          40,
          30,
          40,
          55,
          50,
          40,
          28,
          23,
          7,
          63,
          59,
          65,
          34,
          63,
          7,
          9,
          2,
          36,
          4,
          43,
          34,
          30,
          5,
          40,
          16,
          3,
          16,
          71,
          69,
          30,
          28,
          44,
          51,
          37,
          45,
          19,
          66,
          50,
          28,
          9,
          1,
          15,
          66,
          45,
          69
         ]
        },
        {
         "hovertemplate": "file_type=txt<br>html_tag=%{x}<br>date=%{y}<br>files=%{z}<extra></extra>",
         "legendgroup": "txt",
         "marker": {
          "color": "#19d3f3",
          "symbol": "circle"
         },
         "mode": "markers",
         "name": "txt",
         "scene": "scene",
         "showlegend": true,
         "type": "scatter3d",
         "x": [
          "h3",
          "h2",
          "li",
          "li",
          "section",
          "section",
          "h1",
          "a",
          "section",
          "h2",
          "a",
          "p",
          "div",
          "main",
          "img",
          "div",
          "li",
          "a",
          "a",
          "li",
          "a",
          "ul",
          "section",
          "h1",
          "h2",
          "h2",
          "p",
          "div",
          "section",
          "p",
          "li",
          "div",
          "p",
          "h2",
          "img",
          "p",
          "p",
          "h1",
          "ul",
          "h2",
          "h2",
          "h2",
          "ul",
          "a",
          "p",
          "a",
          "ol",
          "div",
          "h3",
          "a",
          "li",
          "div",
          "main",
          "ol",
          "ul",
          "a",
          "p",
          "h3",
          "div",
          "h3",
          "h2",
          "h2",
          "img",
          "h3",
          "h1",
          "section",
          "img",
          "div",
          "p",
          "section",
          "h2",
          "p",
          "p",
          "section",
          "ul",
          "main",
          "ul",
          "h1",
          "h2",
          "li",
          "img",
          "img",
          "h2",
          "div",
          "ol",
          "li",
          "section",
          "main",
          "h3",
          "a",
          "main",
          "main",
          "ul",
          "section",
          "ol",
          "h1",
          "li",
          "p",
          "li",
          "img",
          "div",
          "li",
          "h2",
          "h3",
          "div",
          "main",
          "h2",
          "main",
          "h3",
          "h1",
          "div",
          "h2"
         ],
         "y": [
          "1941-10-31 12:32:31",
          "1943-01-17 12:19:40",
          "1998-05-06 18:49:19",
          "2021-02-05 20:43:10",
          "1964-09-03 23:26:55",
          "2003-04-02 08:40:28",
          "2003-06-07 05:04:09",
          "1973-04-04 02:35:49",
          "1975-11-11 00:23:14",
          "1977-07-07 12:57:04",
          "1938-04-19 11:13:44",
          "1961-06-05 10:12:00",
          "1951-06-12 17:50:24",
          "1986-07-28 17:34:55",
          "1987-09-24 08:18:15",
          "1993-05-10 13:42:18",
          "1942-04-02 05:04:35",
          "2004-12-03 10:42:35",
          "1998-06-12 00:41:50",
          "1994-10-29 13:20:44",
          "1956-05-26 14:04:00",
          "2019-09-27 00:56:17",
          "2007-12-31 11:51:13",
          "1995-06-05 22:11:30",
          "2010-06-01 07:30:26",
          "1941-08-13 10:31:46",
          "1979-04-03 17:15:54",
          "1939-07-16 21:41:29",
          "1964-08-20 12:05:03",
          "2004-09-09 10:12:33",
          "1946-06-23 00:38:04",
          "1984-01-21 23:11:19",
          "1938-04-27 00:58:12",
          "1943-06-20 07:57:21",
          "1971-03-26 13:37:27",
          "1983-11-24 17:41:45",
          "1972-12-31 04:53:12",
          "1983-02-11 00:51:54",
          "1993-10-24 03:08:33",
          "2013-12-26 17:15:58",
          "1940-10-02 04:04:29",
          "2004-06-26 08:21:55",
          "2018-10-17 20:18:24",
          "1984-07-01 08:29:32",
          "1960-04-09 03:49:44",
          "2019-04-19 01:00:03",
          "1987-11-17 10:46:43",
          "2001-09-28 17:00:30",
          "1959-07-24 04:04:58",
          "2008-07-11 19:07:16",
          "1947-05-02 19:53:54",
          "2016-10-18 00:42:00",
          "1993-11-06 17:32:06",
          "2010-12-15 21:58:37",
          "2011-08-06 20:13:47",
          "1984-02-14 18:31:25",
          "1999-01-18 20:20:35",
          "1952-01-19 10:11:23",
          "1989-12-15 05:37:21",
          "2009-12-14 03:54:49",
          "1963-11-04 11:31:32",
          "1981-07-31 05:51:44",
          "1977-03-24 16:39:07",
          "2010-02-07 09:53:35",
          "2002-11-23 05:28:01",
          "1947-02-12 12:13:32",
          "1942-04-04 18:44:41",
          "2019-08-18 20:57:53",
          "1965-01-16 03:49:19",
          "1964-10-02 00:52:56",
          "1993-08-21 23:26:40",
          "1980-11-23 09:52:08",
          "1977-12-10 12:46:39",
          "2017-10-07 02:58:46",
          "2011-08-10 10:44:10",
          "1970-03-16 11:41:12",
          "1968-10-28 10:35:02",
          "1991-05-28 08:16:57",
          "1975-03-22 04:51:10",
          "1974-09-27 10:54:14",
          "1996-09-13 11:49:14",
          "1977-05-30 04:27:28",
          "2013-06-23 15:19:52",
          "1989-02-26 06:19:24",
          "1996-10-21 22:28:59",
          "1964-07-01 00:58:14",
          "2008-05-28 19:06:31",
          "2012-10-16 17:15:07",
          "1938-01-02 18:33:59",
          "1956-04-04 06:43:05",
          "1952-07-18 19:09:44",
          "1958-02-05 15:36:45",
          "1942-04-11 12:16:24",
          "1999-08-31 09:13:16",
          "1983-03-17 13:14:46",
          "1939-03-22 09:05:40",
          "1966-09-03 02:27:44",
          "1975-01-21 00:23:31",
          "1996-07-09 18:17:41",
          "1942-05-09 20:48:02",
          "2004-06-04 19:53:40",
          "2019-02-21 04:43:10",
          "1980-01-27 13:22:12",
          "1956-01-19 23:22:09",
          "1983-07-03 07:27:42",
          "1996-08-17 00:09:08",
          "1979-11-13 11:56:09",
          "1983-05-06 06:04:03",
          "1995-01-08 20:37:10",
          "1995-01-05 10:08:45",
          "2015-05-22 22:14:48",
          "1939-05-30 18:21:01"
         ],
         "z": [
          75,
          45,
          25,
          66,
          75,
          33,
          33,
          38,
          67,
          40,
          51,
          74,
          66,
          25,
          37,
          45,
          11,
          75,
          35,
          41,
          69,
          32,
          72,
          71,
          24,
          4,
          37,
          42,
          53,
          2,
          47,
          11,
          12,
          1,
          40,
          24,
          5,
          6,
          16,
          10,
          17,
          33,
          43,
          59,
          30,
          22,
          38,
          31,
          36,
          71,
          14,
          36,
          40,
          18,
          38,
          73,
          44,
          40,
          27,
          75,
          75,
          64,
          52,
          42,
          15,
          21,
          39,
          46,
          69,
          37,
          26,
          51,
          29,
          75,
          32,
          25,
          13,
          74,
          4,
          36,
          35,
          28,
          7,
          17,
          31,
          52,
          2,
          63,
          52,
          22,
          7,
          23,
          61,
          59,
          24,
          38,
          45,
          70,
          66,
          16,
          52,
          16,
          15,
          14,
          47,
          1,
          13,
          49,
          22,
          52,
          22,
          72
         ]
        },
        {
         "hovertemplate": "file_type=html<br>html_tag=%{x}<br>date=%{y}<br>files=%{z}<extra></extra>",
         "legendgroup": "html",
         "marker": {
          "color": "#FF6692",
          "symbol": "circle"
         },
         "mode": "markers",
         "name": "html",
         "scene": "scene",
         "showlegend": true,
         "type": "scatter3d",
         "x": [
          "ol",
          "main",
          "div",
          "section",
          "h2",
          "h2",
          "h1",
          "h3",
          "h3",
          "p",
          "h1",
          "h2",
          "section",
          "p",
          "p",
          "div",
          "h3",
          "h1",
          "section",
          "div",
          "li",
          "main",
          "h1",
          "div",
          "ul",
          "section",
          "p",
          "img",
          "ul",
          "li",
          "ul",
          "section",
          "p",
          "ul",
          "ul",
          "ul",
          "h3",
          "h1",
          "ol",
          "div",
          "div",
          "main",
          "img",
          "p",
          "a",
          "h3",
          "section",
          "img",
          "div",
          "h2",
          "h1",
          "main",
          "ul",
          "h1",
          "h3",
          "main",
          "a",
          "ul",
          "ol",
          "h1",
          "a",
          "div",
          "ol",
          "p",
          "a",
          "a",
          "a",
          "a",
          "section",
          "h1",
          "p",
          "li",
          "ol",
          "h3",
          "div",
          "a",
          "h1",
          "section",
          "ul",
          "section",
          "img",
          "li",
          "div",
          "h1",
          "div",
          "a",
          "h3",
          "main",
          "h3",
          "h1",
          "h2",
          "h2",
          "p",
          "a",
          "main",
          "ul",
          "h1",
          "h2",
          "main",
          "h1",
          "ul",
          "li",
          "img",
          "h3",
          "h3",
          "a",
          "h3",
          "div",
          "h2",
          "ol",
          "h1",
          "a",
          "a",
          "section",
          "section",
          "img",
          "main",
          "p",
          "a",
          "img",
          "section",
          "ol",
          "ol"
         ],
         "y": [
          "2021-09-17 16:28:51",
          "1988-12-30 17:11:51",
          "1945-01-16 11:10:31",
          "1946-04-16 14:08:04",
          "1967-09-24 07:49:48",
          "1966-12-02 05:56:53",
          "1977-11-14 22:26:30",
          "2018-12-06 06:01:27",
          "1943-12-11 08:27:56",
          "2012-11-22 10:04:29",
          "1962-12-12 17:47:14",
          "2010-08-10 04:22:08",
          "1975-02-21 15:45:00",
          "2001-01-21 16:25:12",
          "1969-07-20 11:18:47",
          "1938-12-10 14:42:18",
          "1967-05-15 19:53:51",
          "1969-06-13 14:42:44",
          "2013-09-13 02:44:30",
          "1950-12-07 01:46:41",
          "2014-12-02 17:14:28",
          "1997-12-11 13:43:06",
          "1972-12-21 07:59:16",
          "1950-09-11 08:23:35",
          "1989-05-29 19:56:49",
          "1996-09-29 13:01:59",
          "1941-07-04 14:39:55",
          "1979-10-28 20:31:33",
          "1967-03-22 09:04:20",
          "1984-07-26 14:27:02",
          "1980-06-28 20:03:11",
          "1993-08-14 19:26:29",
          "1963-04-24 12:56:39",
          "2015-09-26 18:51:36",
          "1950-09-23 02:23:11",
          "1977-07-12 13:03:38",
          "1936-01-23 12:30:13",
          "1946-01-05 09:32:01",
          "1962-01-14 01:39:49",
          "2019-05-08 13:45:59",
          "2013-12-04 01:04:41",
          "1962-03-14 00:44:14",
          "2013-10-01 01:56:12",
          "1976-11-26 13:34:31",
          "1955-07-02 00:29:22",
          "2012-01-21 16:50:37",
          "1939-03-16 23:10:56",
          "1983-05-31 20:33:15",
          "1992-09-04 10:06:28",
          "2001-02-10 13:40:03",
          "1970-08-12 11:15:37",
          "1968-02-11 03:05:16",
          "1952-08-29 10:39:33",
          "1967-04-06 09:27:40",
          "1995-02-27 12:47:58",
          "1941-04-19 05:15:59",
          "1947-10-22 12:26:54",
          "1998-06-04 03:32:58",
          "1988-03-19 22:55:56",
          "1952-09-27 00:18:15",
          "1939-08-03 00:27:29",
          "1983-03-05 07:47:10",
          "1963-12-02 21:58:35",
          "1973-03-11 03:38:47",
          "1954-10-23 19:07:42",
          "2015-11-30 14:23:23",
          "1957-03-31 12:19:17",
          "2019-10-26 23:41:24",
          "1988-08-31 00:59:40",
          "1950-09-11 02:04:00",
          "1995-03-24 08:40:27",
          "2012-11-13 02:07:24",
          "1951-11-23 21:41:25",
          "1976-09-26 16:49:41",
          "2020-10-09 11:16:01",
          "1962-01-23 09:56:29",
          "1957-06-10 16:59:00",
          "1986-03-16 07:40:59",
          "1945-02-07 09:56:55",
          "1957-11-22 18:34:26",
          "2002-08-12 11:39:07",
          "1936-04-10 23:40:34",
          "1993-04-12 20:40:50",
          "1986-11-08 15:49:33",
          "1991-06-30 22:48:13",
          "2004-10-16 13:09:44",
          "2015-10-12 11:27:01",
          "1986-04-28 08:09:24",
          "1979-06-18 05:19:52",
          "1967-08-19 14:26:20",
          "1965-07-04 07:40:52",
          "1952-03-25 15:57:27",
          "1945-10-05 07:13:59",
          "1955-01-11 19:11:41",
          "1973-06-25 13:35:56",
          "1977-06-08 01:39:20",
          "1986-07-30 11:48:12",
          "1975-04-14 20:03:13",
          "1964-09-18 06:53:16",
          "1953-02-10 18:55:28",
          "1940-06-19 23:02:14",
          "1991-09-03 02:35:37",
          "1981-09-20 19:27:14",
          "1978-04-03 15:19:13",
          "1948-07-17 06:33:32",
          "2002-04-03 13:36:58",
          "1953-02-04 13:53:15",
          "1938-02-13 08:47:11",
          "1985-10-13 01:08:34",
          "2021-09-13 00:50:00",
          "1957-03-08 22:57:28",
          "1995-11-05 05:30:39",
          "1980-12-11 23:12:31",
          "1968-12-04 10:52:12",
          "1944-11-05 17:30:39",
          "1936-02-13 07:06:33",
          "1953-01-07 22:09:48",
          "1991-09-01 01:47:32",
          "1994-12-11 04:49:45",
          "1996-05-08 10:53:50",
          "2011-02-08 01:46:17",
          "1984-05-03 21:34:34",
          "1982-12-26 06:44:07"
         ],
         "z": [
          10,
          7,
          44,
          56,
          57,
          12,
          2,
          36,
          51,
          72,
          45,
          10,
          47,
          7,
          36,
          54,
          10,
          72,
          9,
          13,
          26,
          1,
          7,
          15,
          42,
          5,
          52,
          30,
          45,
          71,
          38,
          68,
          41,
          28,
          15,
          2,
          12,
          6,
          33,
          21,
          38,
          52,
          7,
          72,
          8,
          45,
          49,
          29,
          16,
          1,
          41,
          60,
          28,
          61,
          42,
          75,
          37,
          6,
          32,
          72,
          38,
          17,
          60,
          40,
          58,
          66,
          69,
          28,
          4,
          8,
          38,
          73,
          43,
          73,
          27,
          21,
          48,
          68,
          56,
          41,
          41,
          70,
          41,
          73,
          73,
          59,
          6,
          69,
          5,
          53,
          5,
          44,
          30,
          16,
          17,
          74,
          33,
          6,
          68,
          25,
          13,
          70,
          41,
          11,
          18,
          71,
          23,
          17,
          8,
          15,
          31,
          72,
          36,
          16,
          52,
          62,
          34,
          50,
          51,
          65,
          58,
          41,
          25
         ]
        },
        {
         "hovertemplate": "file_type=pdf<br>html_tag=%{x}<br>date=%{y}<br>files=%{z}<extra></extra>",
         "legendgroup": "pdf",
         "marker": {
          "color": "#B6E880",
          "symbol": "circle"
         },
         "mode": "markers",
         "name": "pdf",
         "scene": "scene",
         "showlegend": true,
         "type": "scatter3d",
         "x": [
          "section",
          "a",
          "h2",
          "h2",
          "h3",
          "ul",
          "h1",
          "section",
          "ol",
          "a",
          "h1",
          "ul",
          "h2",
          "h3",
          "ol",
          "ol",
          "h2",
          "p",
          "a",
          "li",
          "img",
          "h3",
          "main",
          "h3",
          "p",
          "li",
          "section",
          "a",
          "a",
          "img",
          "ul",
          "ul",
          "section",
          "h3",
          "section",
          "img",
          "a",
          "li",
          "h2",
          "h1",
          "img",
          "h3",
          "img",
          "main",
          "main",
          "h2",
          "p",
          "ol",
          "ol",
          "h2",
          "img",
          "div",
          "p",
          "h2",
          "p",
          "h1",
          "h1",
          "ol",
          "p",
          "h2",
          "p",
          "img",
          "p",
          "h2",
          "div",
          "h2",
          "ul",
          "li",
          "main",
          "div",
          "li",
          "li",
          "h2",
          "ul",
          "h2",
          "h2",
          "ul",
          "h2",
          "ul",
          "h3",
          "p",
          "ul",
          "h1",
          "li",
          "h2",
          "main",
          "img",
          "main",
          "div",
          "li",
          "li",
          "p",
          "section",
          "main",
          "section",
          "h3",
          "div",
          "p",
          "ul",
          "main",
          "section",
          "a",
          "h3",
          "main",
          "h3",
          "ol",
          "img",
          "p",
          "h2",
          "h3",
          "h3",
          "ol",
          "ol",
          "li",
          "a",
          "h2",
          "div",
          "div",
          "ol",
          "h2",
          "main",
          "img",
          "h3",
          "main",
          "section",
          "a",
          "p",
          "section",
          "ol",
          "h3",
          "h2",
          "h3",
          "section",
          "h2",
          "li",
          "main"
         ],
         "y": [
          "2019-12-21 13:43:08",
          "1978-09-26 20:10:01",
          "1970-01-15 06:50:47",
          "1950-04-09 11:53:17",
          "2018-01-29 01:24:08",
          "1940-09-07 23:15:07",
          "1936-11-08 06:19:40",
          "1941-09-22 09:27:31",
          "1975-09-22 18:06:55",
          "1947-05-29 06:55:22",
          "1958-10-21 12:30:26",
          "1972-11-07 15:14:22",
          "1961-07-19 17:17:11",
          "1962-02-26 02:29:02",
          "2012-12-12 13:44:35",
          "1966-01-19 22:53:34",
          "2015-09-25 02:25:13",
          "1977-06-11 04:51:19",
          "1999-08-04 15:31:28",
          "1969-09-02 03:20:20",
          "2013-02-02 13:53:26",
          "1938-08-04 14:30:16",
          "1952-07-19 10:47:10",
          "1990-08-12 07:01:18",
          "1962-03-08 21:39:03",
          "1963-01-06 06:38:22",
          "1939-07-03 21:47:40",
          "1955-06-10 17:20:02",
          "1971-07-27 05:34:57",
          "1945-07-24 15:33:45",
          "1962-12-21 09:38:11",
          "1997-05-21 00:21:02",
          "1972-04-12 20:45:53",
          "2010-05-13 00:26:17",
          "1960-12-16 03:41:51",
          "2021-11-03 11:52:36",
          "1958-02-04 18:58:44",
          "1955-11-28 19:56:00",
          "1959-02-20 12:21:21",
          "1969-09-15 10:49:07",
          "2017-01-29 00:21:42",
          "2013-11-22 08:34:40",
          "1943-02-28 11:38:42",
          "1936-06-05 07:14:12",
          "1952-01-07 02:58:56",
          "2003-05-07 02:11:41",
          "1956-05-10 05:00:48",
          "1939-05-16 17:39:35",
          "1938-12-31 03:09:45",
          "1964-03-04 13:52:32",
          "1996-11-11 00:33:55",
          "1978-06-29 16:36:57",
          "2015-01-05 07:19:17",
          "1941-11-08 00:56:13",
          "1982-05-23 04:11:13",
          "1953-06-04 16:53:10",
          "1967-04-08 17:14:34",
          "1977-07-14 11:59:10",
          "1938-11-27 15:22:07",
          "2006-07-20 08:15:08",
          "1993-07-03 08:07:48",
          "1998-03-04 17:03:50",
          "1940-07-03 19:19:25",
          "2005-09-06 21:22:03",
          "2020-07-31 13:56:37",
          "1982-04-14 02:03:37",
          "1954-01-02 09:32:04",
          "1990-07-28 06:12:32",
          "2005-03-14 02:23:08",
          "2002-05-08 00:49:44",
          "2005-05-26 17:42:33",
          "2006-08-24 05:09:57",
          "2014-09-11 23:50:09",
          "1961-06-13 14:47:49",
          "1990-10-25 13:07:52",
          "1957-05-28 09:35:58",
          "2008-03-07 22:14:34",
          "1975-09-18 18:47:24",
          "1977-01-03 14:49:08",
          "2002-11-20 02:09:22",
          "1952-07-01 07:20:26",
          "1958-03-14 12:07:37",
          "2009-05-14 15:26:52",
          "1960-10-05 07:04:07",
          "1952-04-18 02:46:05",
          "1994-11-03 00:01:21",
          "1996-03-27 15:49:59",
          "2014-05-15 21:29:17",
          "1965-01-08 13:16:48",
          "1937-11-07 09:59:12",
          "2008-04-28 18:48:37",
          "1996-10-07 03:50:27",
          "1979-05-11 08:52:53",
          "1996-02-16 21:40:47",
          "1940-08-20 10:22:33",
          "1998-03-02 17:41:07",
          "2003-01-10 21:26:43",
          "1973-04-26 00:26:40",
          "1944-11-03 00:38:09",
          "1944-11-15 17:37:16",
          "1988-12-23 23:59:53",
          "1990-07-10 13:40:55",
          "1993-08-24 18:24:41",
          "1955-10-17 00:46:01",
          "1975-01-03 01:34:17",
          "2015-10-05 09:43:46",
          "1947-02-19 12:59:08",
          "1936-04-15 04:31:09",
          "2000-03-11 14:57:37",
          "1964-01-01 04:08:11",
          "1945-04-30 23:13:38",
          "1995-03-15 16:02:35",
          "1977-04-26 05:39:25",
          "1991-06-29 23:41:23",
          "1945-08-21 00:09:25",
          "1970-12-03 10:18:17",
          "1936-07-09 18:54:54",
          "2012-04-14 23:51:25",
          "1938-01-21 16:03:03",
          "2015-09-24 01:25:21",
          "1963-10-26 15:24:19",
          "2002-01-08 10:29:51",
          "2006-01-30 18:26:16",
          "1952-07-14 19:42:20",
          "2011-02-05 10:30:04",
          "1937-11-09 17:45:35",
          "1963-05-30 17:21:42",
          "1956-07-21 10:18:09",
          "1944-09-27 09:25:08",
          "1983-09-12 03:47:46",
          "1978-09-15 04:37:39",
          "1950-11-14 19:04:42",
          "2018-07-14 09:44:16",
          "1955-12-16 16:16:40",
          "1983-07-25 21:27:35",
          "2013-03-19 17:22:31"
         ],
         "z": [
          27,
          68,
          10,
          30,
          49,
          5,
          13,
          9,
          35,
          41,
          22,
          22,
          50,
          70,
          15,
          34,
          15,
          55,
          25,
          43,
          29,
          27,
          36,
          20,
          7,
          32,
          47,
          28,
          64,
          41,
          53,
          43,
          60,
          8,
          37,
          69,
          4,
          1,
          64,
          24,
          2,
          20,
          65,
          56,
          53,
          70,
          16,
          68,
          6,
          9,
          28,
          34,
          32,
          50,
          52,
          35,
          55,
          37,
          69,
          38,
          51,
          6,
          64,
          39,
          25,
          2,
          9,
          32,
          74,
          2,
          74,
          46,
          45,
          6,
          29,
          69,
          74,
          24,
          7,
          14,
          24,
          15,
          46,
          14,
          46,
          8,
          6,
          8,
          19,
          53,
          70,
          68,
          62,
          31,
          17,
          67,
          54,
          57,
          44,
          29,
          48,
          13,
          5,
          55,
          1,
          68,
          24,
          63,
          27,
          35,
          73,
          74,
          30,
          57,
          36,
          70,
          39,
          48,
          50,
          66,
          24,
          63,
          22,
          14,
          63,
          25,
          32,
          27,
          55,
          48,
          33,
          13,
          72,
          21,
          13,
          74
         ]
        }
       ],
       "layout": {
        "legend": {
         "title": {
          "text": "file_type"
         },
         "tracegroupgap": 0
        },
        "margin": {
         "t": 60
        },
        "scene": {
         "domain": {
          "x": [
           0,
           1
          ],
          "y": [
           0,
           1
          ]
         },
         "xaxis": {
          "title": {
           "text": "html_tag"
          }
         },
         "yaxis": {
          "title": {
           "text": "date"
          }
         },
         "zaxis": {
          "title": {
           "text": "files"
          }
         }
        },
        "template": {
         "data": {
          "bar": [
           {
            "error_x": {
             "color": "#2a3f5f"
            },
            "error_y": {
             "color": "#2a3f5f"
            },
            "marker": {
             "line": {
              "color": "#E5ECF6",
              "width": 0.5
             },
             "pattern": {
              "fillmode": "overlay",
              "size": 10,
              "solidity": 0.2
             }
            },
            "type": "bar"
           }
          ],
          "barpolar": [
           {
            "marker": {
             "line": {
              "color": "#E5ECF6",
              "width": 0.5
             },
             "pattern": {
              "fillmode": "overlay",
              "size": 10,
              "solidity": 0.2
             }
            },
            "type": "barpolar"
           }
          ],
          "carpet": [
           {
            "aaxis": {
             "endlinecolor": "#2a3f5f",
             "gridcolor": "white",
             "linecolor": "white",
             "minorgridcolor": "white",
             "startlinecolor": "#2a3f5f"
            },
            "baxis": {
             "endlinecolor": "#2a3f5f",
             "gridcolor": "white",
             "linecolor": "white",
             "minorgridcolor": "white",
             "startlinecolor": "#2a3f5f"
            },
            "type": "carpet"
           }
          ],
          "choropleth": [
           {
            "colorbar": {
             "outlinewidth": 0,
             "ticks": ""
            },
            "type": "choropleth"
           }
          ],
          "contour": [
           {
            "colorbar": {
             "outlinewidth": 0,
             "ticks": ""
            },
            "colorscale": [
             [
              0,
              "#0d0887"
             ],
             [
              0.1111111111111111,
              "#46039f"
             ],
             [
              0.2222222222222222,
              "#7201a8"
             ],
             [
              0.3333333333333333,
              "#9c179e"
             ],
             [
              0.4444444444444444,
              "#bd3786"
             ],
             [
              0.5555555555555556,
              "#d8576b"
             ],
             [
              0.6666666666666666,
              "#ed7953"
             ],
             [
              0.7777777777777778,
              "#fb9f3a"
             ],
             [
              0.8888888888888888,
              "#fdca26"
             ],
             [
              1,
              "#f0f921"
             ]
            ],
            "type": "contour"
           }
          ],
          "contourcarpet": [
           {
            "colorbar": {
             "outlinewidth": 0,
             "ticks": ""
            },
            "type": "contourcarpet"
           }
          ],
          "heatmap": [
           {
            "colorbar": {
             "outlinewidth": 0,
             "ticks": ""
            },
            "colorscale": [
             [
              0,
              "#0d0887"
             ],
             [
              0.1111111111111111,
              "#46039f"
             ],
             [
              0.2222222222222222,
              "#7201a8"
             ],
             [
              0.3333333333333333,
              "#9c179e"
             ],
             [
              0.4444444444444444,
              "#bd3786"
             ],
             [
              0.5555555555555556,
              "#d8576b"
             ],
             [
              0.6666666666666666,
              "#ed7953"
             ],
             [
              0.7777777777777778,
              "#fb9f3a"
             ],
             [
              0.8888888888888888,
              "#fdca26"
             ],
             [
              1,
              "#f0f921"
             ]
            ],
            "type": "heatmap"
           }
          ],
          "heatmapgl": [
           {
            "colorbar": {
             "outlinewidth": 0,
             "ticks": ""
            },
            "colorscale": [
             [
              0,
              "#0d0887"
             ],
             [
              0.1111111111111111,
              "#46039f"
             ],
             [
              0.2222222222222222,
              "#7201a8"
             ],
             [
              0.3333333333333333,
              "#9c179e"
             ],
             [
              0.4444444444444444,
              "#bd3786"
             ],
             [
              0.5555555555555556,
              "#d8576b"
             ],
             [
              0.6666666666666666,
              "#ed7953"
             ],
             [
              0.7777777777777778,
              "#fb9f3a"
             ],
             [
              0.8888888888888888,
              "#fdca26"
             ],
             [
              1,
              "#f0f921"
             ]
            ],
            "type": "heatmapgl"
           }
          ],
          "histogram": [
           {
            "marker": {
             "pattern": {
              "fillmode": "overlay",
              "size": 10,
              "solidity": 0.2
             }
            },
            "type": "histogram"
           }
          ],
          "histogram2d": [
           {
            "colorbar": {
             "outlinewidth": 0,
             "ticks": ""
            },
            "colorscale": [
             [
              0,
              "#0d0887"
             ],
             [
              0.1111111111111111,
              "#46039f"
             ],
             [
              0.2222222222222222,
              "#7201a8"
             ],
             [
              0.3333333333333333,
              "#9c179e"
             ],
             [
              0.4444444444444444,
              "#bd3786"
             ],
             [
              0.5555555555555556,
              "#d8576b"
             ],
             [
              0.6666666666666666,
              "#ed7953"
             ],
             [
              0.7777777777777778,
              "#fb9f3a"
             ],
             [
              0.8888888888888888,
              "#fdca26"
             ],
             [
              1,
              "#f0f921"
             ]
            ],
            "type": "histogram2d"
           }
          ],
          "histogram2dcontour": [
           {
            "colorbar": {
             "outlinewidth": 0,
             "ticks": ""
            },
            "colorscale": [
             [
              0,
              "#0d0887"
             ],
             [
              0.1111111111111111,
              "#46039f"
             ],
             [
              0.2222222222222222,
              "#7201a8"
             ],
             [
              0.3333333333333333,
              "#9c179e"
             ],
             [
              0.4444444444444444,
              "#bd3786"
             ],
             [
              0.5555555555555556,
              "#d8576b"
             ],
             [
              0.6666666666666666,
              "#ed7953"
             ],
             [
              0.7777777777777778,
              "#fb9f3a"
             ],
             [
              0.8888888888888888,
              "#fdca26"
             ],
             [
              1,
              "#f0f921"
             ]
            ],
            "type": "histogram2dcontour"
           }
          ],
          "mesh3d": [
           {
            "colorbar": {
             "outlinewidth": 0,
             "ticks": ""
            },
            "type": "mesh3d"
           }
          ],
          "parcoords": [
           {
            "line": {
             "colorbar": {
              "outlinewidth": 0,
              "ticks": ""
             }
            },
            "type": "parcoords"
           }
          ],
          "pie": [
           {
            "automargin": true,
            "type": "pie"
           }
          ],
          "scatter": [
           {
            "marker": {
             "colorbar": {
              "outlinewidth": 0,
              "ticks": ""
             }
            },
            "type": "scatter"
           }
          ],
          "scatter3d": [
           {
            "line": {
             "colorbar": {
              "outlinewidth": 0,
              "ticks": ""
             }
            },
            "marker": {
             "colorbar": {
              "outlinewidth": 0,
              "ticks": ""
             }
            },
            "type": "scatter3d"
           }
          ],
          "scattercarpet": [
           {
            "marker": {
             "colorbar": {
              "outlinewidth": 0,
              "ticks": ""
             }
            },
            "type": "scattercarpet"
           }
          ],
          "scattergeo": [
           {
            "marker": {
             "colorbar": {
              "outlinewidth": 0,
              "ticks": ""
             }
            },
            "type": "scattergeo"
           }
          ],
          "scattergl": [
           {
            "marker": {
             "colorbar": {
              "outlinewidth": 0,
              "ticks": ""
             }
            },
            "type": "scattergl"
           }
          ],
          "scattermapbox": [
           {
            "marker": {
             "colorbar": {
              "outlinewidth": 0,
              "ticks": ""
             }
            },
            "type": "scattermapbox"
           }
          ],
          "scatterpolar": [
           {
            "marker": {
             "colorbar": {
              "outlinewidth": 0,
              "ticks": ""
             }
            },
            "type": "scatterpolar"
           }
          ],
          "scatterpolargl": [
           {
            "marker": {
             "colorbar": {
              "outlinewidth": 0,
              "ticks": ""
             }
            },
            "type": "scatterpolargl"
           }
          ],
          "scatterternary": [
           {
            "marker": {
             "colorbar": {
              "outlinewidth": 0,
              "ticks": ""
             }
            },
            "type": "scatterternary"
           }
          ],
          "surface": [
           {
            "colorbar": {
             "outlinewidth": 0,
             "ticks": ""
            },
            "colorscale": [
             [
              0,
              "#0d0887"
             ],
             [
              0.1111111111111111,
              "#46039f"
             ],
             [
              0.2222222222222222,
              "#7201a8"
             ],
             [
              0.3333333333333333,
              "#9c179e"
             ],
             [
              0.4444444444444444,
              "#bd3786"
             ],
             [
              0.5555555555555556,
              "#d8576b"
             ],
             [
              0.6666666666666666,
              "#ed7953"
             ],
             [
              0.7777777777777778,
              "#fb9f3a"
             ],
             [
              0.8888888888888888,
              "#fdca26"
             ],
             [
              1,
              "#f0f921"
             ]
            ],
            "type": "surface"
           }
          ],
          "table": [
           {
            "cells": {
             "fill": {
              "color": "#EBF0F8"
             },
             "line": {
              "color": "white"
             }
            },
            "header": {
             "fill": {
              "color": "#C8D4E3"
             },
             "line": {
              "color": "white"
             }
            },
            "type": "table"
           }
          ]
         },
         "layout": {
          "annotationdefaults": {
           "arrowcolor": "#2a3f5f",
           "arrowhead": 0,
           "arrowwidth": 1
          },
          "autotypenumbers": "strict",
          "coloraxis": {
           "colorbar": {
            "outlinewidth": 0,
            "ticks": ""
           }
          },
          "colorscale": {
           "diverging": [
            [
             0,
             "#8e0152"
            ],
            [
             0.1,
             "#c51b7d"
            ],
            [
             0.2,
             "#de77ae"
            ],
            [
             0.3,
             "#f1b6da"
            ],
            [
             0.4,
             "#fde0ef"
            ],
            [
             0.5,
             "#f7f7f7"
            ],
            [
             0.6,
             "#e6f5d0"
            ],
            [
             0.7,
             "#b8e186"
            ],
            [
             0.8,
             "#7fbc41"
            ],
            [
             0.9,
             "#4d9221"
            ],
            [
             1,
             "#276419"
            ]
           ],
           "sequential": [
            [
             0,
             "#0d0887"
            ],
            [
             0.1111111111111111,
             "#46039f"
            ],
            [
             0.2222222222222222,
             "#7201a8"
            ],
            [
             0.3333333333333333,
             "#9c179e"
            ],
            [
             0.4444444444444444,
             "#bd3786"
            ],
            [
             0.5555555555555556,
             "#d8576b"
            ],
            [
             0.6666666666666666,
             "#ed7953"
            ],
            [
             0.7777777777777778,
             "#fb9f3a"
            ],
            [
             0.8888888888888888,
             "#fdca26"
            ],
            [
             1,
             "#f0f921"
            ]
           ],
           "sequentialminus": [
            [
             0,
             "#0d0887"
            ],
            [
             0.1111111111111111,
             "#46039f"
            ],
            [
             0.2222222222222222,
             "#7201a8"
            ],
            [
             0.3333333333333333,
             "#9c179e"
            ],
            [
             0.4444444444444444,
             "#bd3786"
            ],
            [
             0.5555555555555556,
             "#d8576b"
            ],
            [
             0.6666666666666666,
             "#ed7953"
            ],
            [
             0.7777777777777778,
             "#fb9f3a"
            ],
            [
             0.8888888888888888,
             "#fdca26"
            ],
            [
             1,
             "#f0f921"
            ]
           ]
          },
          "colorway": [
           "#636efa",
           "#EF553B",
           "#00cc96",
           "#ab63fa",
           "#FFA15A",
           "#19d3f3",
           "#FF6692",
           "#B6E880",
           "#FF97FF",
           "#FECB52"
          ],
          "font": {
           "color": "#2a3f5f"
          },
          "geo": {
           "bgcolor": "white",
           "lakecolor": "white",
           "landcolor": "#E5ECF6",
           "showlakes": true,
           "showland": true,
           "subunitcolor": "white"
          },
          "hoverlabel": {
           "align": "left"
          },
          "hovermode": "closest",
          "mapbox": {
           "style": "light"
          },
          "paper_bgcolor": "white",
          "plot_bgcolor": "#E5ECF6",
          "polar": {
           "angularaxis": {
            "gridcolor": "white",
            "linecolor": "white",
            "ticks": ""
           },
           "bgcolor": "#E5ECF6",
           "radialaxis": {
            "gridcolor": "white",
            "linecolor": "white",
            "ticks": ""
           }
          },
          "scene": {
           "xaxis": {
            "backgroundcolor": "#E5ECF6",
            "gridcolor": "white",
            "gridwidth": 2,
            "linecolor": "white",
            "showbackground": true,
            "ticks": "",
            "zerolinecolor": "white"
           },
           "yaxis": {
            "backgroundcolor": "#E5ECF6",
            "gridcolor": "white",
            "gridwidth": 2,
            "linecolor": "white",
            "showbackground": true,
            "ticks": "",
            "zerolinecolor": "white"
           },
           "zaxis": {
            "backgroundcolor": "#E5ECF6",
            "gridcolor": "white",
            "gridwidth": 2,
            "linecolor": "white",
            "showbackground": true,
            "ticks": "",
            "zerolinecolor": "white"
           }
          },
          "shapedefaults": {
           "line": {
            "color": "#2a3f5f"
           }
          },
          "ternary": {
           "aaxis": {
            "gridcolor": "white",
            "linecolor": "white",
            "ticks": ""
           },
           "baxis": {
            "gridcolor": "white",
            "linecolor": "white",
            "ticks": ""
           },
           "bgcolor": "#E5ECF6",
           "caxis": {
            "gridcolor": "white",
            "linecolor": "white",
            "ticks": ""
           }
          },
          "title": {
           "x": 0.05
          },
          "xaxis": {
           "automargin": true,
           "gridcolor": "white",
           "linecolor": "white",
           "ticks": "",
           "title": {
            "standoff": 15
           },
           "zerolinecolor": "white",
           "zerolinewidth": 2
          },
          "yaxis": {
           "automargin": true,
           "gridcolor": "white",
           "linecolor": "white",
           "ticks": "",
           "title": {
            "standoff": 15
           },
           "zerolinecolor": "white",
           "zerolinewidth": 2
          }
         }
        }
       }
      }
     },
     "metadata": {},
     "output_type": "display_data"
    }
   ],
   "source": [
    "fig = px.scatter_3d(user_data, x='html_tag', y='date', z='files', color='file_type')\n",
    "fig.show()\n"
   ]
  },
  {
   "cell_type": "code",
   "execution_count": 51,
   "metadata": {},
   "outputs": [
    {
     "data": {
      "application/vnd.plotly.v1+json": {
       "config": {
        "plotlyServerURL": "https://plot.ly"
       },
       "data": [
        {
         "hovertemplate": "color=xlsx<br>x=%{x}<br>y=%{y}<extra></extra>",
         "legendgroup": "xlsx",
         "marker": {
          "color": "#636efa",
          "symbol": "circle"
         },
         "mode": "markers",
         "name": "xlsx",
         "showlegend": true,
         "type": "scattergl",
         "x": [
          "2021-11-28 21:41:57.867256",
          "2021-11-28 21:42:49.346032",
          "1973-10-12 04:45:56",
          "1976-11-02 16:45:42",
          "1959-01-18 20:05:53",
          "1963-09-09 02:12:39",
          "1940-11-25 21:42:08",
          "1985-08-23 00:59:55",
          "1978-05-29 19:54:06",
          "1936-07-29 20:15:27",
          "1951-11-25 02:48:09",
          "2007-03-24 05:36:10",
          "1993-11-30 08:45:09",
          "1993-10-07 04:16:40",
          "2004-06-15 13:22:46",
          "1978-08-28 16:13:44",
          "1993-04-27 15:44:52",
          "2006-01-02 05:29:27",
          "2018-08-09 16:19:23",
          "1978-04-17 15:22:26",
          "1961-05-31 00:29:09",
          "2020-02-02 02:52:45",
          "1950-10-07 08:19:22",
          "1938-09-18 14:29:33",
          "1979-04-07 12:54:37",
          "2012-11-19 11:57:49",
          "1943-10-14 00:53:35",
          "1970-04-02 18:12:12",
          "2013-11-18 00:38:57",
          "2013-08-01 12:52:40",
          "1960-04-24 04:40:41",
          "1993-05-15 05:04:04",
          "1957-08-06 22:08:11",
          "1958-11-07 23:07:07",
          "2020-02-10 12:15:31",
          "1953-10-27 00:45:07",
          "1978-01-19 12:46:46",
          "1971-04-13 13:33:33",
          "2010-10-11 22:36:38",
          "2007-09-19 00:18:35",
          "1992-01-17 21:51:03",
          "1939-07-26 06:25:54",
          "1974-09-08 06:20:23",
          "2017-09-19 12:36:56",
          "2006-03-09 09:39:34",
          "2000-04-12 09:58:08",
          "1999-06-19 04:23:32",
          "1943-03-21 12:33:14",
          "1938-07-26 20:46:47",
          "1984-08-17 15:55:24",
          "1944-08-20 21:24:46",
          "1954-03-20 15:41:08",
          "2006-06-26 11:51:29",
          "1946-12-19 19:35:07",
          "1967-11-14 06:52:12",
          "1968-04-29 01:59:50",
          "2021-11-04 14:39:40",
          "1940-08-12 20:03:59",
          "1958-02-23 03:57:10",
          "1939-01-31 11:25:55",
          "1974-11-03 02:52:47",
          "1949-03-08 18:25:33",
          "1993-01-03 23:52:46",
          "2018-12-09 14:43:20",
          "1995-02-17 04:13:20",
          "1973-06-05 23:08:50",
          "2018-12-05 16:03:49",
          "1963-02-22 09:59:39",
          "2008-09-28 06:37:47",
          "2003-09-09 16:34:46",
          "1981-10-31 11:39:22",
          "1942-05-20 06:05:11",
          "1936-06-04 07:07:14",
          "2004-03-11 09:29:51",
          "1962-08-15 15:28:02",
          "1942-01-22 03:05:39",
          "1967-12-21 07:10:41",
          "1968-02-14 07:37:18",
          "1992-04-22 03:38:34",
          "1975-01-16 00:44:56",
          "2014-12-21 23:47:37",
          "2014-01-23 05:57:28",
          "1946-09-20 20:37:02",
          "1977-05-27 19:31:46",
          "1966-05-08 13:50:26",
          "1971-09-14 23:38:20",
          "1960-12-04 23:41:59",
          "1958-03-02 22:27:04",
          "1950-10-16 00:18:50",
          "1947-03-25 20:23:12",
          "2020-04-02 16:06:44",
          "1985-12-24 23:27:04",
          "1950-12-10 03:55:31",
          "1961-02-02 00:22:28",
          "1999-11-17 19:30:36",
          "1936-09-19 22:37:20",
          "1969-05-09 22:03:31",
          "1978-11-20 13:12:38",
          "2008-12-15 12:03:17",
          "1937-12-02 20:54:23",
          "1970-07-22 18:18:30",
          "1959-04-14 07:09:40",
          "1980-04-05 09:10:41",
          "2012-12-18 04:27:36",
          "1966-02-15 16:32:14",
          "2002-11-22 12:03:40",
          "1964-01-02 21:54:23",
          "2012-09-13 06:22:21",
          "1955-04-30 05:19:35",
          "1945-09-25 12:10:36",
          "1979-02-11 22:25:06",
          "1966-12-27 09:52:09",
          "2012-03-22 23:16:05",
          "1980-07-15 21:46:26",
          "1949-05-26 17:28:32",
          "1940-08-20 18:42:43",
          "1936-10-03 22:03:10",
          "2001-01-25 08:33:31",
          "1950-10-18 05:11:29",
          "1995-09-30 03:08:38",
          "1991-12-19 09:37:09",
          "1984-07-22 03:29:28",
          "1995-01-24 00:45:18",
          "1996-01-24 03:49:32",
          "1981-05-14 09:27:55"
         ],
         "xaxis": "x",
         "y": [
          null,
          null,
          22,
          57,
          57,
          53,
          66,
          14,
          50,
          28,
          11,
          74,
          70,
          75,
          17,
          44,
          18,
          69,
          44,
          73,
          49,
          9,
          72,
          19,
          38,
          36,
          58,
          41,
          28,
          8,
          28,
          5,
          61,
          18,
          60,
          69,
          8,
          68,
          41,
          53,
          55,
          29,
          57,
          39,
          74,
          29,
          57,
          11,
          67,
          21,
          66,
          39,
          27,
          49,
          30,
          43,
          64,
          63,
          40,
          61,
          29,
          21,
          4,
          75,
          5,
          52,
          75,
          52,
          64,
          25,
          61,
          68,
          55,
          65,
          55,
          47,
          38,
          45,
          55,
          1,
          35,
          66,
          56,
          19,
          1,
          6,
          52,
          63,
          60,
          69,
          9,
          58,
          32,
          61,
          25,
          18,
          29,
          25,
          29,
          30,
          66,
          63,
          51,
          70,
          61,
          11,
          57,
          57,
          30,
          9,
          60,
          1,
          67,
          41,
          30,
          66,
          15,
          46,
          18,
          13,
          49,
          44,
          32,
          28,
          43
         ],
         "yaxis": "y"
        },
        {
         "hovertemplate": "color=csv<br>x=%{x}<br>y=%{y}<extra></extra>",
         "legendgroup": "csv",
         "marker": {
          "color": "#EF553B",
          "symbol": "circle"
         },
         "mode": "markers",
         "name": "csv",
         "showlegend": true,
         "type": "scattergl",
         "x": [
          "2021-11-28 21:47:15.003944",
          "1991-10-07 00:55:33",
          "1965-11-03 03:19:07",
          "1948-10-26 16:43:45",
          "1973-12-14 22:54:15",
          "1936-09-04 04:23:54",
          "1973-06-16 10:39:37",
          "2021-03-12 21:52:07",
          "2016-03-11 16:03:59",
          "1997-01-26 10:13:51",
          "1984-05-14 00:22:50",
          "1978-07-07 13:21:51",
          "2018-01-12 01:18:31",
          "1966-10-17 11:00:32",
          "2009-08-22 05:13:57",
          "1966-11-25 02:11:26",
          "1990-03-17 13:21:34",
          "1950-10-20 17:42:46",
          "1992-10-25 17:06:03",
          "1955-10-10 13:53:00",
          "2001-02-18 09:35:37",
          "1979-01-23 23:53:35",
          "2018-05-08 15:05:15",
          "1949-07-31 15:26:04",
          "1981-05-14 19:02:27",
          "1957-12-23 02:13:20",
          "1994-02-10 07:01:55",
          "1945-10-23 22:08:07",
          "1945-06-06 09:55:28",
          "1950-07-01 10:48:55",
          "1971-10-03 06:01:49",
          "1972-08-16 17:56:43",
          "1936-08-15 00:49:31",
          "1943-07-01 15:49:14",
          "1995-12-23 23:46:32",
          "1937-10-14 18:56:52",
          "1943-07-18 10:06:09",
          "1976-07-03 09:26:47",
          "1957-06-27 10:40:32",
          "1961-01-13 02:15:27",
          "1989-04-25 12:54:40",
          "1996-07-12 04:25:27",
          "2011-09-19 15:59:58",
          "1988-11-05 21:43:08",
          "1949-03-14 18:00:44",
          "1949-02-12 02:56:29",
          "1989-03-20 21:23:44",
          "1949-09-24 00:20:02",
          "1963-11-29 03:16:56",
          "1952-10-15 19:52:07",
          "1990-06-01 20:49:46",
          "1952-07-28 10:23:43",
          "1941-10-25 12:40:44",
          "1969-06-28 14:28:31",
          "2020-07-20 20:03:55",
          "1936-02-16 08:29:29",
          "1962-06-03 11:39:02",
          "1988-01-02 15:09:14",
          "2003-06-21 02:41:46",
          "1940-06-22 21:44:41",
          "1955-05-19 07:27:41",
          "2021-03-05 07:53:56",
          "2010-10-11 15:25:50",
          "1996-06-21 14:29:00",
          "1966-04-23 19:40:08",
          "1971-11-30 03:24:15",
          "1949-03-22 00:30:35",
          "1991-12-13 04:04:27",
          "1976-08-24 16:39:08",
          "1974-07-16 13:23:31",
          "1958-01-23 16:13:46",
          "2014-06-14 15:41:51",
          "1955-10-22 17:47:07",
          "2013-10-04 13:49:57",
          "1998-03-27 06:35:10",
          "1950-11-18 02:52:04",
          "1960-04-12 18:25:52",
          "1965-02-17 08:48:50",
          "1986-11-29 20:57:14",
          "1992-06-20 10:33:42",
          "1970-09-07 16:27:01",
          "1993-02-28 11:40:15",
          "1975-11-27 21:46:22",
          "1964-12-05 16:00:57",
          "2004-12-08 19:45:42",
          "1968-02-07 18:12:00",
          "1956-06-08 08:58:19",
          "1975-09-16 06:38:29",
          "2003-08-25 16:16:52",
          "1967-01-21 22:25:08",
          "1972-02-14 20:04:18",
          "1984-12-07 01:26:24",
          "1961-11-05 18:47:33",
          "2003-10-15 23:41:13",
          "1938-05-06 00:33:00",
          "1982-06-27 18:02:35",
          "1986-07-30 07:36:23",
          "2004-05-26 19:45:07",
          "1956-11-20 18:37:17",
          "1952-11-09 11:31:27",
          "2015-06-21 13:18:56",
          "1992-06-18 21:15:38",
          "2015-01-31 13:49:38",
          "1936-01-30 02:42:54",
          "1959-04-21 03:27:44",
          "2005-09-06 15:04:19",
          "1982-07-05 06:52:21",
          "2016-12-16 18:01:42",
          "2003-08-29 23:29:18",
          "2008-12-16 00:43:02",
          "2017-01-03 14:36:44",
          "1973-03-21 00:22:08",
          "1992-06-25 22:42:10",
          "1977-09-21 01:40:33",
          "1968-09-17 11:03:21",
          "1940-12-16 20:15:17",
          "1992-03-27 08:50:06",
          "1983-09-26 08:53:37",
          "1974-06-22 02:56:22",
          "1954-03-30 16:17:36",
          "1936-09-07 05:34:39",
          "1974-07-20 00:40:04",
          "1950-01-07 12:42:50",
          "1975-05-09 05:40:11",
          "1999-05-17 19:32:30",
          "1984-11-13 10:00:57",
          "1975-09-09 01:21:19",
          "1984-05-07 10:45:35",
          "1992-01-18 14:10:43",
          "1962-09-09 19:59:58",
          "1943-11-13 10:26:19",
          "2012-10-05 22:24:05",
          "2004-01-27 15:20:02",
          "1944-02-11 00:46:46",
          "1985-01-11 21:48:18",
          "1980-03-10 06:47:27",
          "1976-11-06 08:11:09"
         ],
         "xaxis": "x",
         "y": [
          1,
          10,
          18,
          18,
          6,
          43,
          54,
          18,
          50,
          64,
          70,
          14,
          70,
          74,
          29,
          21,
          37,
          45,
          36,
          22,
          8,
          62,
          69,
          10,
          15,
          41,
          4,
          14,
          38,
          52,
          75,
          40,
          13,
          50,
          52,
          53,
          26,
          14,
          74,
          67,
          35,
          10,
          38,
          13,
          16,
          70,
          8,
          31,
          41,
          41,
          3,
          18,
          54,
          53,
          14,
          42,
          70,
          35,
          21,
          18,
          5,
          36,
          37,
          61,
          14,
          19,
          21,
          8,
          70,
          41,
          6,
          44,
          44,
          48,
          61,
          47,
          72,
          38,
          68,
          74,
          17,
          42,
          71,
          44,
          28,
          34,
          42,
          62,
          46,
          54,
          73,
          2,
          75,
          3,
          36,
          36,
          22,
          51,
          27,
          5,
          48,
          7,
          75,
          7,
          13,
          40,
          17,
          35,
          18,
          12,
          22,
          2,
          29,
          39,
          63,
          54,
          25,
          21,
          74,
          11,
          72,
          34,
          12,
          46,
          30,
          61,
          8,
          42,
          64,
          47,
          10,
          32,
          14,
          42,
          45,
          4,
          62
         ],
         "yaxis": "y"
        },
        {
         "hovertemplate": "color=docx<br>x=%{x}<br>y=%{y}<extra></extra>",
         "legendgroup": "docx",
         "marker": {
          "color": "#00cc96",
          "symbol": "circle"
         },
         "mode": "markers",
         "name": "docx",
         "showlegend": true,
         "type": "scattergl",
         "x": [
          "1953-06-24 22:59:10",
          "1996-10-31 21:08:58",
          "1938-05-14 08:15:40",
          "1981-07-22 04:22:28",
          "1981-09-18 16:53:15",
          "1973-07-16 01:35:33",
          "1991-02-21 18:11:55",
          "2012-11-25 19:56:04",
          "1945-05-30 19:55:54",
          "2010-05-05 10:16:23",
          "1999-01-19 16:01:20",
          "1998-06-15 09:40:46",
          "1964-09-13 19:09:19",
          "1959-07-02 14:09:43",
          "1993-11-27 01:05:44",
          "1937-04-30 09:11:22",
          "1948-03-11 12:08:47",
          "1945-09-24 10:48:28",
          "1941-02-04 05:46:30",
          "1938-06-01 00:45:11",
          "1973-03-22 21:27:02",
          "1964-11-15 04:11:21",
          "2018-10-25 17:42:10",
          "1996-11-19 04:59:11",
          "2002-03-13 18:55:03",
          "1939-09-22 00:31:08",
          "1952-04-13 22:08:07",
          "2006-08-06 07:28:52",
          "1960-08-25 15:38:17",
          "1991-10-20 09:14:37",
          "2009-01-21 04:58:02",
          "1964-10-07 14:03:47",
          "1981-03-22 01:59:34",
          "1995-05-13 10:33:14",
          "2005-07-12 00:35:26",
          "1984-06-27 11:18:56",
          "1941-08-23 07:05:53",
          "2008-04-05 20:03:14",
          "1941-10-06 06:47:07",
          "1993-09-07 02:00:17",
          "1968-12-09 17:50:50",
          "1970-04-14 10:58:24",
          "1977-07-29 01:53:06",
          "1960-04-22 22:03:51",
          "1986-03-31 11:41:36",
          "1999-10-08 20:59:57",
          "1978-06-06 15:46:37",
          "1936-03-07 06:32:22",
          "1945-12-27 15:07:28",
          "1953-09-19 04:08:32",
          "1995-11-07 19:15:14",
          "1956-09-25 10:33:23",
          "1984-04-13 11:54:03",
          "1939-07-26 13:39:27",
          "1940-04-28 08:55:32",
          "1979-06-05 20:46:39",
          "1955-09-21 20:24:23",
          "1997-08-21 02:46:44",
          "1955-05-09 21:54:41",
          "2007-10-20 05:35:22",
          "2018-11-23 00:51:03",
          "2017-08-30 15:41:31",
          "1966-12-23 06:36:01",
          "1993-02-23 03:03:00",
          "2008-04-10 23:09:54",
          "1967-09-02 07:14:07",
          "2013-08-11 21:08:54",
          "1975-09-17 20:58:44",
          "2006-01-18 05:36:32",
          "1944-06-12 17:44:07",
          "1943-07-18 03:21:48",
          "1980-06-22 02:33:17",
          "1951-09-24 11:24:27",
          "1971-06-09 21:09:39",
          "1983-03-29 01:15:48",
          "2001-04-01 16:21:17",
          "1946-05-24 00:18:48",
          "1995-09-02 19:51:18",
          "1947-03-11 08:37:31",
          "1989-03-04 08:54:13",
          "1941-10-08 02:08:56",
          "2017-08-30 03:55:59",
          "1978-02-27 05:16:45",
          "1964-03-13 09:39:28",
          "1939-02-15 22:52:08",
          "1958-07-28 15:34:00",
          "1978-12-22 02:21:03",
          "1937-12-30 21:19:04",
          "1978-01-19 23:11:24",
          "1962-10-14 20:54:05",
          "1965-04-12 04:58:32",
          "1980-05-21 00:05:14",
          "2021-06-26 22:52:44",
          "1947-04-03 17:11:25",
          "2001-11-20 14:17:05",
          "1995-07-11 09:31:07",
          "1972-05-25 08:18:45",
          "1980-09-18 00:33:18",
          "1977-03-29 15:07:43",
          "1965-02-22 22:11:33",
          "2017-04-02 00:48:05",
          "2003-04-05 21:39:45",
          "1982-11-27 01:50:21",
          "1998-08-03 09:53:16",
          "2008-05-27 01:01:01",
          "2017-12-27 21:02:49",
          "1942-02-02 01:05:40",
          "1939-03-15 02:45:03",
          "1936-05-23 23:42:56",
          "1982-02-04 14:38:05",
          "1955-11-15 21:07:40",
          "1963-08-07 05:51:08",
          "2014-02-16 00:32:01",
          "1987-12-29 21:41:00",
          "1986-07-25 00:03:51",
          "1939-08-31 02:28:11",
          "1954-01-26 14:36:18",
          "1995-10-03 20:05:46"
         ],
         "xaxis": "x",
         "y": [
          43,
          59,
          11,
          51,
          41,
          55,
          40,
          54,
          36,
          19,
          20,
          39,
          29,
          19,
          71,
          41,
          72,
          44,
          3,
          15,
          72,
          5,
          46,
          51,
          17,
          41,
          9,
          56,
          19,
          67,
          59,
          60,
          36,
          48,
          7,
          13,
          2,
          30,
          44,
          73,
          71,
          63,
          73,
          20,
          15,
          26,
          74,
          15,
          37,
          25,
          50,
          48,
          31,
          75,
          25,
          21,
          48,
          37,
          44,
          74,
          41,
          42,
          32,
          71,
          4,
          13,
          2,
          51,
          48,
          10,
          1,
          61,
          41,
          3,
          38,
          22,
          38,
          60,
          20,
          38,
          37,
          68,
          28,
          9,
          55,
          1,
          2,
          33,
          12,
          45,
          63,
          26,
          74,
          21,
          54,
          52,
          42,
          4,
          60,
          44,
          39,
          73,
          73,
          47,
          73,
          6,
          10,
          47,
          40,
          48,
          67,
          59,
          46,
          37,
          37,
          7,
          32,
          65
         ],
         "yaxis": "y"
        },
        {
         "hovertemplate": "color=doc<br>x=%{x}<br>y=%{y}<extra></extra>",
         "legendgroup": "doc",
         "marker": {
          "color": "#ab63fa",
          "symbol": "circle"
         },
         "mode": "markers",
         "name": "doc",
         "showlegend": true,
         "type": "scattergl",
         "x": [
          "2000-04-23 00:21:03",
          "1937-06-05 14:54:35",
          "1965-08-20 03:50:26",
          "2018-09-26 23:32:49",
          "2017-04-12 10:22:32",
          "1940-02-29 23:38:27",
          "1949-04-12 19:06:16",
          "1970-04-25 21:46:50",
          "2010-08-23 08:38:37",
          "1984-05-25 22:42:42",
          "2010-09-02 07:30:26",
          "2004-05-25 13:25:23",
          "2010-06-04 20:52:59",
          "2001-01-31 00:20:05",
          "1939-07-04 08:41:09",
          "1973-10-12 14:53:41",
          "1951-11-16 09:51:11",
          "1986-03-17 15:15:25",
          "2016-07-01 16:45:53",
          "2019-08-16 15:21:23",
          "1971-04-23 09:26:09",
          "1949-01-19 07:25:33",
          "1989-08-17 03:37:54",
          "1975-11-12 01:36:30",
          "1973-05-20 05:05:29",
          "1990-05-01 23:02:32",
          "2016-05-10 02:44:30",
          "2001-10-25 22:06:37",
          "1980-04-02 09:43:21",
          "1995-04-27 12:12:59",
          "2010-05-10 21:22:59",
          "1983-02-01 09:45:53",
          "1950-03-24 00:20:13",
          "1944-08-29 12:07:56",
          "1974-11-05 16:02:54",
          "2004-07-05 13:30:05",
          "1966-08-01 10:21:46",
          "1951-12-06 17:33:50",
          "1990-11-25 03:06:33",
          "1979-06-30 00:13:01",
          "1936-06-30 06:07:44",
          "2012-05-28 07:25:51",
          "2012-11-27 18:09:28",
          "2018-05-09 12:59:55",
          "1950-12-28 21:20:17",
          "2002-05-08 15:42:52",
          "1957-01-14 02:02:35",
          "1961-03-16 20:49:26",
          "1961-01-07 15:04:04",
          "1992-09-21 23:40:56",
          "2005-07-30 17:54:15",
          "1936-06-07 01:10:33",
          "1993-10-07 14:46:41",
          "1936-03-01 01:17:34",
          "2000-02-04 23:01:38",
          "1985-05-02 04:33:35",
          "2012-09-19 18:06:41",
          "1977-12-26 13:03:31",
          "1959-12-27 06:45:01",
          "1975-03-10 04:49:23",
          "2011-07-08 06:07:56",
          "1994-11-22 11:43:50",
          "1998-01-17 07:15:03",
          "1980-09-21 19:39:38",
          "1976-07-09 06:06:45",
          "1959-06-09 18:10:35",
          "1980-08-29 06:08:17",
          "1963-05-29 13:54:37",
          "1974-02-27 22:35:39",
          "1959-12-18 19:40:35",
          "1981-06-14 01:09:36",
          "1946-12-17 23:50:51",
          "1994-11-21 11:15:40",
          "1993-12-24 13:58:04",
          "1970-05-30 10:18:18",
          "1988-01-25 20:51:10",
          "2011-08-30 07:38:12",
          "1946-09-29 21:51:10",
          "2006-01-13 05:34:57",
          "1988-08-26 20:22:36",
          "2017-03-24 00:34:59",
          "1950-06-07 05:57:03",
          "1977-04-08 10:40:34",
          "2009-01-14 16:14:23",
          "1972-01-11 10:59:26",
          "2002-09-22 05:22:48",
          "1977-11-07 02:15:19",
          "1958-03-23 03:07:14",
          "1950-04-15 08:16:46",
          "1989-12-23 15:04:09",
          "1937-09-02 12:12:51",
          "1962-09-22 03:16:20",
          "1949-08-31 09:34:07",
          "1940-09-10 12:01:45",
          "1990-06-04 02:07:40",
          "2016-07-28 05:54:56",
          "2018-08-18 14:18:38",
          "1995-11-18 02:41:27",
          "2017-06-24 07:06:38",
          "1943-01-29 12:03:55",
          "1990-08-28 02:07:47",
          "1986-12-17 05:54:02",
          "2008-06-22 11:46:05",
          "2002-04-29 16:07:44",
          "2010-06-16 00:52:09",
          "1982-06-05 07:06:57",
          "2011-12-16 10:21:56",
          "1945-11-13 12:53:15",
          "1965-03-24 17:36:59",
          "1955-01-11 01:42:42",
          "1975-10-18 02:53:21",
          "2016-09-07 07:45:03",
          "2000-02-22 01:17:50",
          "1937-02-20 16:45:28",
          "2001-12-31 05:19:06",
          "1963-08-29 04:13:36",
          "2021-08-07 17:34:26",
          "1977-10-19 14:04:33",
          "1996-01-31 03:38:28",
          "2004-10-19 09:32:13",
          "1939-09-21 05:23:32",
          "1976-06-10 00:01:29",
          "1968-03-07 21:24:31",
          "1941-06-13 12:36:38",
          "2014-10-03 10:34:08",
          "1965-09-29 08:38:20",
          "1973-11-22 14:14:33",
          "1984-07-09 02:56:35",
          "2004-04-03 00:49:50",
          "1998-06-03 06:00:34",
          "2001-10-24 02:51:38",
          "2000-08-08 18:25:40",
          "2001-10-03 08:44:25",
          "1940-04-05 22:29:53",
          "1959-12-31 01:02:04",
          "1961-05-30 12:07:03",
          "1965-03-08 10:07:35",
          "1999-07-16 08:28:20",
          "2010-12-05 12:43:28",
          "2019-06-26 17:48:51",
          "2015-01-28 02:59:28",
          "1985-04-18 13:30:24"
         ],
         "xaxis": "x",
         "y": [
          21,
          7,
          54,
          54,
          31,
          24,
          71,
          55,
          71,
          35,
          12,
          44,
          49,
          72,
          2,
          9,
          66,
          73,
          58,
          10,
          29,
          11,
          54,
          41,
          38,
          28,
          3,
          51,
          48,
          52,
          23,
          16,
          5,
          27,
          32,
          17,
          15,
          50,
          72,
          70,
          26,
          25,
          60,
          44,
          50,
          47,
          1,
          67,
          45,
          69,
          10,
          39,
          72,
          64,
          74,
          17,
          3,
          55,
          66,
          52,
          65,
          49,
          27,
          49,
          46,
          17,
          13,
          20,
          73,
          50,
          15,
          63,
          58,
          24,
          66,
          14,
          69,
          62,
          42,
          67,
          66,
          18,
          4,
          45,
          56,
          47,
          55,
          62,
          34,
          51,
          19,
          8,
          65,
          71,
          75,
          30,
          67,
          43,
          48,
          60,
          23,
          59,
          58,
          75,
          19,
          60,
          26,
          55,
          35,
          4,
          61,
          49,
          37,
          31,
          26,
          58,
          21,
          39,
          49,
          2,
          18,
          9,
          18,
          72,
          20,
          10,
          43,
          61,
          61,
          53,
          37,
          1,
          15,
          51,
          22,
          41,
          6,
          48,
          12,
          69,
          4,
          1
         ],
         "yaxis": "y"
        },
        {
         "hovertemplate": "color=xls<br>x=%{x}<br>y=%{y}<extra></extra>",
         "legendgroup": "xls",
         "marker": {
          "color": "#FFA15A",
          "symbol": "circle"
         },
         "mode": "markers",
         "name": "xls",
         "showlegend": true,
         "type": "scattergl",
         "x": [
          "1945-09-27 08:22:41",
          "2009-06-09 00:57:38",
          "1943-08-07 12:50:35",
          "2000-10-06 07:49:26",
          "1989-10-25 17:15:36",
          "2016-11-14 01:58:04",
          "2021-08-29 15:23:52",
          "1978-05-13 06:09:54",
          "1981-10-18 01:23:49",
          "1953-04-27 23:08:19",
          "1944-05-30 17:04:46",
          "1995-02-16 05:43:24",
          "1952-08-11 19:31:21",
          "1948-04-04 05:59:35",
          "1963-06-01 09:29:14",
          "1978-09-16 16:02:58",
          "2001-09-05 17:55:58",
          "1969-02-01 01:54:30",
          "1981-06-06 00:47:21",
          "1968-10-15 20:34:58",
          "1977-05-14 21:02:38",
          "2021-03-19 08:34:48",
          "2015-08-25 23:35:33",
          "1956-07-18 07:02:49",
          "1955-01-10 21:58:04",
          "1969-08-24 08:51:24",
          "2012-12-03 22:35:48",
          "2017-10-01 14:38:35",
          "1973-04-10 16:08:28",
          "1955-07-27 05:04:56",
          "1944-03-26 11:40:43",
          "1978-05-09 21:13:05",
          "1998-02-05 13:17:51",
          "1947-07-16 12:11:18",
          "1985-05-05 19:29:28",
          "2004-12-25 13:16:45",
          "1938-03-18 20:00:14",
          "1959-10-22 01:44:37",
          "2000-05-16 15:15:31",
          "1968-05-10 02:14:38",
          "1938-02-13 11:50:04",
          "1999-09-16 05:35:41",
          "1952-05-29 03:37:48",
          "1986-12-07 21:37:28",
          "1967-10-24 15:48:08",
          "2001-07-26 16:53:46",
          "1936-09-18 12:20:57",
          "1979-06-14 11:29:58",
          "1987-04-28 17:04:28",
          "1973-10-15 21:19:03",
          "1963-07-30 19:20:24",
          "1986-03-01 08:54:30",
          "1959-09-09 09:08:01",
          "1985-07-12 02:25:41",
          "1980-04-10 10:24:11",
          "1960-10-13 16:53:24",
          "1977-10-22 21:07:21",
          "2001-07-06 00:19:51",
          "1973-06-22 17:09:39",
          "2000-02-19 04:56:35",
          "1960-05-26 21:33:40",
          "1941-07-25 21:59:45",
          "1974-01-02 16:12:28",
          "1974-07-07 16:52:50",
          "1960-11-25 17:47:52",
          "2015-01-20 17:30:28",
          "1963-09-28 21:41:43",
          "1946-09-05 10:50:49",
          "2015-10-13 12:47:57",
          "1965-06-27 21:37:18",
          "1938-02-02 18:59:00",
          "1993-06-19 22:20:39",
          "1955-05-24 18:15:04",
          "2012-06-09 14:32:23",
          "1993-12-23 15:46:20",
          "1936-05-28 19:23:43",
          "2018-06-30 22:32:47",
          "1971-06-02 13:43:22",
          "1961-11-12 06:53:48",
          "1974-06-01 06:09:33",
          "1980-01-24 12:51:26",
          "1965-09-19 11:16:03",
          "1968-12-23 07:36:50",
          "1992-08-04 05:51:51",
          "1954-05-13 03:26:04",
          "2006-08-07 04:22:11",
          "2003-10-21 08:53:31",
          "1984-06-05 16:09:39",
          "2004-02-21 23:57:43",
          "1995-07-23 16:47:00",
          "1947-07-26 07:10:42",
          "2004-08-13 08:16:47",
          "1970-05-22 23:11:05",
          "1943-03-14 10:07:29",
          "1979-07-22 13:47:25",
          "1972-10-12 19:54:37",
          "1989-02-25 03:54:18",
          "2006-10-18 11:04:24",
          "1986-11-10 19:12:58",
          "1949-03-20 02:36:06",
          "1997-10-26 06:15:18",
          "1986-03-01 13:16:47",
          "1986-03-19 22:23:12",
          "1967-07-14 20:05:27",
          "2006-09-16 09:08:59",
          "1963-02-17 19:54:31",
          "2010-10-06 14:26:33",
          "1947-05-20 08:29:02",
          "1945-12-28 21:34:19",
          "1966-10-19 16:10:20"
         ],
         "xaxis": "x",
         "y": [
          30,
          46,
          24,
          25,
          29,
          73,
          8,
          33,
          57,
          32,
          43,
          66,
          11,
          66,
          39,
          38,
          8,
          49,
          52,
          3,
          34,
          48,
          70,
          45,
          13,
          67,
          25,
          67,
          1,
          58,
          59,
          51,
          67,
          25,
          70,
          23,
          11,
          30,
          62,
          25,
          47,
          51,
          46,
          43,
          9,
          21,
          73,
          31,
          8,
          62,
          70,
          30,
          75,
          46,
          58,
          21,
          43,
          14,
          53,
          70,
          41,
          47,
          32,
          19,
          13,
          40,
          30,
          40,
          55,
          50,
          40,
          28,
          23,
          7,
          63,
          59,
          65,
          34,
          63,
          7,
          9,
          2,
          36,
          4,
          43,
          34,
          30,
          5,
          40,
          16,
          3,
          16,
          71,
          69,
          30,
          28,
          44,
          51,
          37,
          45,
          19,
          66,
          50,
          28,
          9,
          1,
          15,
          66,
          45,
          69
         ],
         "yaxis": "y"
        },
        {
         "hovertemplate": "color=txt<br>x=%{x}<br>y=%{y}<extra></extra>",
         "legendgroup": "txt",
         "marker": {
          "color": "#19d3f3",
          "symbol": "circle"
         },
         "mode": "markers",
         "name": "txt",
         "showlegend": true,
         "type": "scattergl",
         "x": [
          "1941-10-31 12:32:31",
          "1943-01-17 12:19:40",
          "1998-05-06 18:49:19",
          "2021-02-05 20:43:10",
          "1964-09-03 23:26:55",
          "2003-04-02 08:40:28",
          "2003-06-07 05:04:09",
          "1973-04-04 02:35:49",
          "1975-11-11 00:23:14",
          "1977-07-07 12:57:04",
          "1938-04-19 11:13:44",
          "1961-06-05 10:12:00",
          "1951-06-12 17:50:24",
          "1986-07-28 17:34:55",
          "1987-09-24 08:18:15",
          "1993-05-10 13:42:18",
          "1942-04-02 05:04:35",
          "2004-12-03 10:42:35",
          "1998-06-12 00:41:50",
          "1994-10-29 13:20:44",
          "1956-05-26 14:04:00",
          "2019-09-27 00:56:17",
          "2007-12-31 11:51:13",
          "1995-06-05 22:11:30",
          "2010-06-01 07:30:26",
          "1941-08-13 10:31:46",
          "1979-04-03 17:15:54",
          "1939-07-16 21:41:29",
          "1964-08-20 12:05:03",
          "2004-09-09 10:12:33",
          "1946-06-23 00:38:04",
          "1984-01-21 23:11:19",
          "1938-04-27 00:58:12",
          "1943-06-20 07:57:21",
          "1971-03-26 13:37:27",
          "1983-11-24 17:41:45",
          "1972-12-31 04:53:12",
          "1983-02-11 00:51:54",
          "1993-10-24 03:08:33",
          "2013-12-26 17:15:58",
          "1940-10-02 04:04:29",
          "2004-06-26 08:21:55",
          "2018-10-17 20:18:24",
          "1984-07-01 08:29:32",
          "1960-04-09 03:49:44",
          "2019-04-19 01:00:03",
          "1987-11-17 10:46:43",
          "2001-09-28 17:00:30",
          "1959-07-24 04:04:58",
          "2008-07-11 19:07:16",
          "1947-05-02 19:53:54",
          "2016-10-18 00:42:00",
          "1993-11-06 17:32:06",
          "2010-12-15 21:58:37",
          "2011-08-06 20:13:47",
          "1984-02-14 18:31:25",
          "1999-01-18 20:20:35",
          "1952-01-19 10:11:23",
          "1989-12-15 05:37:21",
          "2009-12-14 03:54:49",
          "1963-11-04 11:31:32",
          "1981-07-31 05:51:44",
          "1977-03-24 16:39:07",
          "2010-02-07 09:53:35",
          "2002-11-23 05:28:01",
          "1947-02-12 12:13:32",
          "1942-04-04 18:44:41",
          "2019-08-18 20:57:53",
          "1965-01-16 03:49:19",
          "1964-10-02 00:52:56",
          "1993-08-21 23:26:40",
          "1980-11-23 09:52:08",
          "1977-12-10 12:46:39",
          "2017-10-07 02:58:46",
          "2011-08-10 10:44:10",
          "1970-03-16 11:41:12",
          "1968-10-28 10:35:02",
          "1991-05-28 08:16:57",
          "1975-03-22 04:51:10",
          "1974-09-27 10:54:14",
          "1996-09-13 11:49:14",
          "1977-05-30 04:27:28",
          "2013-06-23 15:19:52",
          "1989-02-26 06:19:24",
          "1996-10-21 22:28:59",
          "1964-07-01 00:58:14",
          "2008-05-28 19:06:31",
          "2012-10-16 17:15:07",
          "1938-01-02 18:33:59",
          "1956-04-04 06:43:05",
          "1952-07-18 19:09:44",
          "1958-02-05 15:36:45",
          "1942-04-11 12:16:24",
          "1999-08-31 09:13:16",
          "1983-03-17 13:14:46",
          "1939-03-22 09:05:40",
          "1966-09-03 02:27:44",
          "1975-01-21 00:23:31",
          "1996-07-09 18:17:41",
          "1942-05-09 20:48:02",
          "2004-06-04 19:53:40",
          "2019-02-21 04:43:10",
          "1980-01-27 13:22:12",
          "1956-01-19 23:22:09",
          "1983-07-03 07:27:42",
          "1996-08-17 00:09:08",
          "1979-11-13 11:56:09",
          "1983-05-06 06:04:03",
          "1995-01-08 20:37:10",
          "1995-01-05 10:08:45",
          "2015-05-22 22:14:48",
          "1939-05-30 18:21:01"
         ],
         "xaxis": "x",
         "y": [
          75,
          45,
          25,
          66,
          75,
          33,
          33,
          38,
          67,
          40,
          51,
          74,
          66,
          25,
          37,
          45,
          11,
          75,
          35,
          41,
          69,
          32,
          72,
          71,
          24,
          4,
          37,
          42,
          53,
          2,
          47,
          11,
          12,
          1,
          40,
          24,
          5,
          6,
          16,
          10,
          17,
          33,
          43,
          59,
          30,
          22,
          38,
          31,
          36,
          71,
          14,
          36,
          40,
          18,
          38,
          73,
          44,
          40,
          27,
          75,
          75,
          64,
          52,
          42,
          15,
          21,
          39,
          46,
          69,
          37,
          26,
          51,
          29,
          75,
          32,
          25,
          13,
          74,
          4,
          36,
          35,
          28,
          7,
          17,
          31,
          52,
          2,
          63,
          52,
          22,
          7,
          23,
          61,
          59,
          24,
          38,
          45,
          70,
          66,
          16,
          52,
          16,
          15,
          14,
          47,
          1,
          13,
          49,
          22,
          52,
          22,
          72
         ],
         "yaxis": "y"
        },
        {
         "hovertemplate": "color=html<br>x=%{x}<br>y=%{y}<extra></extra>",
         "legendgroup": "html",
         "marker": {
          "color": "#FF6692",
          "symbol": "circle"
         },
         "mode": "markers",
         "name": "html",
         "showlegend": true,
         "type": "scattergl",
         "x": [
          "2021-09-17 16:28:51",
          "1988-12-30 17:11:51",
          "1945-01-16 11:10:31",
          "1946-04-16 14:08:04",
          "1967-09-24 07:49:48",
          "1966-12-02 05:56:53",
          "1977-11-14 22:26:30",
          "2018-12-06 06:01:27",
          "1943-12-11 08:27:56",
          "2012-11-22 10:04:29",
          "1962-12-12 17:47:14",
          "2010-08-10 04:22:08",
          "1975-02-21 15:45:00",
          "2001-01-21 16:25:12",
          "1969-07-20 11:18:47",
          "1938-12-10 14:42:18",
          "1967-05-15 19:53:51",
          "1969-06-13 14:42:44",
          "2013-09-13 02:44:30",
          "1950-12-07 01:46:41",
          "2014-12-02 17:14:28",
          "1997-12-11 13:43:06",
          "1972-12-21 07:59:16",
          "1950-09-11 08:23:35",
          "1989-05-29 19:56:49",
          "1996-09-29 13:01:59",
          "1941-07-04 14:39:55",
          "1979-10-28 20:31:33",
          "1967-03-22 09:04:20",
          "1984-07-26 14:27:02",
          "1980-06-28 20:03:11",
          "1993-08-14 19:26:29",
          "1963-04-24 12:56:39",
          "2015-09-26 18:51:36",
          "1950-09-23 02:23:11",
          "1977-07-12 13:03:38",
          "1936-01-23 12:30:13",
          "1946-01-05 09:32:01",
          "1962-01-14 01:39:49",
          "2019-05-08 13:45:59",
          "2013-12-04 01:04:41",
          "1962-03-14 00:44:14",
          "2013-10-01 01:56:12",
          "1976-11-26 13:34:31",
          "1955-07-02 00:29:22",
          "2012-01-21 16:50:37",
          "1939-03-16 23:10:56",
          "1983-05-31 20:33:15",
          "1992-09-04 10:06:28",
          "2001-02-10 13:40:03",
          "1970-08-12 11:15:37",
          "1968-02-11 03:05:16",
          "1952-08-29 10:39:33",
          "1967-04-06 09:27:40",
          "1995-02-27 12:47:58",
          "1941-04-19 05:15:59",
          "1947-10-22 12:26:54",
          "1998-06-04 03:32:58",
          "1988-03-19 22:55:56",
          "1952-09-27 00:18:15",
          "1939-08-03 00:27:29",
          "1983-03-05 07:47:10",
          "1963-12-02 21:58:35",
          "1973-03-11 03:38:47",
          "1954-10-23 19:07:42",
          "2015-11-30 14:23:23",
          "1957-03-31 12:19:17",
          "2019-10-26 23:41:24",
          "1988-08-31 00:59:40",
          "1950-09-11 02:04:00",
          "1995-03-24 08:40:27",
          "2012-11-13 02:07:24",
          "1951-11-23 21:41:25",
          "1976-09-26 16:49:41",
          "2020-10-09 11:16:01",
          "1962-01-23 09:56:29",
          "1957-06-10 16:59:00",
          "1986-03-16 07:40:59",
          "1945-02-07 09:56:55",
          "1957-11-22 18:34:26",
          "2002-08-12 11:39:07",
          "1936-04-10 23:40:34",
          "1993-04-12 20:40:50",
          "1986-11-08 15:49:33",
          "1991-06-30 22:48:13",
          "2004-10-16 13:09:44",
          "2015-10-12 11:27:01",
          "1986-04-28 08:09:24",
          "1979-06-18 05:19:52",
          "1967-08-19 14:26:20",
          "1965-07-04 07:40:52",
          "1952-03-25 15:57:27",
          "1945-10-05 07:13:59",
          "1955-01-11 19:11:41",
          "1973-06-25 13:35:56",
          "1977-06-08 01:39:20",
          "1986-07-30 11:48:12",
          "1975-04-14 20:03:13",
          "1964-09-18 06:53:16",
          "1953-02-10 18:55:28",
          "1940-06-19 23:02:14",
          "1991-09-03 02:35:37",
          "1981-09-20 19:27:14",
          "1978-04-03 15:19:13",
          "1948-07-17 06:33:32",
          "2002-04-03 13:36:58",
          "1953-02-04 13:53:15",
          "1938-02-13 08:47:11",
          "1985-10-13 01:08:34",
          "2021-09-13 00:50:00",
          "1957-03-08 22:57:28",
          "1995-11-05 05:30:39",
          "1980-12-11 23:12:31",
          "1968-12-04 10:52:12",
          "1944-11-05 17:30:39",
          "1936-02-13 07:06:33",
          "1953-01-07 22:09:48",
          "1991-09-01 01:47:32",
          "1994-12-11 04:49:45",
          "1996-05-08 10:53:50",
          "2011-02-08 01:46:17",
          "1984-05-03 21:34:34",
          "1982-12-26 06:44:07"
         ],
         "xaxis": "x",
         "y": [
          10,
          7,
          44,
          56,
          57,
          12,
          2,
          36,
          51,
          72,
          45,
          10,
          47,
          7,
          36,
          54,
          10,
          72,
          9,
          13,
          26,
          1,
          7,
          15,
          42,
          5,
          52,
          30,
          45,
          71,
          38,
          68,
          41,
          28,
          15,
          2,
          12,
          6,
          33,
          21,
          38,
          52,
          7,
          72,
          8,
          45,
          49,
          29,
          16,
          1,
          41,
          60,
          28,
          61,
          42,
          75,
          37,
          6,
          32,
          72,
          38,
          17,
          60,
          40,
          58,
          66,
          69,
          28,
          4,
          8,
          38,
          73,
          43,
          73,
          27,
          21,
          48,
          68,
          56,
          41,
          41,
          70,
          41,
          73,
          73,
          59,
          6,
          69,
          5,
          53,
          5,
          44,
          30,
          16,
          17,
          74,
          33,
          6,
          68,
          25,
          13,
          70,
          41,
          11,
          18,
          71,
          23,
          17,
          8,
          15,
          31,
          72,
          36,
          16,
          52,
          62,
          34,
          50,
          51,
          65,
          58,
          41,
          25
         ],
         "yaxis": "y"
        },
        {
         "hovertemplate": "color=pdf<br>x=%{x}<br>y=%{y}<extra></extra>",
         "legendgroup": "pdf",
         "marker": {
          "color": "#B6E880",
          "symbol": "circle"
         },
         "mode": "markers",
         "name": "pdf",
         "showlegend": true,
         "type": "scattergl",
         "x": [
          "2019-12-21 13:43:08",
          "1978-09-26 20:10:01",
          "1970-01-15 06:50:47",
          "1950-04-09 11:53:17",
          "2018-01-29 01:24:08",
          "1940-09-07 23:15:07",
          "1936-11-08 06:19:40",
          "1941-09-22 09:27:31",
          "1975-09-22 18:06:55",
          "1947-05-29 06:55:22",
          "1958-10-21 12:30:26",
          "1972-11-07 15:14:22",
          "1961-07-19 17:17:11",
          "1962-02-26 02:29:02",
          "2012-12-12 13:44:35",
          "1966-01-19 22:53:34",
          "2015-09-25 02:25:13",
          "1977-06-11 04:51:19",
          "1999-08-04 15:31:28",
          "1969-09-02 03:20:20",
          "2013-02-02 13:53:26",
          "1938-08-04 14:30:16",
          "1952-07-19 10:47:10",
          "1990-08-12 07:01:18",
          "1962-03-08 21:39:03",
          "1963-01-06 06:38:22",
          "1939-07-03 21:47:40",
          "1955-06-10 17:20:02",
          "1971-07-27 05:34:57",
          "1945-07-24 15:33:45",
          "1962-12-21 09:38:11",
          "1997-05-21 00:21:02",
          "1972-04-12 20:45:53",
          "2010-05-13 00:26:17",
          "1960-12-16 03:41:51",
          "2021-11-03 11:52:36",
          "1958-02-04 18:58:44",
          "1955-11-28 19:56:00",
          "1959-02-20 12:21:21",
          "1969-09-15 10:49:07",
          "2017-01-29 00:21:42",
          "2013-11-22 08:34:40",
          "1943-02-28 11:38:42",
          "1936-06-05 07:14:12",
          "1952-01-07 02:58:56",
          "2003-05-07 02:11:41",
          "1956-05-10 05:00:48",
          "1939-05-16 17:39:35",
          "1938-12-31 03:09:45",
          "1964-03-04 13:52:32",
          "1996-11-11 00:33:55",
          "1978-06-29 16:36:57",
          "2015-01-05 07:19:17",
          "1941-11-08 00:56:13",
          "1982-05-23 04:11:13",
          "1953-06-04 16:53:10",
          "1967-04-08 17:14:34",
          "1977-07-14 11:59:10",
          "1938-11-27 15:22:07",
          "2006-07-20 08:15:08",
          "1993-07-03 08:07:48",
          "1998-03-04 17:03:50",
          "1940-07-03 19:19:25",
          "2005-09-06 21:22:03",
          "2020-07-31 13:56:37",
          "1982-04-14 02:03:37",
          "1954-01-02 09:32:04",
          "1990-07-28 06:12:32",
          "2005-03-14 02:23:08",
          "2002-05-08 00:49:44",
          "2005-05-26 17:42:33",
          "2006-08-24 05:09:57",
          "2014-09-11 23:50:09",
          "1961-06-13 14:47:49",
          "1990-10-25 13:07:52",
          "1957-05-28 09:35:58",
          "2008-03-07 22:14:34",
          "1975-09-18 18:47:24",
          "1977-01-03 14:49:08",
          "2002-11-20 02:09:22",
          "1952-07-01 07:20:26",
          "1958-03-14 12:07:37",
          "2009-05-14 15:26:52",
          "1960-10-05 07:04:07",
          "1952-04-18 02:46:05",
          "1994-11-03 00:01:21",
          "1996-03-27 15:49:59",
          "2014-05-15 21:29:17",
          "1965-01-08 13:16:48",
          "1937-11-07 09:59:12",
          "2008-04-28 18:48:37",
          "1996-10-07 03:50:27",
          "1979-05-11 08:52:53",
          "1996-02-16 21:40:47",
          "1940-08-20 10:22:33",
          "1998-03-02 17:41:07",
          "2003-01-10 21:26:43",
          "1973-04-26 00:26:40",
          "1944-11-03 00:38:09",
          "1944-11-15 17:37:16",
          "1988-12-23 23:59:53",
          "1990-07-10 13:40:55",
          "1993-08-24 18:24:41",
          "1955-10-17 00:46:01",
          "1975-01-03 01:34:17",
          "2015-10-05 09:43:46",
          "1947-02-19 12:59:08",
          "1936-04-15 04:31:09",
          "2000-03-11 14:57:37",
          "1964-01-01 04:08:11",
          "1945-04-30 23:13:38",
          "1995-03-15 16:02:35",
          "1977-04-26 05:39:25",
          "1991-06-29 23:41:23",
          "1945-08-21 00:09:25",
          "1970-12-03 10:18:17",
          "1936-07-09 18:54:54",
          "2012-04-14 23:51:25",
          "1938-01-21 16:03:03",
          "2015-09-24 01:25:21",
          "1963-10-26 15:24:19",
          "2002-01-08 10:29:51",
          "2006-01-30 18:26:16",
          "1952-07-14 19:42:20",
          "2011-02-05 10:30:04",
          "1937-11-09 17:45:35",
          "1963-05-30 17:21:42",
          "1956-07-21 10:18:09",
          "1944-09-27 09:25:08",
          "1983-09-12 03:47:46",
          "1978-09-15 04:37:39",
          "1950-11-14 19:04:42",
          "2018-07-14 09:44:16",
          "1955-12-16 16:16:40",
          "1983-07-25 21:27:35",
          "2013-03-19 17:22:31"
         ],
         "xaxis": "x",
         "y": [
          27,
          68,
          10,
          30,
          49,
          5,
          13,
          9,
          35,
          41,
          22,
          22,
          50,
          70,
          15,
          34,
          15,
          55,
          25,
          43,
          29,
          27,
          36,
          20,
          7,
          32,
          47,
          28,
          64,
          41,
          53,
          43,
          60,
          8,
          37,
          69,
          4,
          1,
          64,
          24,
          2,
          20,
          65,
          56,
          53,
          70,
          16,
          68,
          6,
          9,
          28,
          34,
          32,
          50,
          52,
          35,
          55,
          37,
          69,
          38,
          51,
          6,
          64,
          39,
          25,
          2,
          9,
          32,
          74,
          2,
          74,
          46,
          45,
          6,
          29,
          69,
          74,
          24,
          7,
          14,
          24,
          15,
          46,
          14,
          46,
          8,
          6,
          8,
          19,
          53,
          70,
          68,
          62,
          31,
          17,
          67,
          54,
          57,
          44,
          29,
          48,
          13,
          5,
          55,
          1,
          68,
          24,
          63,
          27,
          35,
          73,
          74,
          30,
          57,
          36,
          70,
          39,
          48,
          50,
          66,
          24,
          63,
          22,
          14,
          63,
          25,
          32,
          27,
          55,
          48,
          33,
          13,
          72,
          21,
          13,
          74
         ],
         "yaxis": "y"
        }
       ],
       "layout": {
        "legend": {
         "title": {
          "text": "color"
         },
         "tracegroupgap": 0
        },
        "margin": {
         "t": 60
        },
        "template": {
         "data": {
          "bar": [
           {
            "error_x": {
             "color": "#2a3f5f"
            },
            "error_y": {
             "color": "#2a3f5f"
            },
            "marker": {
             "line": {
              "color": "#E5ECF6",
              "width": 0.5
             },
             "pattern": {
              "fillmode": "overlay",
              "size": 10,
              "solidity": 0.2
             }
            },
            "type": "bar"
           }
          ],
          "barpolar": [
           {
            "marker": {
             "line": {
              "color": "#E5ECF6",
              "width": 0.5
             },
             "pattern": {
              "fillmode": "overlay",
              "size": 10,
              "solidity": 0.2
             }
            },
            "type": "barpolar"
           }
          ],
          "carpet": [
           {
            "aaxis": {
             "endlinecolor": "#2a3f5f",
             "gridcolor": "white",
             "linecolor": "white",
             "minorgridcolor": "white",
             "startlinecolor": "#2a3f5f"
            },
            "baxis": {
             "endlinecolor": "#2a3f5f",
             "gridcolor": "white",
             "linecolor": "white",
             "minorgridcolor": "white",
             "startlinecolor": "#2a3f5f"
            },
            "type": "carpet"
           }
          ],
          "choropleth": [
           {
            "colorbar": {
             "outlinewidth": 0,
             "ticks": ""
            },
            "type": "choropleth"
           }
          ],
          "contour": [
           {
            "colorbar": {
             "outlinewidth": 0,
             "ticks": ""
            },
            "colorscale": [
             [
              0,
              "#0d0887"
             ],
             [
              0.1111111111111111,
              "#46039f"
             ],
             [
              0.2222222222222222,
              "#7201a8"
             ],
             [
              0.3333333333333333,
              "#9c179e"
             ],
             [
              0.4444444444444444,
              "#bd3786"
             ],
             [
              0.5555555555555556,
              "#d8576b"
             ],
             [
              0.6666666666666666,
              "#ed7953"
             ],
             [
              0.7777777777777778,
              "#fb9f3a"
             ],
             [
              0.8888888888888888,
              "#fdca26"
             ],
             [
              1,
              "#f0f921"
             ]
            ],
            "type": "contour"
           }
          ],
          "contourcarpet": [
           {
            "colorbar": {
             "outlinewidth": 0,
             "ticks": ""
            },
            "type": "contourcarpet"
           }
          ],
          "heatmap": [
           {
            "colorbar": {
             "outlinewidth": 0,
             "ticks": ""
            },
            "colorscale": [
             [
              0,
              "#0d0887"
             ],
             [
              0.1111111111111111,
              "#46039f"
             ],
             [
              0.2222222222222222,
              "#7201a8"
             ],
             [
              0.3333333333333333,
              "#9c179e"
             ],
             [
              0.4444444444444444,
              "#bd3786"
             ],
             [
              0.5555555555555556,
              "#d8576b"
             ],
             [
              0.6666666666666666,
              "#ed7953"
             ],
             [
              0.7777777777777778,
              "#fb9f3a"
             ],
             [
              0.8888888888888888,
              "#fdca26"
             ],
             [
              1,
              "#f0f921"
             ]
            ],
            "type": "heatmap"
           }
          ],
          "heatmapgl": [
           {
            "colorbar": {
             "outlinewidth": 0,
             "ticks": ""
            },
            "colorscale": [
             [
              0,
              "#0d0887"
             ],
             [
              0.1111111111111111,
              "#46039f"
             ],
             [
              0.2222222222222222,
              "#7201a8"
             ],
             [
              0.3333333333333333,
              "#9c179e"
             ],
             [
              0.4444444444444444,
              "#bd3786"
             ],
             [
              0.5555555555555556,
              "#d8576b"
             ],
             [
              0.6666666666666666,
              "#ed7953"
             ],
             [
              0.7777777777777778,
              "#fb9f3a"
             ],
             [
              0.8888888888888888,
              "#fdca26"
             ],
             [
              1,
              "#f0f921"
             ]
            ],
            "type": "heatmapgl"
           }
          ],
          "histogram": [
           {
            "marker": {
             "pattern": {
              "fillmode": "overlay",
              "size": 10,
              "solidity": 0.2
             }
            },
            "type": "histogram"
           }
          ],
          "histogram2d": [
           {
            "colorbar": {
             "outlinewidth": 0,
             "ticks": ""
            },
            "colorscale": [
             [
              0,
              "#0d0887"
             ],
             [
              0.1111111111111111,
              "#46039f"
             ],
             [
              0.2222222222222222,
              "#7201a8"
             ],
             [
              0.3333333333333333,
              "#9c179e"
             ],
             [
              0.4444444444444444,
              "#bd3786"
             ],
             [
              0.5555555555555556,
              "#d8576b"
             ],
             [
              0.6666666666666666,
              "#ed7953"
             ],
             [
              0.7777777777777778,
              "#fb9f3a"
             ],
             [
              0.8888888888888888,
              "#fdca26"
             ],
             [
              1,
              "#f0f921"
             ]
            ],
            "type": "histogram2d"
           }
          ],
          "histogram2dcontour": [
           {
            "colorbar": {
             "outlinewidth": 0,
             "ticks": ""
            },
            "colorscale": [
             [
              0,
              "#0d0887"
             ],
             [
              0.1111111111111111,
              "#46039f"
             ],
             [
              0.2222222222222222,
              "#7201a8"
             ],
             [
              0.3333333333333333,
              "#9c179e"
             ],
             [
              0.4444444444444444,
              "#bd3786"
             ],
             [
              0.5555555555555556,
              "#d8576b"
             ],
             [
              0.6666666666666666,
              "#ed7953"
             ],
             [
              0.7777777777777778,
              "#fb9f3a"
             ],
             [
              0.8888888888888888,
              "#fdca26"
             ],
             [
              1,
              "#f0f921"
             ]
            ],
            "type": "histogram2dcontour"
           }
          ],
          "mesh3d": [
           {
            "colorbar": {
             "outlinewidth": 0,
             "ticks": ""
            },
            "type": "mesh3d"
           }
          ],
          "parcoords": [
           {
            "line": {
             "colorbar": {
              "outlinewidth": 0,
              "ticks": ""
             }
            },
            "type": "parcoords"
           }
          ],
          "pie": [
           {
            "automargin": true,
            "type": "pie"
           }
          ],
          "scatter": [
           {
            "marker": {
             "colorbar": {
              "outlinewidth": 0,
              "ticks": ""
             }
            },
            "type": "scatter"
           }
          ],
          "scatter3d": [
           {
            "line": {
             "colorbar": {
              "outlinewidth": 0,
              "ticks": ""
             }
            },
            "marker": {
             "colorbar": {
              "outlinewidth": 0,
              "ticks": ""
             }
            },
            "type": "scatter3d"
           }
          ],
          "scattercarpet": [
           {
            "marker": {
             "colorbar": {
              "outlinewidth": 0,
              "ticks": ""
             }
            },
            "type": "scattercarpet"
           }
          ],
          "scattergeo": [
           {
            "marker": {
             "colorbar": {
              "outlinewidth": 0,
              "ticks": ""
             }
            },
            "type": "scattergeo"
           }
          ],
          "scattergl": [
           {
            "marker": {
             "colorbar": {
              "outlinewidth": 0,
              "ticks": ""
             }
            },
            "type": "scattergl"
           }
          ],
          "scattermapbox": [
           {
            "marker": {
             "colorbar": {
              "outlinewidth": 0,
              "ticks": ""
             }
            },
            "type": "scattermapbox"
           }
          ],
          "scatterpolar": [
           {
            "marker": {
             "colorbar": {
              "outlinewidth": 0,
              "ticks": ""
             }
            },
            "type": "scatterpolar"
           }
          ],
          "scatterpolargl": [
           {
            "marker": {
             "colorbar": {
              "outlinewidth": 0,
              "ticks": ""
             }
            },
            "type": "scatterpolargl"
           }
          ],
          "scatterternary": [
           {
            "marker": {
             "colorbar": {
              "outlinewidth": 0,
              "ticks": ""
             }
            },
            "type": "scatterternary"
           }
          ],
          "surface": [
           {
            "colorbar": {
             "outlinewidth": 0,
             "ticks": ""
            },
            "colorscale": [
             [
              0,
              "#0d0887"
             ],
             [
              0.1111111111111111,
              "#46039f"
             ],
             [
              0.2222222222222222,
              "#7201a8"
             ],
             [
              0.3333333333333333,
              "#9c179e"
             ],
             [
              0.4444444444444444,
              "#bd3786"
             ],
             [
              0.5555555555555556,
              "#d8576b"
             ],
             [
              0.6666666666666666,
              "#ed7953"
             ],
             [
              0.7777777777777778,
              "#fb9f3a"
             ],
             [
              0.8888888888888888,
              "#fdca26"
             ],
             [
              1,
              "#f0f921"
             ]
            ],
            "type": "surface"
           }
          ],
          "table": [
           {
            "cells": {
             "fill": {
              "color": "#EBF0F8"
             },
             "line": {
              "color": "white"
             }
            },
            "header": {
             "fill": {
              "color": "#C8D4E3"
             },
             "line": {
              "color": "white"
             }
            },
            "type": "table"
           }
          ]
         },
         "layout": {
          "annotationdefaults": {
           "arrowcolor": "#2a3f5f",
           "arrowhead": 0,
           "arrowwidth": 1
          },
          "autotypenumbers": "strict",
          "coloraxis": {
           "colorbar": {
            "outlinewidth": 0,
            "ticks": ""
           }
          },
          "colorscale": {
           "diverging": [
            [
             0,
             "#8e0152"
            ],
            [
             0.1,
             "#c51b7d"
            ],
            [
             0.2,
             "#de77ae"
            ],
            [
             0.3,
             "#f1b6da"
            ],
            [
             0.4,
             "#fde0ef"
            ],
            [
             0.5,
             "#f7f7f7"
            ],
            [
             0.6,
             "#e6f5d0"
            ],
            [
             0.7,
             "#b8e186"
            ],
            [
             0.8,
             "#7fbc41"
            ],
            [
             0.9,
             "#4d9221"
            ],
            [
             1,
             "#276419"
            ]
           ],
           "sequential": [
            [
             0,
             "#0d0887"
            ],
            [
             0.1111111111111111,
             "#46039f"
            ],
            [
             0.2222222222222222,
             "#7201a8"
            ],
            [
             0.3333333333333333,
             "#9c179e"
            ],
            [
             0.4444444444444444,
             "#bd3786"
            ],
            [
             0.5555555555555556,
             "#d8576b"
            ],
            [
             0.6666666666666666,
             "#ed7953"
            ],
            [
             0.7777777777777778,
             "#fb9f3a"
            ],
            [
             0.8888888888888888,
             "#fdca26"
            ],
            [
             1,
             "#f0f921"
            ]
           ],
           "sequentialminus": [
            [
             0,
             "#0d0887"
            ],
            [
             0.1111111111111111,
             "#46039f"
            ],
            [
             0.2222222222222222,
             "#7201a8"
            ],
            [
             0.3333333333333333,
             "#9c179e"
            ],
            [
             0.4444444444444444,
             "#bd3786"
            ],
            [
             0.5555555555555556,
             "#d8576b"
            ],
            [
             0.6666666666666666,
             "#ed7953"
            ],
            [
             0.7777777777777778,
             "#fb9f3a"
            ],
            [
             0.8888888888888888,
             "#fdca26"
            ],
            [
             1,
             "#f0f921"
            ]
           ]
          },
          "colorway": [
           "#636efa",
           "#EF553B",
           "#00cc96",
           "#ab63fa",
           "#FFA15A",
           "#19d3f3",
           "#FF6692",
           "#B6E880",
           "#FF97FF",
           "#FECB52"
          ],
          "font": {
           "color": "#2a3f5f"
          },
          "geo": {
           "bgcolor": "white",
           "lakecolor": "white",
           "landcolor": "#E5ECF6",
           "showlakes": true,
           "showland": true,
           "subunitcolor": "white"
          },
          "hoverlabel": {
           "align": "left"
          },
          "hovermode": "closest",
          "mapbox": {
           "style": "light"
          },
          "paper_bgcolor": "white",
          "plot_bgcolor": "#E5ECF6",
          "polar": {
           "angularaxis": {
            "gridcolor": "white",
            "linecolor": "white",
            "ticks": ""
           },
           "bgcolor": "#E5ECF6",
           "radialaxis": {
            "gridcolor": "white",
            "linecolor": "white",
            "ticks": ""
           }
          },
          "scene": {
           "xaxis": {
            "backgroundcolor": "#E5ECF6",
            "gridcolor": "white",
            "gridwidth": 2,
            "linecolor": "white",
            "showbackground": true,
            "ticks": "",
            "zerolinecolor": "white"
           },
           "yaxis": {
            "backgroundcolor": "#E5ECF6",
            "gridcolor": "white",
            "gridwidth": 2,
            "linecolor": "white",
            "showbackground": true,
            "ticks": "",
            "zerolinecolor": "white"
           },
           "zaxis": {
            "backgroundcolor": "#E5ECF6",
            "gridcolor": "white",
            "gridwidth": 2,
            "linecolor": "white",
            "showbackground": true,
            "ticks": "",
            "zerolinecolor": "white"
           }
          },
          "shapedefaults": {
           "line": {
            "color": "#2a3f5f"
           }
          },
          "ternary": {
           "aaxis": {
            "gridcolor": "white",
            "linecolor": "white",
            "ticks": ""
           },
           "baxis": {
            "gridcolor": "white",
            "linecolor": "white",
            "ticks": ""
           },
           "bgcolor": "#E5ECF6",
           "caxis": {
            "gridcolor": "white",
            "linecolor": "white",
            "ticks": ""
           }
          },
          "title": {
           "x": 0.05
          },
          "xaxis": {
           "automargin": true,
           "gridcolor": "white",
           "linecolor": "white",
           "ticks": "",
           "title": {
            "standoff": 15
           },
           "zerolinecolor": "white",
           "zerolinewidth": 2
          },
          "yaxis": {
           "automargin": true,
           "gridcolor": "white",
           "linecolor": "white",
           "ticks": "",
           "title": {
            "standoff": 15
           },
           "zerolinecolor": "white",
           "zerolinewidth": 2
          }
         }
        },
        "xaxis": {
         "anchor": "y",
         "domain": [
          0,
          1
         ],
         "title": {
          "text": "x"
         }
        },
        "yaxis": {
         "anchor": "x",
         "domain": [
          0,
          1
         ],
         "title": {
          "text": "y"
         }
        }
       }
      }
     },
     "metadata": {},
     "output_type": "display_data"
    }
   ],
   "source": [
    "fig = px.scatter(x=df.date, y=df.files, color=df.file_type)\n",
    "fig.show()"
   ]
  }
 ],
 "metadata": {
  "interpreter": {
   "hash": "aee8b7b246df8f9039afb4144a1f6fd8d2ca17a180786b69acc140d282b71a49"
  },
  "kernelspec": {
   "display_name": "Python 3.10.0 64-bit",
   "language": "python",
   "name": "python3"
  },
  "language_info": {
   "codemirror_mode": {
    "name": "ipython",
    "version": 3
   },
   "file_extension": ".py",
   "mimetype": "text/x-python",
   "name": "python",
   "nbconvert_exporter": "python",
   "pygments_lexer": "ipython3",
   "version": "3.10.0"
  },
  "orig_nbformat": 4
 },
 "nbformat": 4,
 "nbformat_minor": 2
}
